{
 "cells": [
  {
   "cell_type": "markdown",
   "id": "137b95e1-6848-4673-8ca4-e087f7a1e0bc",
   "metadata": {},
   "source": [
    "# Changing Paths in the Terminal\n",
    "\n",
    "## Introduction\n",
    "\n",
    "In this tutorial, we will learn how to navigate and change directories using the `cd` command in the terminal. Understanding how to change paths is essential for efficient file management and navigation within your computer's file system.\n",
    "\n",
    "## The `cd` Command\n",
    "\n",
    "The primary command for changing directories in the terminal is `cd`, which stands for \"change directory.\" To use it, follow these basic steps:\n",
    "\n",
    "1. Type `cd`, followed by a space.\n",
    "2. Enter the name of the directory you want to navigate to.\n",
    "\n",
    "### Example 1: Changing to a Directory\n",
    "\n",
    "Suppose you wanted to access the \"TESTFOLDER\" that is in the same folder as this notebook. You can use the following command:"
   ]
  },
  {
   "cell_type": "code",
   "execution_count": null,
   "id": "b0d2f3b0-532b-4543-93ce-1bbd5ba30921",
   "metadata": {},
   "outputs": [],
   "source": [
    "cd TESTFOLDER"
   ]
  },
  {
   "cell_type": "markdown",
   "id": "39e7f8d5-ece3-4f70-9fca-cc8ca29c2f64",
   "metadata": {},
   "source": [
    "### Example 2: Navigating to a Nested Directory\n",
    "\n",
    "If you have a directory nested within another directory and want to access it, you need to specify the complete path from the parent directory to the sub-directory. For instance, there is \"TESTFOLDER1\" inside our \"TESTFOLDER\" folder. To access it while you have \"TESTFOLDER\" selected, use the following command:"
   ]
  },
  {
   "cell_type": "code",
   "execution_count": null,
   "id": "1f55a264-00b6-47f9-8e11-bc8f3f95a1ee",
   "metadata": {},
   "outputs": [],
   "source": [
    "cd TESTFOLDER1"
   ]
  },
  {
   "cell_type": "markdown",
   "id": "c9411c18-7aa2-44ee-967c-dc88ff0f7fcd",
   "metadata": {},
   "source": [
    "If at any point you wish to see the total file path of your current directory, you can use the following command to see it:"
   ]
  },
  {
   "cell_type": "code",
   "execution_count": null,
   "id": "5d27d778-88de-450d-80cf-853da12d01c0",
   "metadata": {},
   "outputs": [],
   "source": [
    "pwd"
   ]
  },
  {
   "cell_type": "markdown",
   "id": "76ddd485-337d-4b44-ba1d-8e312d86f61e",
   "metadata": {
    "tags": []
   },
   "source": [
    "## The Tilde (~) Shortcut\n",
    "\n",
    "The tilde (~) is a handy shortcut to represent the home directory of the current user. You can use it to jump quickly to your home directory or navigate from a nested directory to a different parent directory.\n",
    "\n",
    "### Example 3: Moving to the Home Directory\n",
    "To return to your home directory from anywhere, use the following command:"
   ]
  },
  {
   "cell_type": "code",
   "execution_count": null,
   "id": "1b83b7fa-d267-4e8f-b336-7a28f7638197",
   "metadata": {},
   "outputs": [],
   "source": [
    "cd ~"
   ]
  },
  {
   "cell_type": "markdown",
   "id": "1160ea27-1c1d-49eb-8470-625d4d9501d5",
   "metadata": {},
   "source": [
    "Now that you're at your home directory, let's get back to our working folder. Using what you now know about the cd command and the printed out path you made using the pwd command, call for \"TESTFOLDER1\".\n",
    "\n",
    "Hint: it should look something like this--\n",
    "\n",
    "cd Desktop/ChangingPaths/TESTFOLDER/TESTFOLDER1"
   ]
  },
  {
   "cell_type": "code",
   "execution_count": null,
   "id": "c332f92e-8947-4b1e-8cb6-689805e6cabe",
   "metadata": {},
   "outputs": [],
   "source": []
  },
  {
   "cell_type": "markdown",
   "id": "f79a5ee9-9271-44bb-ac96-6d14a3543411",
   "metadata": {},
   "source": [
    "## Moving Up One Directory\n",
    "\n",
    "To move from a directory to its parent directory, use the \"cd ..\" command.\n",
    "\n",
    "### Example 4: Moving Up One Directory\n",
    "With TESTFOLDER1 currently selected, let's go back up one level to TESTFOLDER."
   ]
  },
  {
   "cell_type": "code",
   "execution_count": null,
   "id": "f4d0bc3e-c0b4-40ae-b2d8-980581311445",
   "metadata": {},
   "outputs": [],
   "source": [
    "cd .."
   ]
  },
  {
   "cell_type": "markdown",
   "id": "8c3be1fc-93f4-48d6-b0f1-b24c14d051b5",
   "metadata": {},
   "source": [
    "## Selecting Sibling Directories\n",
    "\n",
    "You can use the cd ../ command to access sibling directories, which are different directories that share the same parent directory as the currently selected directory.\n",
    "\n",
    "### Example 5: Accessing a Sibling Directory\n",
    "Suppose you TESTFOLDER1 and wish to go to TESTFOLDER2. Let's first go get to our starting point in TESTFOLDER1:"
   ]
  },
  {
   "cell_type": "code",
   "execution_count": null,
   "id": "e8fc0fde-ea55-4f27-93ad-eed601b97954",
   "metadata": {},
   "outputs": [],
   "source": [
    "cd TESTFOLDER1"
   ]
  },
  {
   "cell_type": "markdown",
   "id": "1f90abbb-299c-496d-9cfd-e32c317fea0b",
   "metadata": {},
   "source": [
    "Now execute this code to jump to TESTFOLDER2"
   ]
  },
  {
   "cell_type": "code",
   "execution_count": null,
   "id": "1e7bc52f-4968-4241-9158-7bd19fb91cff",
   "metadata": {},
   "outputs": [],
   "source": [
    "cd ../TESTFOLDER2"
   ]
  },
  {
   "cell_type": "markdown",
   "id": "6c2eb3d8-c5bc-4e12-97a8-8252c9c7163c",
   "metadata": {},
   "source": [
    "## Listing Directory Contents\n",
    "\n",
    "To list the contents of a directory within your Jupyter Notebook's top-level folder, use the ls command, which stands for \"list.\"\n",
    "\n",
    "### Example 6: Listing Contents of a Directory:\n",
    "First let's return to the base TESTFOLDER:"
   ]
  },
  {
   "cell_type": "code",
   "execution_count": null,
   "id": "c94c28c5-f9ac-4acd-bde0-96f0278299b6",
   "metadata": {},
   "outputs": [],
   "source": [
    "cd .."
   ]
  },
  {
   "cell_type": "markdown",
   "id": "01867b90-be17-4c4c-a286-05e550b27e01",
   "metadata": {},
   "source": [
    "To list all the subdirectories and files within the currently selected directory, simply use:"
   ]
  },
  {
   "cell_type": "code",
   "execution_count": null,
   "id": "c5eafa18-5a0b-4a91-8a44-d63dddc88543",
   "metadata": {},
   "outputs": [],
   "source": [
    "ls"
   ]
  },
  {
   "cell_type": "code",
   "execution_count": null,
   "id": "633081bb-67dd-40bf-aaf4-ef5ee0b17bb9",
   "metadata": {},
   "outputs": [],
   "source": [
    "ls TESTFOLDER1"
   ]
  },
  {
   "cell_type": "markdown",
   "id": "4a010777-d2ba-45eb-89fd-c4af84fbacd1",
   "metadata": {},
   "source": [
    "If you want to list the contents of a specific directory or path, provide the directory or path as an argument to the ls command. For example, let's go back to our home directory:"
   ]
  },
  {
   "cell_type": "code",
   "execution_count": null,
   "id": "d4088370-2358-4249-b839-ce4ea5ad408e",
   "metadata": {},
   "outputs": [],
   "source": [
    "cd .."
   ]
  },
  {
   "cell_type": "markdown",
   "id": "df276405-0ccd-4040-a056-7e373b422c9c",
   "metadata": {},
   "source": [
    "Now look up the list of items in TESTFOLDER1A in one line of code.\n",
    "Hint: The code should start with this--\n",
    "\n",
    "ls TESTFOLDER/TESTFOLDER1"
   ]
  },
  {
   "cell_type": "code",
   "execution_count": null,
   "id": "417c6cc9-e667-45b8-a3da-e363f4c8035f",
   "metadata": {},
   "outputs": [],
   "source": []
  }
 ],
 "metadata": {
  "kernelspec": {
   "display_name": "Python 3 (ipykernel)",
   "language": "python",
   "name": "python3"
  },
  "language_info": {
   "codemirror_mode": {
    "name": "ipython",
    "version": 3
   },
   "file_extension": ".py",
   "mimetype": "text/x-python",
   "name": "python",
   "nbconvert_exporter": "python",
   "pygments_lexer": "ipython3",
   "version": "3.10.9"
  }
 },
 "nbformat": 4,
 "nbformat_minor": 5
}
