{
 "cells": [
  {
   "cell_type": "markdown",
   "id": "f32681ef",
   "metadata": {},
   "source": [
    "# Merge CSV files based on a shared column"
   ]
  },
  {
   "cell_type": "markdown",
   "id": "c100ed5e",
   "metadata": {},
   "source": [
    "Purpose: This script will allow us to take two CSV files and combine them using a shared key."
   ]
  },
  {
   "cell_type": "markdown",
   "id": "fccb950e",
   "metadata": {},
   "source": [
    "## 1. Import modules"
   ]
  },
  {
   "cell_type": "code",
   "execution_count": 7,
   "id": "6d50b320",
   "metadata": {},
   "outputs": [],
   "source": [
    "import pandas as pd"
   ]
  },
  {
   "cell_type": "markdown",
   "id": "af85e6b1",
   "metadata": {},
   "source": [
    "## 2. Read the two CSV files and convert them to pandas DataFrames"
   ]
  },
  {
   "cell_type": "code",
   "execution_count": 9,
   "id": "0a3c9a73",
   "metadata": {},
   "outputs": [],
   "source": [
    "df1 = pd.read_csv('sample-csvs/metadata-missing-imageLinks.csv')\n",
    "df2 = pd.read_csv('sample-csvs/imageLinks.csv')"
   ]
  },
  {
   "cell_type": "markdown",
   "id": "eac5b6be",
   "metadata": {},
   "source": [
    "Let's take a look at the CSVs"
   ]
  },
  {
   "cell_type": "code",
   "execution_count": 3,
   "id": "facd9bca",
   "metadata": {},
   "outputs": [
    {
     "data": {
      "text/html": [
       "<div>\n",
       "<style scoped>\n",
       "    .dataframe tbody tr th:only-of-type {\n",
       "        vertical-align: middle;\n",
       "    }\n",
       "\n",
       "    .dataframe tbody tr th {\n",
       "        vertical-align: top;\n",
       "    }\n",
       "\n",
       "    .dataframe thead th {\n",
       "        text-align: right;\n",
       "    }\n",
       "</style>\n",
       "<table border=\"1\" class=\"dataframe\">\n",
       "  <thead>\n",
       "    <tr style=\"text-align: right;\">\n",
       "      <th></th>\n",
       "      <th>Title</th>\n",
       "      <th>Manifest</th>\n",
       "    </tr>\n",
       "  </thead>\n",
       "  <tbody>\n",
       "    <tr>\n",
       "      <th>0</th>\n",
       "      <td>Basement structures in Ohio</td>\n",
       "      <td>https://library.osu.edu/dc/concern/generic_wor...</td>\n",
       "    </tr>\n",
       "    <tr>\n",
       "      <th>1</th>\n",
       "      <td>Bedrock geology of the Flint Ridge area, Licki...</td>\n",
       "      <td>https://library.osu.edu/dc/concern/generic_wor...</td>\n",
       "    </tr>\n",
       "    <tr>\n",
       "      <th>2</th>\n",
       "      <td>Bouguer anomalies in Ohio</td>\n",
       "      <td>https://library.osu.edu/dc/concern/generic_wor...</td>\n",
       "    </tr>\n",
       "  </tbody>\n",
       "</table>\n",
       "</div>"
      ],
      "text/plain": [
       "                                               Title  \\\n",
       "0                        Basement structures in Ohio   \n",
       "1  Bedrock geology of the Flint Ridge area, Licki...   \n",
       "2                          Bouguer anomalies in Ohio   \n",
       "\n",
       "                                            Manifest  \n",
       "0  https://library.osu.edu/dc/concern/generic_wor...  \n",
       "1  https://library.osu.edu/dc/concern/generic_wor...  \n",
       "2  https://library.osu.edu/dc/concern/generic_wor...  "
      ]
     },
     "execution_count": 3,
     "metadata": {},
     "output_type": "execute_result"
    }
   ],
   "source": [
    "df1.head(3)"
   ]
  },
  {
   "cell_type": "markdown",
   "id": "dba5a455",
   "metadata": {},
   "source": [
    "The columns are being truncated and are hard to read. The following code fixes that:"
   ]
  },
  {
   "cell_type": "code",
   "execution_count": 12,
   "id": "c614c0f5",
   "metadata": {},
   "outputs": [],
   "source": [
    "pd.set_option('display.max_colwidth', None) "
   ]
  },
  {
   "cell_type": "markdown",
   "id": "8430326e",
   "metadata": {},
   "source": [
    "Let's take a look at the CSVs again. Both files have a column called `Manifest`. However, they are not in the same order."
   ]
  },
  {
   "cell_type": "code",
   "execution_count": 15,
   "id": "d0b8a98e",
   "metadata": {},
   "outputs": [
    {
     "data": {
      "text/html": [
       "<div>\n",
       "<style scoped>\n",
       "    .dataframe tbody tr th:only-of-type {\n",
       "        vertical-align: middle;\n",
       "    }\n",
       "\n",
       "    .dataframe tbody tr th {\n",
       "        vertical-align: top;\n",
       "    }\n",
       "\n",
       "    .dataframe thead th {\n",
       "        text-align: right;\n",
       "    }\n",
       "</style>\n",
       "<table border=\"1\" class=\"dataframe\">\n",
       "  <thead>\n",
       "    <tr style=\"text-align: right;\">\n",
       "      <th></th>\n",
       "      <th>Title</th>\n",
       "      <th>Manifest</th>\n",
       "    </tr>\n",
       "  </thead>\n",
       "  <tbody>\n",
       "    <tr>\n",
       "      <th>0</th>\n",
       "      <td>Basement structures in Ohio</td>\n",
       "      <td>https://library.osu.edu/dc/concern/generic_works/hq37w186h/manifest.json</td>\n",
       "    </tr>\n",
       "    <tr>\n",
       "      <th>1</th>\n",
       "      <td>Bedrock geology of the Flint Ridge area, Licking and Muskingum Counties, Ohio</td>\n",
       "      <td>https://library.osu.edu/dc/concern/generic_works/05742538x/manifest.json</td>\n",
       "    </tr>\n",
       "    <tr>\n",
       "      <th>2</th>\n",
       "      <td>Bouguer anomalies in Ohio</td>\n",
       "      <td>https://library.osu.edu/dc/concern/generic_works/cc08hv396/manifest.json</td>\n",
       "    </tr>\n",
       "  </tbody>\n",
       "</table>\n",
       "</div>"
      ],
      "text/plain": [
       "                                                                           Title  \\\n",
       "0                                                    Basement structures in Ohio   \n",
       "1  Bedrock geology of the Flint Ridge area, Licking and Muskingum Counties, Ohio   \n",
       "2                                                      Bouguer anomalies in Ohio   \n",
       "\n",
       "                                                                   Manifest  \n",
       "0  https://library.osu.edu/dc/concern/generic_works/hq37w186h/manifest.json  \n",
       "1  https://library.osu.edu/dc/concern/generic_works/05742538x/manifest.json  \n",
       "2  https://library.osu.edu/dc/concern/generic_works/cc08hv396/manifest.json  "
      ]
     },
     "execution_count": 15,
     "metadata": {},
     "output_type": "execute_result"
    }
   ],
   "source": [
    "df1.head(3)"
   ]
  },
  {
   "cell_type": "code",
   "execution_count": 17,
   "id": "4207755f",
   "metadata": {},
   "outputs": [
    {
     "data": {
      "text/html": [
       "<div>\n",
       "<style scoped>\n",
       "    .dataframe tbody tr th:only-of-type {\n",
       "        vertical-align: middle;\n",
       "    }\n",
       "\n",
       "    .dataframe tbody tr th {\n",
       "        vertical-align: top;\n",
       "    }\n",
       "\n",
       "    .dataframe thead th {\n",
       "        text-align: right;\n",
       "    }\n",
       "</style>\n",
       "<table border=\"1\" class=\"dataframe\">\n",
       "  <thead>\n",
       "    <tr style=\"text-align: right;\">\n",
       "      <th></th>\n",
       "      <th>Manifest</th>\n",
       "      <th>Image</th>\n",
       "    </tr>\n",
       "  </thead>\n",
       "  <tbody>\n",
       "    <tr>\n",
       "      <th>0</th>\n",
       "      <td>https://library.osu.edu/dc/concern/generic_works/cc08hv396/manifest.json</td>\n",
       "      <td>https://library.osu.edu/dc/downloads/1257b6246?file=thumbnail</td>\n",
       "    </tr>\n",
       "    <tr>\n",
       "      <th>1</th>\n",
       "      <td>https://library.osu.edu/dc/concern/generic_works/05742538x/manifest.json</td>\n",
       "      <td>https://library.osu.edu/dc/downloads/6w924r993?file=thumbnail</td>\n",
       "    </tr>\n",
       "    <tr>\n",
       "      <th>2</th>\n",
       "      <td>https://library.osu.edu/dc/concern/generic_works/hq37w186h/manifest.json</td>\n",
       "      <td>https://library.osu.edu/dc/downloads/zc77t401n?file=thumbnail</td>\n",
       "    </tr>\n",
       "  </tbody>\n",
       "</table>\n",
       "</div>"
      ],
      "text/plain": [
       "                                                                   Manifest  \\\n",
       "0  https://library.osu.edu/dc/concern/generic_works/cc08hv396/manifest.json   \n",
       "1  https://library.osu.edu/dc/concern/generic_works/05742538x/manifest.json   \n",
       "2  https://library.osu.edu/dc/concern/generic_works/hq37w186h/manifest.json   \n",
       "\n",
       "                                                           Image  \n",
       "0  https://library.osu.edu/dc/downloads/1257b6246?file=thumbnail  \n",
       "1  https://library.osu.edu/dc/downloads/6w924r993?file=thumbnail  \n",
       "2  https://library.osu.edu/dc/downloads/zc77t401n?file=thumbnail  "
      ]
     },
     "execution_count": 17,
     "metadata": {},
     "output_type": "execute_result"
    }
   ],
   "source": [
    "df2.head(3)"
   ]
  },
  {
   "cell_type": "markdown",
   "id": "b1e7d0df",
   "metadata": {},
   "source": [
    "## 3. Merge the files\n",
    "\n",
    "We want a single CSV that has all three columns for `Title`, `Manifest`, and `Image`. For this task, we can call the pandas function `merge` and specify the column `manifest` as the matching field."
   ]
  },
  {
   "cell_type": "code",
   "execution_count": 19,
   "id": "f02e78a6",
   "metadata": {},
   "outputs": [],
   "source": [
    "# Merge the two dataframes based on the \"Manifest\" column\n",
    "merged_df = pd.merge(df1, df2, on='Manifest')"
   ]
  },
  {
   "cell_type": "code",
   "execution_count": 8,
   "id": "f9507db0",
   "metadata": {},
   "outputs": [
    {
     "data": {
      "text/html": [
       "<div>\n",
       "<style scoped>\n",
       "    .dataframe tbody tr th:only-of-type {\n",
       "        vertical-align: middle;\n",
       "    }\n",
       "\n",
       "    .dataframe tbody tr th {\n",
       "        vertical-align: top;\n",
       "    }\n",
       "\n",
       "    .dataframe thead th {\n",
       "        text-align: right;\n",
       "    }\n",
       "</style>\n",
       "<table border=\"1\" class=\"dataframe\">\n",
       "  <thead>\n",
       "    <tr style=\"text-align: right;\">\n",
       "      <th></th>\n",
       "      <th>Title</th>\n",
       "      <th>Manifest</th>\n",
       "      <th>Image</th>\n",
       "    </tr>\n",
       "  </thead>\n",
       "  <tbody>\n",
       "    <tr>\n",
       "      <th>0</th>\n",
       "      <td>Basement structures in Ohio</td>\n",
       "      <td>https://library.osu.edu/dc/concern/generic_works/hq37w186h/manifest.json</td>\n",
       "      <td>https://library.osu.edu/dc/downloads/zc77t401n?file=thumbnail</td>\n",
       "    </tr>\n",
       "    <tr>\n",
       "      <th>1</th>\n",
       "      <td>Bedrock geology of the Flint Ridge area, Licking and Muskingum Counties, Ohio</td>\n",
       "      <td>https://library.osu.edu/dc/concern/generic_works/05742538x/manifest.json</td>\n",
       "      <td>https://library.osu.edu/dc/downloads/6w924r993?file=thumbnail</td>\n",
       "    </tr>\n",
       "    <tr>\n",
       "      <th>2</th>\n",
       "      <td>Bouguer anomalies in Ohio</td>\n",
       "      <td>https://library.osu.edu/dc/concern/generic_works/cc08hv396/manifest.json</td>\n",
       "      <td>https://library.osu.edu/dc/downloads/1257b6246?file=thumbnail</td>\n",
       "    </tr>\n",
       "  </tbody>\n",
       "</table>\n",
       "</div>"
      ],
      "text/plain": [
       "                                                                           Title  \\\n",
       "0                                                    Basement structures in Ohio   \n",
       "1  Bedrock geology of the Flint Ridge area, Licking and Muskingum Counties, Ohio   \n",
       "2                                                      Bouguer anomalies in Ohio   \n",
       "\n",
       "                                                                   Manifest  \\\n",
       "0  https://library.osu.edu/dc/concern/generic_works/hq37w186h/manifest.json   \n",
       "1  https://library.osu.edu/dc/concern/generic_works/05742538x/manifest.json   \n",
       "2  https://library.osu.edu/dc/concern/generic_works/cc08hv396/manifest.json   \n",
       "\n",
       "                                                           Image  \n",
       "0  https://library.osu.edu/dc/downloads/zc77t401n?file=thumbnail  \n",
       "1  https://library.osu.edu/dc/downloads/6w924r993?file=thumbnail  \n",
       "2  https://library.osu.edu/dc/downloads/1257b6246?file=thumbnail  "
      ]
     },
     "execution_count": 8,
     "metadata": {},
     "output_type": "execute_result"
    }
   ],
   "source": [
    "merged_df.head(3)"
   ]
  },
  {
   "cell_type": "code",
   "execution_count": 10,
   "id": "4b97d527",
   "metadata": {},
   "outputs": [],
   "source": [
    "# Write the merged dataframe to a new CSV file\n",
    "merged_df.to_csv('merged_file.csv', index=False)"
   ]
  },
  {
   "cell_type": "markdown",
   "id": "6a28f3f1",
   "metadata": {},
   "source": [
    "Look for the CSV file in this directory and inspect it in a text or spreadsheet editor."
   ]
  }
 ],
 "metadata": {
  "kernelspec": {
   "display_name": "Python 3 (ipykernel)",
   "language": "python",
   "name": "python3"
  },
  "language_info": {
   "codemirror_mode": {
    "name": "ipython",
    "version": 3
   },
   "file_extension": ".py",
   "mimetype": "text/x-python",
   "name": "python",
   "nbconvert_exporter": "python",
   "pygments_lexer": "ipython3",
   "version": "3.12.4"
  }
 },
 "nbformat": 4,
 "nbformat_minor": 5
}
