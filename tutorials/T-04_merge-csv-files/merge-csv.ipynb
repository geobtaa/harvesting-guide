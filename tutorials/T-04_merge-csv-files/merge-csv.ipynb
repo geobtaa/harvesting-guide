{
 "cells": [
  {
   "cell_type": "code",
   "execution_count": null,
   "id": "60c578f0",
   "metadata": {},
   "outputs": [],
   "source": [
    "import pandas as pd"
   ]
  },
  {
   "cell_type": "code",
   "execution_count": null,
   "id": "cb4475c0",
   "metadata": {},
   "outputs": [],
   "source": [
    "def sync_csvs(csv_a_path, csv_b_path, output_csv_path):\n",
    "    # Load CSV A and B into DataFrames\n",
    "    df_a = pd.read_csv(csv_a_path)\n",
    "    df_b = pd.read_csv(csv_b_path)\n",
    "\n",
    "    # Merge the two DataFrames based on the \"ID\" field\n",
    "    # Update values from B to A where IDs match\n",
    "    df_merged = pd.merge(df_a, df_b, on='ID', how='left', suffixes=('', '_from_b'))\n",
    "\n",
    "    # Loop through columns from DataFrame B to update DataFrame A\n",
    "    for column in df_b.columns:\n",
    "        if column == \"ID\":\n",
    "            continue  # Skip the ID column as it's the key field\n",
    "\n",
    "        if f\"{column}_from_b\" in df_merged.columns:\n",
    "            # Update the values in A with those in B for matching IDs\n",
    "            df_merged[column].update(df_merged[f\"{column}_from_b\"])\n",
    "            # Drop the extra column created due to suffix\n",
    "            df_merged.drop(f\"{column}_from_b\", axis=1, inplace=True)\n",
    "        else:\n",
    "            # If the column exists in B but not in A, add it to A\n",
    "            df_merged[column] = df_b[column]\n",
    "\n",
    "    # Save the updated DataFrame to a new CSV file\n",
    "    df_merged.to_csv(output_csv_path, index=False)\n",
    "\n",
    "if __name__ == \"__main__\":\n",
    "    csv_a_path = 'CSV_A.csv'  # Replace with the path to your CSV A\n",
    "    csv_b_path = 'CSV_B.csv'  # Replace with the path to your CSV B\n",
    "    output_csv_path = 'CSV_A_Synced.csv'  # Replace with the path where you want the synced CSV to be saved\n",
    "\n",
    "    sync_csvs(csv_a_path, csv_b_path, output_csv_path)\n",
    "    print(\"CSV files have been successfully synced! 😊\")\n"
   ]
  }
 ],
 "metadata": {
  "kernelspec": {
   "display_name": "Python 3 (ipykernel)",
   "language": "python",
   "name": "python3"
  },
  "language_info": {
   "codemirror_mode": {
    "name": "ipython",
    "version": 3
   },
   "file_extension": ".py",
   "mimetype": "text/x-python",
   "name": "python",
   "nbconvert_exporter": "python",
   "pygments_lexer": "ipython3",
   "version": "3.10.12"
  }
 },
 "nbformat": 4,
 "nbformat_minor": 5
}
