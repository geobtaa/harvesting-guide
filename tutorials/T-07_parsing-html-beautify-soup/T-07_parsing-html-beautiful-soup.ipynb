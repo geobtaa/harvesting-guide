{
 "cells": [
  {
   "cell_type": "markdown",
   "id": "bbb761a5",
   "metadata": {},
   "source": [
    "# Parsing HTML with Beautiful Soup\n",
    "\n",
    "Purpose: To install the Beautiful Soup module and run basic parsing functions."
   ]
  },
  {
   "cell_type": "markdown",
   "id": "622618c6",
   "metadata": {},
   "source": [
    "## Step 1: Installation\n",
    "To begin, you need to install Beautiful Soup. You can do this by running the following command in a code cell or the terminal:"
   ]
  },
  {
   "cell_type": "code",
   "execution_count": 3,
   "id": "f60b6325",
   "metadata": {},
   "outputs": [
    {
     "ename": "NameError",
     "evalue": "name 'OR' is not defined",
     "output_type": "error",
     "traceback": [
      "\u001b[0;31m---------------------------------------------------------------------------\u001b[0m",
      "\u001b[0;31mNameError\u001b[0m                                 Traceback (most recent call last)",
      "Cell \u001b[0;32mIn[3], line 3\u001b[0m\n\u001b[1;32m      1\u001b[0m \u001b[38;5;66;03m# pip install beautifulsoup4\u001b[39;00m\n\u001b[0;32m----> 3\u001b[0m \u001b[43mOR\u001b[49m\n",
      "\u001b[0;31mNameError\u001b[0m: name 'OR' is not defined"
     ]
    }
   ],
   "source": [
    "# pip install beautifulsoup4\n",
    "\n",
    "## OR\n",
    "\n",
    "# conda install -c anaconda beautifulsoup4"
   ]
  },
  {
   "cell_type": "markdown",
   "id": "d7305654",
   "metadata": {},
   "source": [
    "## Step 2: Importing the module\n",
    "Once Beautiful Soup is installed, you can import it into your notebook using the following import statement:"
   ]
  },
  {
   "cell_type": "code",
   "execution_count": null,
   "id": "62864862",
   "metadata": {},
   "outputs": [],
   "source": [
    "from bs4 import BeautifulSoup"
   ]
  },
  {
   "cell_type": "markdown",
   "id": "f4488fde",
   "metadata": {},
   "source": [
    "## Step 3: Fetching HTML content\n",
    "Next, you'll need to fetch the HTML content from a web page. There are different ways to do this depending on your requirements, but let's assume you want to fetch the HTML from a URL. You can use the requests library to accomplish this. Here's an example:"
   ]
  },
  {
   "cell_type": "code",
   "execution_count": null,
   "id": "f2e08041",
   "metadata": {},
   "outputs": [],
   "source": [
    "import requests\n",
    "\n",
    "# Specify the URL\n",
    "# Note - if this page link breaks, select a different one from the PASDA data portal and paste it below.\n",
    "quote_page = 'http://www.pasda.psu.edu/uci/DataSummary.aspx?dataset=1203'\n",
    "\n",
    "# Query the website and return the HTML to the variable 'page'\n",
    "response = requests.get(quote_page)\n",
    "html_content = response.text"
   ]
  },
  {
   "cell_type": "markdown",
   "id": "42840167",
   "metadata": {},
   "source": [
    "## Step 4: Creating a Beautiful Soup object\n",
    "Now that you have the HTML content, you can create a Beautiful Soup object that will allow you to parse and manipulate the data. You can create a Beautiful Soup object by passing the HTML content and a parser of your choice. Here's an example using the built-in 'html.parser':"
   ]
  },
  {
   "cell_type": "code",
   "execution_count": null,
   "id": "394f0e1f",
   "metadata": {},
   "outputs": [],
   "source": [
    "soup = BeautifulSoup(html_content, 'html.parser')"
   ]
  },
  {
   "cell_type": "markdown",
   "id": "85a87f2d",
   "metadata": {},
   "source": [
    "## Step 5: Navigating the parsed data\n",
    "Once you have the Beautiful Soup object, you can navigate and search through the parsed data using various methods and attributes."
   ]
  },
  {
   "cell_type": "code",
   "execution_count": null,
   "id": "aa23699d",
   "metadata": {},
   "outputs": [],
   "source": [
    "# Find elements by attribute value:\n",
    "titleField = soup.find(attrs={'id': 'Label1'})\n",
    "dateField = soup.find(attrs={'id': 'Label2'})\n",
    "publisherField = soup.find(attrs={'id': 'Label3'})\n",
    "\n",
    "# Extracting data from elements:\n",
    "descriptionField = soup.find(attrs={'id': 'Label14'})\n",
    "metadataLink = soup.find('a', href=True, text='Metadata')\n",
    "downloadLink = soup.find('a', href=True, text='Download')"
   ]
  },
  {
   "cell_type": "markdown",
   "id": "c3b3edfb",
   "metadata": {},
   "source": [
    "## Step 6: Putting it all together\n",
    "Now, let's combine the steps we've covered into a complete example:"
   ]
  },
  {
   "cell_type": "code",
   "execution_count": null,
   "id": "ad91a865",
   "metadata": {},
   "outputs": [],
   "source": [
    "import csv\n",
    "\n",
    "# Extract the text and attributes from the fields\n",
    "Title = titleField.text.strip()\n",
    "Date = dateField.text.strip()\n",
    "Publisher = publisherField.text.strip()\n",
    "Description = descriptionField.text.strip()\n",
    "Metadata = metadataLink['href']\n",
    "Download = downloadLink['href']\n",
    "\n",
    "# Open the CSV file in append mode, so old data will not be erased\n",
    "with open('output.csv', 'a', newline='') as csv_file:\n",
    "    writer = csv.writer(csv_file)\n",
    "\n",
    "    # Write the header row\n",
    "    writer.writerow(['Title', 'Date', 'Publisher', 'Description', 'Metadata', 'Download'])\n",
    "\n",
    "    # Write the data row\n",
    "    writer.writerow([Title, Date, Publisher, Description, Metadata, Download])"
   ]
  },
  {
   "cell_type": "markdown",
   "id": "6b18e14a",
   "metadata": {},
   "source": [
    "Locate the new file called `output.csv` in the same folder as this Notebook. You should see a header row with the field names and a row with the parsed metadata."
   ]
  },
  {
   "cell_type": "code",
   "execution_count": null,
   "id": "cf23efde",
   "metadata": {},
   "outputs": [],
   "source": []
  }
 ],
 "metadata": {
  "kernelspec": {
   "display_name": "Python 3 (ipykernel)",
   "language": "python",
   "name": "python3"
  },
  "language_info": {
   "codemirror_mode": {
    "name": "ipython",
    "version": 3
   },
   "file_extension": ".py",
   "mimetype": "text/x-python",
   "name": "python",
   "nbconvert_exporter": "python",
   "pygments_lexer": "ipython3",
   "version": "3.8.16"
  }
 },
 "nbformat": 4,
 "nbformat_minor": 5
}
