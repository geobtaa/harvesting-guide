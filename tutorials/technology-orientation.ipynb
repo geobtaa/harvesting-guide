{
 "cells": [
  {
   "cell_type": "markdown",
   "id": "2e01ac4e-77c1-4e53-a335-c6e3df57ebea",
   "metadata": {
    "slideshow": {
     "slide_type": "slide"
    }
   },
   "source": [
    "# BTAA-GIN Technology Orientation\n",
    "\n",
    "<small> 2025</small>"
   ]
  },
  {
   "cell_type": "markdown",
   "id": "fcede0cb-e2d5-43ba-a960-24c48e50de1f",
   "metadata": {
    "slideshow": {
     "slide_type": "subslide"
    }
   },
   "source": [
    "## 🎯 Goals for Today \n",
    "\n",
    "- Identify resources for the BTAA Geoportal  \n",
    "- Learn how to submit metadata  \n",
    "- Practice fixing common metadata issues  \n",
    "\n",
    "**Format:** Short explanations + hands-on exercises  "
   ]
  },
  {
   "cell_type": "markdown",
   "id": "36bcb22c-82a5-4e9a-9047-c4ab77f88418",
   "metadata": {
    "slideshow": {
     "slide_type": "subslide"
    }
   },
   "source": [
    "##  The BTAA Geoportal \n",
    "\n",
    "![geoportal](geoportal.png)\n",
    "- A discovery tool for geospatial resources\n",
    "- Built with [GeoBlacklight](https://geoblacklight.org), an open-source software application\n",
    "- A metadata catalog (not the data itself!)\n",
    "- (Most) resources are public domain;  free & open data"
   ]
  },
  {
   "cell_type": "markdown",
   "id": "f98d7605-ab76-4155-a0cf-d5d26140a7b3",
   "metadata": {
    "jp-MarkdownHeadingCollapsed": true,
    "slideshow": {
     "slide_type": "subslide"
    }
   },
   "source": [
    "## Geoportal Special Features\n",
    "\n",
    "- Searching with the map (requires coordinates in the metadata)\n",
    "- Resource previews (if available from provider):\n",
    "\t- Maps: IIIF ([example](https://geo.btaa.org/catalog/c5b43fd8-0030-4089-80df-b692e6bda8b2))\n",
    "\t- Datasets: web services ([example](https://geo.btaa.org/catalog/6f3a1ad4-21f2-494e-a382-dee1255e29e3))\n"
   ]
  },
  {
   "cell_type": "markdown",
   "id": "cf7076a6",
   "metadata": {
    "slideshow": {
     "slide_type": "slide"
    }
   },
   "source": [
    "# 1. Geoportal Content"
   ]
  },
  {
   "cell_type": "markdown",
   "id": "95f431fa",
   "metadata": {
    "slideshow": {
     "slide_type": "subslide"
    }
   },
   "source": [
    "## Formats\n",
    "\n",
    "**Always in scope**\n",
    "- Shapefile, GeoJSON, other spatial formats\n",
    "- Geodatabase, geopackage\n",
    "- TIFF, JPEG, JPEG2000, PNG\n",
    "- GeoTIFF\n",
    "\n",
    "**Added by request**\n",
    "- Static websites, Interactive databases, Storymaps\n",
    "- Tabular data, PDFs, Text files"
   ]
  },
  {
   "cell_type": "markdown",
   "id": "39018b41",
   "metadata": {
    "slideshow": {
     "slide_type": "subslide"
    }
   },
   "source": [
    "## Sources\n",
    "\n",
    "**Always in scope**\n",
    "\n",
    "- Local government: state, county, city, regional\n",
    "- Nongovernment orgs: nonprofits, historical societies  \n",
    "- Academic: libraries, departments, research institutes\n",
    "\n",
    "**Added by request**\n",
    "\n",
    "- Federal data\n",
    "- Licensed data\n",
    "- Maps in copyright"
   ]
  },
  {
   "cell_type": "markdown",
   "id": "bbb283ea",
   "metadata": {
    "slideshow": {
     "slide_type": "subslide"
    }
   },
   "source": [
    "## Geography\n",
    "\n",
    "**Always in scope**\n",
    "\n",
    "- Data covering an area within the Big Ten\n",
    "- Data covering any area, but created by a Big Ten researcher\n",
    "- Maps of any area held at a Big Ten university\n",
    "\n",
    "**Added by request**\n",
    "\n",
    "- Data from another state or nation \n",
    "- Maps held at a non-Big Ten university"
   ]
  },
  {
   "cell_type": "markdown",
   "id": "f1abb29e",
   "metadata": {
    "slideshow": {
     "slide_type": "subslide"
    }
   },
   "source": [
    "**Your Primary Role:** Keep looking for new resources!  "
   ]
  },
  {
   "cell_type": "markdown",
   "id": "f01016fb",
   "metadata": {
    "slideshow": {
     "slide_type": "subslide"
    }
   },
   "source": [
    "## 🛠️ Activity\n",
    "\n",
    "### Find GIS Data Sources\n",
    "\n",
    "🔍 **Task:** Look up a county in your state & check if it has a GIS data portal  \n",
    "\n",
    "🤔 **Ask Yourself:**  \n",
    "- What data is available?  \n",
    "- Would it be a good fit for the Geoportal?  \n",
    "\n",
    "💬 **Discussion:** What did you find?  "
   ]
  },
  {
   "cell_type": "markdown",
   "id": "9a82f497",
   "metadata": {
    "slideshow": {
     "slide_type": "slide"
    }
   },
   "source": [
    "# 2. How to submit resources"
   ]
  },
  {
   "cell_type": "markdown",
   "id": "c892189d",
   "metadata": {
    "slideshow": {
     "slide_type": "subslide"
    }
   },
   "source": [
    "This is an informal process. Every collection has a slightly different workflow. Our goal is to obtain the metadata. Here are some things to look for."
   ]
  },
  {
   "cell_type": "markdown",
   "id": "3e9bdf82",
   "metadata": {
    "slideshow": {
     "slide_type": "subslide"
    }
   },
   "source": [
    "## GIS Data\n",
    "\n",
    "- Is it hosted on a standard platform, such as ArcGIS Hub or CKAN portal?  Try adding `/data.json` to the end of the base URL. This is the API, and it can be harvested programmatically.\n",
    "\n",
    "\n",
    "- If not, are there individual metadata documents anywhere, such as a catalog of XMLs?\n"
   ]
  },
  {
   "cell_type": "markdown",
   "id": "f5da8d59",
   "metadata": {
    "slideshow": {
     "slide_type": "subslide"
    }
   },
   "source": [
    "## Scanned Library Maps\n",
    "\n",
    "- Ask your IT department for a full export of metadata\n",
    "- Make sure the export includes IDs and links"
   ]
  },
  {
   "cell_type": "markdown",
   "id": "7aead946",
   "metadata": {
    "slideshow": {
     "slide_type": "subslide"
    }
   },
   "source": [
    "### A website\n",
    "\n",
    "- Get the URL and publisher\n",
    "- Create a title and description"
   ]
  },
  {
   "cell_type": "markdown",
   "id": "e4d4abf5",
   "metadata": {
    "slideshow": {
     "slide_type": "subslide"
    }
   },
   "source": [
    "## 💬 Discussion\n",
    "\n",
    "How will we get the metadata from scanned maps held at your library?"
   ]
  },
  {
   "cell_type": "markdown",
   "id": "48aeecb1",
   "metadata": {
    "slideshow": {
     "slide_type": "slide"
    }
   },
   "source": [
    "\n",
    "# 3. Metadata Profile"
   ]
  },
  {
   "cell_type": "markdown",
   "id": "7518a923",
   "metadata": {
    "slideshow": {
     "slide_type": "subslide"
    }
   },
   "source": [
    "## GeoBTAA Metadata Profile.\n",
    "\n",
    "Includes:\n",
    "\n",
    "1. [OpenGeoMetadata Aardvark](https://opengeometadata.org/ogm-aardvark/)\n",
    "2. [Custom elements](https://gin.btaa.org/metadata/b1g-custom-elements/)"
   ]
  },
  {
   "cell_type": "markdown",
   "id": "2969d576",
   "metadata": {
    "slideshow": {
     "slide_type": "subslide"
    }
   },
   "source": [
    "## OpenGeoMetadata (OGM) Aardvark\n",
    "\n",
    "- designed for GeoBlacklight\n",
    "-  intended for discoverability\n",
    "- often generated from more complete geospatial metadata, such as ISO 19139 or FGDC\n",
    "- mainly a mix of Dublin Core and GeoBlacklight application-specific fields"
   ]
  },
  {
   "cell_type": "markdown",
   "id": "587b4ee4",
   "metadata": {
    "slideshow": {
     "slide_type": "subslide"
    }
   },
   "source": [
    "## Custom GeoBTAA Elements\n",
    "\n",
    "- augments OGM Aardvark \n",
    "- intended to serve as standalone metadata\n",
    "- includes geospatial technical fields, like projection & scale\n",
    "- multiple fields for life cycle tracking"
   ]
  },
  {
   "cell_type": "markdown",
   "id": "bd045c28",
   "metadata": {
    "slideshow": {
     "slide_type": "subslide"
    }
   },
   "source": [
    "## 🔍 Template\n",
    "\n",
    "Let's take a look at the Primary Metadata Template [z.umn.edu/b1g-template](https://z.umn.edu/b1g-template)\n",
    "\n",
    "Key things to know about the template\n",
    "- Make a copy or request a customized template\n",
    "- Separate multiple values with a pipe (|)\n"
   ]
  },
  {
   "cell_type": "markdown",
   "id": "333ddf0d",
   "metadata": {
    "slideshow": {
     "slide_type": "slide"
    }
   },
   "source": [
    "# 4. Tricky Fields"
   ]
  },
  {
   "cell_type": "markdown",
   "id": "edff4208",
   "metadata": {
    "slideshow": {
     "slide_type": "subslide"
    }
   },
   "source": [
    "### Bounding Boxes\n",
    "\n",
    "- Format as decimal degrees (instead of degrees-minutes-seconds)\n",
    "- Use the order West,South,East,North\n",
    "- If coordinates are missing, consider adding in batches with identical coverage or assign to student workers"
   ]
  },
  {
   "cell_type": "markdown",
   "id": "b23526c7",
   "metadata": {
    "slideshow": {
     "slide_type": "subslide"
    }
   },
   "source": [
    "## Klokan Bounding Box Demo\n",
    "\n",
    "- [Klokan Bounding Box](https://boundingbox.klokantech.com) is a tool for generating extents in various formats\n",
    "- Select the \"CSV\" output option\n",
    "- More detailed instructions: [https://gin.btaa.org/metadata/recipes/add-bbox](https://gin.btaa.org/metadata/recipes/add-bbox/)"
   ]
  },
  {
   "cell_type": "markdown",
   "id": "1b4b5eb3",
   "metadata": {
    "slideshow": {
     "slide_type": "subslide"
    }
   },
   "source": [
    "## 🛠️ Activity\n",
    "\n",
    "### Troubleshoot a Bounding Box format\n",
    "\n",
    "Find 3 things to fix about the following bounding box for Chicago:\n",
    "\n",
    "`W87°56', -87°31', 42°01', 41°38'`"
   ]
  },
  {
   "cell_type": "markdown",
   "id": "04945fd5",
   "metadata": {
    "slideshow": {
     "slide_type": "fragment"
    }
   },
   "source": [
    "### Answer\n",
    "\n",
    "1. It needs to be in decimal degrees\n",
    "2. The western coordinate has a \"W\" instead of a negative sign\n",
    "3. The coordinates are in the wrong order (These are `W,E,N,S`; we need `W,S,E,N`)\n",
    "\n",
    "Format for the BTAA Geoportal:\n",
    "\n",
    "`-87.9,41.6,-87.5,42.0`"
   ]
  },
  {
   "cell_type": "markdown",
   "id": "05218787",
   "metadata": {
    "slideshow": {
     "slide_type": "subslide"
    }
   },
   "source": [
    "## Place Names\n",
    "\n",
    "- Format all place names as [FAST subject headings](http://fast.oclc.org/searchfast/)\n",
    "- For local US data, the format looks like:\n",
    "\t- `state--county` \n",
    "\t- `state--city`\n",
    "\t- `state`\n",
    "\n",
    "Example:\n",
    "\n",
    "`Illinois--Chicago`"
   ]
  },
  {
   "cell_type": "markdown",
   "id": "51777086",
   "metadata": {
    "slideshow": {
     "slide_type": "subslide"
    }
   },
   "source": [
    "## 🛠️ Activity\n",
    "\n",
    "### Reformat place names\n",
    "\n",
    "What is the FAST format for the following place names?\n",
    "\n",
    "- Portland (Or.)\n",
    "- Seattle (Wash.)\n"
   ]
  },
  {
   "cell_type": "markdown",
   "id": "59cbec5d",
   "metadata": {
    "slideshow": {
     "slide_type": "fragment"
    }
   },
   "source": [
    "### Answer\n",
    "\n",
    "- For \"Portland (Or.)\" → `Oregon--Portland`\n",
    "\n",
    "- For \"Seattle (Wash.)\" → `Washington (State)--Seattle`\n",
    "\n",
    "To improve user searches, we add the state as a separate entry (separated by a pipe), like this:\n",
    "\n",
    "`Oregon--Portland|Oregon`\n"
   ]
  },
  {
   "cell_type": "markdown",
   "id": "b35e978c",
   "metadata": {
    "slideshow": {
     "slide_type": "slide"
    }
   },
   "source": [
    "# 5. Distributions"
   ]
  },
  {
   "cell_type": "markdown",
   "id": "e369371d",
   "metadata": {
    "slideshow": {
     "slide_type": "fragment"
    }
   },
   "source": [
    "The BTAA Geoportal does not host data or maps, so we need **links** with the metadata."
   ]
  },
  {
   "cell_type": "markdown",
   "id": "12c364ad",
   "metadata": {
    "slideshow": {
     "slide_type": "subslide"
    }
   },
   "source": [
    "The Geoportal has over 2 dozen types of links. Common types:\n",
    "\n",
    "- Landing page\n",
    "- Download (can be multiple)\n",
    "- IIIF Image API or Presentation (manifest) API \n",
    "- OpenIndexMap (GeoJSON)\n",
    "- Geospatial web services from ArcGIS or GeoServer\n",
    "- Supplemental metadata file"
   ]
  },
  {
   "cell_type": "markdown",
   "id": "5926e617",
   "metadata": {
    "slideshow": {
     "slide_type": "subslide"
    }
   },
   "source": [
    "## 🔍 Template\n",
    "\n",
    "Let's take a look at the Distributions Metadata Template [z.umn.edu/b1g-template](https://z.umn.edu/b1g-template)\n",
    "\n",
    "Key things to know about the Distributions template\n",
    "- One link per line\n",
    "- Use the ID from the Primary template\n",
    "- The same record may have multiple rows of links"
   ]
  },
  {
   "cell_type": "markdown",
   "id": "f2a6da45",
   "metadata": {
    "slideshow": {
     "slide_type": "slide"
    }
   },
   "source": [
    "# 6. Full Resource Lifecycle"
   ]
  },
  {
   "cell_type": "markdown",
   "id": "52fcf6da",
   "metadata": {
    "slideshow": {
     "slide_type": "fragment"
    }
   },
   "source": [
    "![ResourceLifecycle](resourceLifecycle.png)"
   ]
  },
  {
   "cell_type": "markdown",
   "id": "f58ad8e6",
   "metadata": {
    "slideshow": {
     "slide_type": "subslide"
    }
   },
   "source": [
    "## 1. Identify\n",
    "\n",
    "Team members seek out new content for the geoportal. \n"
   ]
  },
  {
   "cell_type": "markdown",
   "id": "4e9bd403",
   "metadata": {
    "slideshow": {
     "slide_type": "subslide"
    }
   },
   "source": [
    "## 2. Obtain and Process Metadata\n",
    "\n",
    "We harvest the metadata, convert it to the GeoBTAA Schema, edit, and validate it."
   ]
  },
  {
   "cell_type": "markdown",
   "id": "90df99b9",
   "metadata": {
    "slideshow": {
     "slide_type": "fragment"
    }
   },
   "source": [
    "### a. Harvest\n",
    "\n",
    "Here are the most common ways that we harvest the metadata:\n",
    "1. a BTAA-GIN Team Member sends us the metadata as files or CSV\n",
    "2. an API\n",
    "3. scrape an HTML page with Python\n",
    "4. we manually copy and paste the metadata into a spreadsheet\n",
    "5. a combination of one or more of the above"
   ]
  },
  {
   "cell_type": "markdown",
   "id": "ec032b3b",
   "metadata": {
    "slideshow": {
     "slide_type": "fragment"
    }
   },
   "source": [
    "### b. Crosswalk\n",
    "\n",
    "We \"crosswalk\" or convert the metadata into the schema needed for the Geoportal. Our goal is to end up with a spreadsheet containing columns matching our [metadata template](https://z.umn.edu/b1g-template)."
   ]
  },
  {
   "cell_type": "markdown",
   "id": "6f5953ea",
   "metadata": {
    "slideshow": {
     "slide_type": "subslide"
    }
   },
   "source": [
    "### c. Edit\n",
    "\n",
    "Manually fix, improve, and augment the metadata as needed."
   ]
  },
  {
   "cell_type": "markdown",
   "id": "43585a96",
   "metadata": {
    "slideshow": {
     "slide_type": "fragment"
    }
   },
   "source": [
    "### d. Validate\n",
    "\n",
    "Run a validation and cleaning script to ensure the records conform to the required elements of our schema. "
   ]
  },
  {
   "cell_type": "markdown",
   "id": "69498521",
   "metadata": {
    "slideshow": {
     "slide_type": "subslide"
    }
   },
   "source": [
    "## 3. Index Metadata"
   ]
  },
  {
   "cell_type": "markdown",
   "id": "11824266",
   "metadata": {
    "slideshow": {
     "slide_type": "fragment"
    }
   },
   "source": [
    "### a. Ingest to GBL Admin\n",
    "\n",
    "We upload the completed spreadsheet to GBL Admin, which serves as the administrative interface for the Geoportal. If GBL Admin detects any formatting errors, it will issue a warning and may reject the upload.\n"
   ]
  },
  {
   "cell_type": "markdown",
   "id": "daa040e4",
   "metadata": {
    "slideshow": {
     "slide_type": "fragment"
    }
   },
   "source": [
    "### b. Publish new records to the Geoportal\n",
    "\n",
    "Once the metadata is successfully uploaded to GBL Admin, we can publish the records to the Geoportal. The technology that actually stores the records and enables searching is called [Solr](https://solr.apache.org). "
   ]
  },
  {
   "cell_type": "markdown",
   "id": "cf42d6c2",
   "metadata": {
    "slideshow": {
     "slide_type": "fragment"
    }
   },
   "source": [
    "### c. Unpublish\n",
    "\n",
    "Periodically, we need to remove records from the Geoportal. To do this, we use GBL Admin to either delete them or change their status to \"unpublished.\"\n"
   ]
  },
  {
   "cell_type": "markdown",
   "id": "adf61d62",
   "metadata": {
    "slideshow": {
     "slide_type": "subslide"
    }
   },
   "source": [
    "\n",
    "## 4. Maintenance"
   ]
  },
  {
   "cell_type": "markdown",
   "id": "407ef414",
   "metadata": {
    "slideshow": {
     "slide_type": "fragment"
    }
   },
   "source": [
    "### a. Monitor sources\n",
    "\n",
    "We monitor our sources to check for new and retired content."
   ]
  },
  {
   "cell_type": "markdown",
   "id": "711ae52d",
   "metadata": {
    "slideshow": {
     "slide_type": "fragment"
    }
   },
   "source": [
    "### b. Monitor Geoportal\n",
    "\n",
    "We regularly assess currentness of the content in the Geoportal and check for broken links.\n"
   ]
  },
  {
   "cell_type": "markdown",
   "id": "5a1e2779",
   "metadata": {
    "slideshow": {
     "slide_type": "fragment"
    }
   },
   "source": [
    "### c. Schedule re-harvests\n",
    "\n",
    "We schedule re-harvests from sources based on how frequently they update their content. See the [Collections Dashboard](https://github.com/orgs/geobtaa/projects/4) for this schedule."
   ]
  },
  {
   "cell_type": "markdown",
   "id": "0af9f4c3",
   "metadata": {
    "slideshow": {
     "slide_type": "slide"
    }
   },
   "source": [
    "# ❓Questions\n",
    "\n",
    "# 💬 Discussion"
   ]
  },
  {
   "cell_type": "markdown",
   "id": "fb85219d",
   "metadata": {},
   "source": []
  }
 ],
 "metadata": {
  "celltoolbar": "Slideshow",
  "kernelspec": {
   "display_name": "Python 3",
   "language": "python",
   "name": "python3"
  },
  "language_info": {
   "codemirror_mode": {
    "name": "ipython",
    "version": 3
   },
   "file_extension": ".py",
   "mimetype": "text/x-python",
   "name": "python",
   "nbconvert_exporter": "python",
   "pygments_lexer": "ipython3",
   "version": "3.9.13"
  }
 },
 "nbformat": 4,
 "nbformat_minor": 5
}
