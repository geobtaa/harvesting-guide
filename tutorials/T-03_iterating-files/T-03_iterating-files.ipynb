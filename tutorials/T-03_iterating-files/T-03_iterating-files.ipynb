{
 "cells": [
  {
   "cell_type": "markdown",
   "id": "950497ea",
   "metadata": {},
   "source": [
    "# CSV/URL Read and Write/os.Walk Module Tutorial"
   ]
  },
  {
   "cell_type": "markdown",
   "id": "bb3085f2",
   "metadata": {},
   "source": [
    "- This guide will assist users in how to open, read and print the results of a CSV (using a list of datasets from the [Humanitarian Data Exchange](https://data.humdata.org/dataset)).\n",
    "- The module `os.Walk` will be given special emphasis as this allows you to work down directories of your files and sift through multiple files.\n",
    "- Including a brief display of the `pandas` module and Dataframe capabilities in displaying a CSV for records."
   ]
  },
  {
   "cell_type": "markdown",
   "id": "a9145a75",
   "metadata": {},
   "source": [
    "## 1. Import Modules"
   ]
  },
  {
   "cell_type": "markdown",
   "id": "48d9bfda",
   "metadata": {},
   "source": [
    "- List of modules that open and read a CSV, list data columns, table rows and show folder structure."
   ]
  },
  {
   "cell_type": "code",
   "execution_count": 1,
   "id": "9bfefc0a",
   "metadata": {},
   "outputs": [],
   "source": [
    "import csv # This module provides classes for reading and writing CSV files\n",
    "import os # This module provides a way of using operating system dependent functionality. It provides a way of interacting with the file system, such as creating, moving, and deleting files and directories.\n",
    "import pandas # This module provides fast, flexible, and expressive data structures designed to make working with \"relational\" or \"labeled\" data both easy and intuitive. It is widely used for data analysis, manipulation, and visualization."
   ]
  },
  {
   "cell_type": "markdown",
   "id": "eb659d95",
   "metadata": {},
   "source": [
    "## 2. Open and Read CSV (Humanitarian Data Example)"
   ]
  },
  {
   "cell_type": "markdown",
   "id": "3cbff8ec",
   "metadata": {},
   "source": [
    "- The following opens a CSV based on three headers and prints the value cells in those columns and rows."
   ]
  },
  {
   "cell_type": "code",
   "execution_count": 2,
   "id": "5109e8a0",
   "metadata": {},
   "outputs": [
    {
     "name": "stdout",
     "output_type": "stream",
     "text": [
      "Column names are Title, Alternative Title, Description, Language, Creator, Resource Class, ISO Topic Categories, Keyword, Date Issued, Temporal Coverage, Date Range, Update Frequency, Spatial Coverage, Bounding Box, Resource Type, Format, Information, Download, ID, Identifier, Provider, Code, Member Of, Status, Accrual Method, Date Accessioned, Rights, License, Access Rights, Suppressed, Child Record, File Size\n",
      "\tBeirut port explosion operational zones , Beirut port explosion operational zones , Beirut port explosion operational zonesUPDATED 9 October 2020:Enlarged zones with UN HABITAT socio-economic classification and the 3Km priority of the Flash Appeal priority radius added.   Please see the methodology section in the metadata for further information.UPDATED 19 August 2020:11 operational zones numbered 129 to 139 inclusive added to the Sinn El-Fil cadastre south of the origional set.Zones spreadsheet added.NOTESUsers are referred to the compatible Beirut buildings footprints COD.The standard Administrative Boundary Common Operational Dataset (COD-AB) can be found at Lebanon - Subnational Administrative Boundaries..\n",
      "\tPopulation potentially exposed to floods between 12&21 July 2020  in Bangladesh , Population potentially exposed to floods between 12&21 July 2020  in Bangladesh , UNOSAT code: FL20200713BGD  This map illustrates potentially exposed population to floods (cumulative) aggregated by district using NOAA20-VIIRS in Bangladesh  between the 12th and the 21st of July 2020 and Worldpop spatial demographic data. About 34 million people were  exposed or living close to flooded areas. The most exposed districts mainly located in Sylhet, Mymensingh and Rajshahi divisions..\n",
      "\tSatellite detected water extent as of 21 July 2020 over Northwestern region of Bangladesh , Satellite detected water extent as of 21 July 2020 over Northwestern region of Bangladesh , UNOSAT code: FL20200713BGD  This map illustrates satellite-detected surface waters over Khulna, Rajshahi and Rangpur Division of Bangladesh of Bangladesh as observed from a Sentinel-1 image acquired on 9 July 2020 and 21 July 2020. Within the analyzed area of about 15,000 km2, a total of about 3,600 km2 of lands appear to be flooded. Based on Worldpop population data and the detected surface waters, about 2,507,000 people are potentially exposed or living close to flooded areas. This is a preliminary analysis and has not yet been validated in the field. Please send ground feedback to UNITAR - UNOSAT.\n",
      "Important Note: Flood analysis from Sentinel-1 image acquired on 9 July 2020 and 21 July 2020 may underestimate the presence of standing.\n",
      "Processed 4 lines.\n"
     ]
    }
   ],
   "source": [
    "with open('HumanURLS.csv', mode='r') as csv_file: # Opens the CSV file for reading via 'r'\n",
    "    csv_reader = csv.DictReader(csv_file) # The csv.DictReader(csv_file) statement creates a new CSV reader object to read the file and return rows a dictionary.\n",
    "    line_count = 0 # Statement checks if this is the first row of the file, and if so, prints out the column names.\n",
    "    for row in csv_reader:\n",
    "        if line_count == 0: \n",
    "            print(f'Column names are {\", \".join(row)}') \n",
    "            line_count += 1\n",
    "        print(f'\\t{row[\"Title\"]} , {row[\"Alternative Title\"]} , {row[\"Description\"]}.')\n",
    "        line_count += 1 # The line_count variable to keep track of how many lines have been processed\n",
    "    print(f'Processed {line_count} lines.')"
   ]
  },
  {
   "cell_type": "markdown",
   "id": "47123d28",
   "metadata": {},
   "source": [
    "## 3. Different Code Implmentation Example"
   ]
  },
  {
   "cell_type": "markdown",
   "id": "816874d4",
   "metadata": {},
   "source": [
    "- Similar to the above example, except the style is more coslidated and compact due to delimiter settings"
   ]
  },
  {
   "cell_type": "code",
   "execution_count": 3,
   "id": "3c51e579",
   "metadata": {},
   "outputs": [
    {
     "name": "stdout",
     "output_type": "stream",
     "text": [
      "Title,Alternative Title,Description,Language,Creator,Resource Class,ISO Topic Categories,Keyword,Date Issued,Temporal Coverage,Date Range,Update Frequency,Spatial Coverage,Bounding Box,Resource Type,Format,Information,Download,ID,Identifier,Provider,Code,Member Of,Status,Accrual Method,Date Accessioned,Rights,License,Access Rights,Suppressed,Child Record,File Size\n",
      "Beirut port explosion operational zones,Beirut port explosion operational zones,Beirut port explosion operational zonesUPDATED 9 October 2020:Enlarged zones with UN HABITAT socio-economic classification and the 3Km priority of the Flash Appeal priority radius added.   Please see the methodology section in the metadata for further information.UPDATED 19 August 2020:11 operational zones numbered 129 to 139 inclusive added to the Sinn El-Fil cadastre south of the origional set.Zones spreadsheet added.NOTESUsers are referred to the compatible Beirut buildings footprints COD.The standard Administrative Boundary Common Operational Dataset (COD-AB) can be found at Lebanon - Subnational Administrative Boundaries.,eng,OCHA Lebanon,Datasets,,common operational dataset - cod,10/9/20,\"August 11, 2020-August 11, 2020\",2020-2020,Every week,Lebanon,\"35.1037,34.6921,36.6237,33.055\",Vector data,Shapefile,https://data.humdata.org/dataset/beirut-port-explosion-operational-zones,https://data.humdata.org/dataset/cb7c8fe8-579f-4e0c-b840-eb6a09fd6ee7/resource/58ca7a96-8366-4464-bdd0-c0270ef77252/download/beirut_port_explosions_operational_zones_139.zip,f6b2c43f-a7bf-44f1-a874-7808b4e33bf4,https://data.humdata.org/dataset/beirut-port-explosion-operational-zones,University of Minnesota,99-1400,99-1400,Active,HTML,10/31/21,,Other: humanitarian use only,Public,FALSE,FALSE,37.3K\n",
      "Population potentially exposed to floods between 12&21 July 2020  in Bangladesh,Population potentially exposed to floods between 12&21 July 2020  in Bangladesh,\"UNOSAT code: FL20200713BGD  This map illustrates potentially exposed population to floods (cumulative) aggregated by district using NOAA20-VIIRS in Bangladesh  between the 12th and the 21st of July 2020 and Worldpop spatial demographic data. About 34 million people were  exposed or living close to flooded areas. The most exposed districts mainly located in Sylhet, Mymensingh and Rajshahi divisions.\",eng,UN Operational Satellite Applications Programme (UNOSAT),Datasets,,floods - storm surges, geodata,8/11/20,\"July 24, 2020-July 24, 2020\",2020-2020,Never,Bangladesh,\"88.0283,26.6319,92.6737,20.5762\",Vector data,Shapefile,https://data.humdata.org/dataset/population-potentially-exposed-to-floods-between-12-21-july-2020-in-bangladesh,https://data.humdata.orghttps://unosat-maps.web.cern.ch/unosat-maps/BD/FL20200713BGD/FL20200713BGD_SHP.zip,23567f05-1cd0-4088-a0b2-8fd32caadb69,https://data.humdata.org/dataset/population-potentially-exposed-to-floods-between-12-21-july-2020-in-bangladesh,University of Minnesota,99-1400,99-1400,Active,HTML,10/31/21,,Creative Commons Attribution Share-Alike,Public,FALSE,FALSE,\n",
      "Satellite detected water extent as of 21 July 2020 over Northwestern region of Bangladesh,Satellite detected water extent as of 21 July 2020 over Northwestern region of Bangladesh,\"UNOSAT code: FL20200713BGD  This map illustrates satellite-detected surface waters over Khulna, Rajshahi and Rangpur Division of Bangladesh of Bangladesh as observed from a Sentinel-1 image acquired on 9 July 2020 and 21 July 2020. Within the analyzed area of about 15,000 km2, a total of about 3,600 km2 of lands appear to be flooded. Based on Worldpop population data and the detected surface waters, about 2,507,000 people are potentially exposed or living close to flooded areas. This is a preliminary analysis and has not yet been validated in the field. Please send ground feedback to UNITAR - UNOSAT.\n",
      "Important Note: Flood analysis from Sentinel-1 image acquired on 9 July 2020 and 21 July 2020 may underestimate the presence of standing\",eng,UN Operational Satellite Applications Programme (UNOSAT),Datasets,,floods - storm surges, geodata,7/24/20,\"July 22, 2020-July 22, 2020\",2020-2020,Never,Bangladesh,\"88.0283,26.6319,92.6737,20.5762\",Vector data,Shapefile,https://data.humdata.org/dataset/satellite-detected-water-extent-as-of-21-july-2020-over-northwestern-region-of-bangladesh,https://data.humdata.orghttps://unosat-maps.web.cern.ch/unosat-maps/BD/FL20200713BGD/FL20200713BGD_SHP.zip,73def9dc-b2a7-40c9-bd28-31d136b9cb8e,https://data.humdata.org/dataset/satellite-detected-water-extent-as-of-21-july-2020-over-northwestern-region-of-bangladesh,University of Minnesota,99-1400,99-1400,Active,HTML,10/31/21,,Creative Commons Attribution Share-Alike,Public,FALSE,FALSE,\n"
     ]
    }
   ],
   "source": [
    "with open('HumanURLS.csv', newline='') as csvfile:\n",
    "    spamreader = csv.reader(csvfile, delimiter='|', quotechar='|') # The delimiter parameter specifies the character used to separate fields in the file, \n",
    "    for row in spamreader: # The quotechar parameter specifies the character used to quote fields that contain the delimiter character.\n",
    "        print(', '.join(row))"
   ]
  },
  {
   "cell_type": "markdown",
   "id": "958c5d39",
   "metadata": {},
   "source": [
    "## 4. Using Pandas Dataframes module for better readability"
   ]
  },
  {
   "cell_type": "markdown",
   "id": "5fbd93c0",
   "metadata": {},
   "source": [
    "- Assign the CSV to be read in a Dataframe and partitioned with the Pandas module and then organized into a table style"
   ]
  },
  {
   "cell_type": "code",
   "execution_count": 4,
   "id": "59bae61b",
   "metadata": {},
   "outputs": [
    {
     "name": "stdout",
     "output_type": "stream",
     "text": [
      "                                               Title  \\\n",
      "0            Beirut port explosion operational zones   \n",
      "1  Population potentially exposed to floods betwe...   \n",
      "2  Satellite detected water extent as of 21 July ...   \n",
      "\n",
      "                                   Alternative Title  \\\n",
      "0            Beirut port explosion operational zones   \n",
      "1  Population potentially exposed to floods betwe...   \n",
      "2  Satellite detected water extent as of 21 July ...   \n",
      "\n",
      "                                         Description Language  \\\n",
      "0  Beirut port explosion operational zonesUPDATED...      eng   \n",
      "1  UNOSAT code: FL20200713BGD  This map illustrat...      eng   \n",
      "2  UNOSAT code: FL20200713BGD  This map illustrat...      eng   \n",
      "\n",
      "                                             Creator Resource Class  \\\n",
      "0                                       OCHA Lebanon       Datasets   \n",
      "1  UN Operational Satellite Applications Programm...       Datasets   \n",
      "2  UN Operational Satellite Applications Programm...       Datasets   \n",
      "\n",
      "   ISO Topic Categories                           Keyword Date Issued  \\\n",
      "0                   NaN  common operational dataset - cod     10/9/20   \n",
      "1                   NaN     floods - storm surges|geodata     8/11/20   \n",
      "2                   NaN     floods - storm surges|geodata     7/24/20   \n",
      "\n",
      "                 Temporal Coverage  ... Member Of  Status Accrual Method  \\\n",
      "0  August 11, 2020-August 11, 2020  ...   99-1400  Active           HTML   \n",
      "1      July 24, 2020-July 24, 2020  ...   99-1400  Active           HTML   \n",
      "2      July 22, 2020-July 22, 2020  ...   99-1400  Active           HTML   \n",
      "\n",
      "  Date Accessioned Rights                                   License  \\\n",
      "0         10/31/21    NaN              Other: humanitarian use only   \n",
      "1         10/31/21    NaN  Creative Commons Attribution Share-Alike   \n",
      "2         10/31/21    NaN  Creative Commons Attribution Share-Alike   \n",
      "\n",
      "  Access Rights Suppressed Child Record File Size  \n",
      "0        Public      False        False     37.3K  \n",
      "1        Public      False        False       NaN  \n",
      "2        Public      False        False       NaN  \n",
      "\n",
      "[3 rows x 32 columns]\n"
     ]
    }
   ],
   "source": [
    "df = pandas.read_csv('HumanURLS.csv')\n",
    "print(df)# The print(df) statement then prints out the contents of the DataFrame object to the console."
   ]
  },
  {
   "cell_type": "code",
   "execution_count": 5,
   "id": "174d6838",
   "metadata": {},
   "outputs": [
    {
     "data": {
      "text/html": [
       "<div>\n",
       "<style scoped>\n",
       "    .dataframe tbody tr th:only-of-type {\n",
       "        vertical-align: middle;\n",
       "    }\n",
       "\n",
       "    .dataframe tbody tr th {\n",
       "        vertical-align: top;\n",
       "    }\n",
       "\n",
       "    .dataframe thead th {\n",
       "        text-align: right;\n",
       "    }\n",
       "</style>\n",
       "<table border=\"1\" class=\"dataframe\">\n",
       "  <thead>\n",
       "    <tr style=\"text-align: right;\">\n",
       "      <th></th>\n",
       "      <th>Title</th>\n",
       "      <th>Alternative Title</th>\n",
       "      <th>Description</th>\n",
       "      <th>Language</th>\n",
       "      <th>Creator</th>\n",
       "      <th>Resource Class</th>\n",
       "      <th>ISO Topic Categories</th>\n",
       "      <th>Keyword</th>\n",
       "      <th>Date Issued</th>\n",
       "      <th>Temporal Coverage</th>\n",
       "      <th>...</th>\n",
       "      <th>Member Of</th>\n",
       "      <th>Status</th>\n",
       "      <th>Accrual Method</th>\n",
       "      <th>Date Accessioned</th>\n",
       "      <th>Rights</th>\n",
       "      <th>License</th>\n",
       "      <th>Access Rights</th>\n",
       "      <th>Suppressed</th>\n",
       "      <th>Child Record</th>\n",
       "      <th>File Size</th>\n",
       "    </tr>\n",
       "  </thead>\n",
       "  <tbody>\n",
       "    <tr>\n",
       "      <th>0</th>\n",
       "      <td>Beirut port explosion operational zones</td>\n",
       "      <td>Beirut port explosion operational zones</td>\n",
       "      <td>Beirut port explosion operational zonesUPDATED...</td>\n",
       "      <td>eng</td>\n",
       "      <td>OCHA Lebanon</td>\n",
       "      <td>Datasets</td>\n",
       "      <td>NaN</td>\n",
       "      <td>common operational dataset - cod</td>\n",
       "      <td>10/9/20</td>\n",
       "      <td>August 11, 2020-August 11, 2020</td>\n",
       "      <td>...</td>\n",
       "      <td>99-1400</td>\n",
       "      <td>Active</td>\n",
       "      <td>HTML</td>\n",
       "      <td>10/31/21</td>\n",
       "      <td>NaN</td>\n",
       "      <td>Other: humanitarian use only</td>\n",
       "      <td>Public</td>\n",
       "      <td>False</td>\n",
       "      <td>False</td>\n",
       "      <td>37.3K</td>\n",
       "    </tr>\n",
       "    <tr>\n",
       "      <th>1</th>\n",
       "      <td>Population potentially exposed to floods betwe...</td>\n",
       "      <td>Population potentially exposed to floods betwe...</td>\n",
       "      <td>UNOSAT code: FL20200713BGD  This map illustrat...</td>\n",
       "      <td>eng</td>\n",
       "      <td>UN Operational Satellite Applications Programm...</td>\n",
       "      <td>Datasets</td>\n",
       "      <td>NaN</td>\n",
       "      <td>floods - storm surges|geodata</td>\n",
       "      <td>8/11/20</td>\n",
       "      <td>July 24, 2020-July 24, 2020</td>\n",
       "      <td>...</td>\n",
       "      <td>99-1400</td>\n",
       "      <td>Active</td>\n",
       "      <td>HTML</td>\n",
       "      <td>10/31/21</td>\n",
       "      <td>NaN</td>\n",
       "      <td>Creative Commons Attribution Share-Alike</td>\n",
       "      <td>Public</td>\n",
       "      <td>False</td>\n",
       "      <td>False</td>\n",
       "      <td>NaN</td>\n",
       "    </tr>\n",
       "    <tr>\n",
       "      <th>2</th>\n",
       "      <td>Satellite detected water extent as of 21 July ...</td>\n",
       "      <td>Satellite detected water extent as of 21 July ...</td>\n",
       "      <td>UNOSAT code: FL20200713BGD  This map illustrat...</td>\n",
       "      <td>eng</td>\n",
       "      <td>UN Operational Satellite Applications Programm...</td>\n",
       "      <td>Datasets</td>\n",
       "      <td>NaN</td>\n",
       "      <td>floods - storm surges|geodata</td>\n",
       "      <td>7/24/20</td>\n",
       "      <td>July 22, 2020-July 22, 2020</td>\n",
       "      <td>...</td>\n",
       "      <td>99-1400</td>\n",
       "      <td>Active</td>\n",
       "      <td>HTML</td>\n",
       "      <td>10/31/21</td>\n",
       "      <td>NaN</td>\n",
       "      <td>Creative Commons Attribution Share-Alike</td>\n",
       "      <td>Public</td>\n",
       "      <td>False</td>\n",
       "      <td>False</td>\n",
       "      <td>NaN</td>\n",
       "    </tr>\n",
       "  </tbody>\n",
       "</table>\n",
       "<p>3 rows × 32 columns</p>\n",
       "</div>"
      ],
      "text/plain": [
       "                                               Title  \\\n",
       "0            Beirut port explosion operational zones   \n",
       "1  Population potentially exposed to floods betwe...   \n",
       "2  Satellite detected water extent as of 21 July ...   \n",
       "\n",
       "                                   Alternative Title  \\\n",
       "0            Beirut port explosion operational zones   \n",
       "1  Population potentially exposed to floods betwe...   \n",
       "2  Satellite detected water extent as of 21 July ...   \n",
       "\n",
       "                                         Description Language  \\\n",
       "0  Beirut port explosion operational zonesUPDATED...      eng   \n",
       "1  UNOSAT code: FL20200713BGD  This map illustrat...      eng   \n",
       "2  UNOSAT code: FL20200713BGD  This map illustrat...      eng   \n",
       "\n",
       "                                             Creator Resource Class  \\\n",
       "0                                       OCHA Lebanon       Datasets   \n",
       "1  UN Operational Satellite Applications Programm...       Datasets   \n",
       "2  UN Operational Satellite Applications Programm...       Datasets   \n",
       "\n",
       "   ISO Topic Categories                           Keyword Date Issued  \\\n",
       "0                   NaN  common operational dataset - cod     10/9/20   \n",
       "1                   NaN     floods - storm surges|geodata     8/11/20   \n",
       "2                   NaN     floods - storm surges|geodata     7/24/20   \n",
       "\n",
       "                 Temporal Coverage  ... Member Of  Status Accrual Method  \\\n",
       "0  August 11, 2020-August 11, 2020  ...   99-1400  Active           HTML   \n",
       "1      July 24, 2020-July 24, 2020  ...   99-1400  Active           HTML   \n",
       "2      July 22, 2020-July 22, 2020  ...   99-1400  Active           HTML   \n",
       "\n",
       "  Date Accessioned Rights                                   License  \\\n",
       "0         10/31/21    NaN              Other: humanitarian use only   \n",
       "1         10/31/21    NaN  Creative Commons Attribution Share-Alike   \n",
       "2         10/31/21    NaN  Creative Commons Attribution Share-Alike   \n",
       "\n",
       "  Access Rights Suppressed Child Record File Size  \n",
       "0        Public      False        False     37.3K  \n",
       "1        Public      False        False       NaN  \n",
       "2        Public      False        False       NaN  \n",
       "\n",
       "[3 rows x 32 columns]"
      ]
     },
     "execution_count": 5,
     "metadata": {},
     "output_type": "execute_result"
    }
   ],
   "source": [
    "df # Cleaner/tabular format"
   ]
  },
  {
   "cell_type": "markdown",
   "id": "4c6bb001",
   "metadata": {},
   "source": [
    "## 5. os.Walk File Walkthrough"
   ]
  },
  {
   "cell_type": "markdown",
   "id": "0885013a",
   "metadata": {},
   "source": [
    "- The `os.Walk` module gives an overview of all the main files within a file path, root, and directories and then lists what is inside each folder and progressing sub-folder."
   ]
  },
  {
   "cell_type": "code",
   "execution_count": 6,
   "id": "83a80d29",
   "metadata": {},
   "outputs": [
    {
     "name": "stdout",
     "output_type": "stream",
     "text": [
      ".\n",
      "['.ipynb_checkpoints']\n",
      "['.DS_Store', 'T-02_iterating-files.ipynb', 'HumanURLS.csv', 'CSV URLs OSWalk Tutorial .ipynb']\n",
      "<<<<<<<<<<->>>>>>>>>\n",
      "./.ipynb_checkpoints\n",
      "[]\n",
      "[]\n",
      "<<<<<<<<<<->>>>>>>>>\n"
     ]
    }
   ],
   "source": [
    "if __name__ == \"__main__\":\n",
    "    for (root,dirs,files) in os.walk('.', topdown=True): # Generates the file names in a directory tree by walking the tree either top-down or bottom-up.\n",
    "        print (root)\n",
    "        print (dirs)\n",
    "        print (files)\n",
    "        print ('<<<<<<<<<<->>>>>>>>>') # Seperator Line\n",
    "        # the loop prints out the name of the directory (root), a list of its subdirectories (dirs), and a list of its files (files)."
   ]
  },
  {
   "cell_type": "code",
   "execution_count": null,
   "id": "437a9888",
   "metadata": {},
   "outputs": [],
   "source": []
  }
 ],
 "metadata": {
  "kernelspec": {
   "display_name": "Python 3 (ipykernel)",
   "language": "python",
   "name": "python3"
  },
  "language_info": {
   "codemirror_mode": {
    "name": "ipython",
    "version": 3
   },
   "file_extension": ".py",
   "mimetype": "text/x-python",
   "name": "python",
   "nbconvert_exporter": "python",
   "pygments_lexer": "ipython3",
   "version": "3.9.12"
  }
 },
 "nbformat": 4,
 "nbformat_minor": 5
}
