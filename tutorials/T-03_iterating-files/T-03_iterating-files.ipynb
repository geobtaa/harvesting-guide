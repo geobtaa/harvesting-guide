{
 "cells": [
  {
   "cell_type": "markdown",
   "id": "950497ea",
   "metadata": {},
   "source": [
    "# Iterating over files with os.walk "
   ]
  },
  {
   "cell_type": "markdown",
   "id": "0885013a",
   "metadata": {},
   "source": [
    "Purpose: The `os.Walk` module gives an overview of all the main files within a file path, root, and directories and then lists what is inside each folder and sub-folder."
   ]
  },
  {
   "cell_type": "markdown",
   "id": "0439de6a",
   "metadata": {},
   "source": [
    "## 1. Print all files in current directory"
   ]
  },
  {
   "cell_type": "code",
   "execution_count": 19,
   "id": "83a80d29",
   "metadata": {},
   "outputs": [
    {
     "name": "stdout",
     "output_type": "stream",
     "text": [
      "('.', ['files', '.ipynb_checkpoints'], ['.DS_Store', 'T-03_iterating-files.ipynb'])\n",
      "('./files', [], ['EAU_CLAIRE_ROADS_2023.json', 'DUNN_PLSS_2023.json', 'EAU_CLAIRE_PLSS_2023.json', 'EAU_CLAIRE_ADDRESSES_2023.json', 'DUNN_ADDRESSES_2023.json', 'DUNN_ZONING_2023.json', 'EAU_CLAIRE_HYDRO_2023.json', 'DOUGLAS_ZONING_2023.json', 'DUNN_ROADS_2023.json'])\n",
      "('./.ipynb_checkpoints', [], ['T-03_iterating-files-checkpoint.ipynb'])\n"
     ]
    }
   ],
   "source": [
    "for (files) in os.walk('.', topdown=True): # Generates the file names in a directory tree by walking the tree either top-down or bottom-up.\n",
    "    print (files)"
   ]
  },
  {
   "cell_type": "markdown",
   "id": "e7c4c4c8",
   "metadata": {},
   "source": [
    "## 2. Print all files in neighboring directory"
   ]
  },
  {
   "cell_type": "code",
   "execution_count": 20,
   "id": "437a9888",
   "metadata": {},
   "outputs": [
    {
     "name": "stdout",
     "output_type": "stream",
     "text": [
      "('../T-04_merge-csv-files', ['.ipynb_checkpoints', 'sample-csvs'], ['.DS_Store', 'T-04_merge-csv-files.ipynb', 'merged_file.csv'])\n",
      "('../T-04_merge-csv-files/.ipynb_checkpoints', [], ['T-07_merge-csv-files-checkpoint.ipynb', 'T-04_merge-csv-files-checkpoint.ipynb'])\n",
      "('../T-04_merge-csv-files/sample-csvs', [], ['metadata-missing-imageLinks.csv', 'imageLinks.csv'])\n"
     ]
    }
   ],
   "source": [
    "for (dirs) in os.walk('../T-04_merge-csv-files', topdown=True): # Generates the file names in a directory tree by walking the tree either top-down or bottom-up.\n",
    "    print (dirs)"
   ]
  }
 ],
 "metadata": {
  "kernelspec": {
   "display_name": "Python 3 (ipykernel)",
   "language": "python",
   "name": "python3"
  },
  "language_info": {
   "codemirror_mode": {
    "name": "ipython",
    "version": 3
   },
   "file_extension": ".py",
   "mimetype": "text/x-python",
   "name": "python",
   "nbconvert_exporter": "python",
   "pygments_lexer": "ipython3",
   "version": "3.9.16"
  }
 },
 "nbformat": 4,
 "nbformat_minor": 5
}
