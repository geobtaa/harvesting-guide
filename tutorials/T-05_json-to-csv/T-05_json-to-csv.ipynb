{
 "cells": [
  {
   "cell_type": "markdown",
   "id": "b8ee7bd6",
   "metadata": {
    "slideshow": {
     "slide_type": "slide"
    }
   },
   "source": [
    "# Transform a batch of JSON files into a single CSV file\n",
    "\n",
    "This tutorial uses the Python module [pandas (Python Data Analysis Library)](https://pandas.pydata.org) to open a batch of JSON files and transform the contents into a single CSV"
   ]
  },
  {
   "cell_type": "markdown",
   "id": "e68baf22",
   "metadata": {
    "slideshow": {
     "slide_type": "slide"
    }
   },
   "source": [
    "## 1. Install pandas\n",
    "\n",
    "If you do not have pandas installed yet, choose ONE of the following commands. (Uncomment one of these)"
   ]
  },
  {
   "cell_type": "code",
   "execution_count": 1,
   "id": "f00bf02c",
   "metadata": {
    "slideshow": {
     "slide_type": "subslide"
    }
   },
   "outputs": [],
   "source": [
    "# ! conda install pandas --yes\n",
    "\n",
    "# OR\n",
    "\n",
    "# ! pip install pandas --yes"
   ]
  },
  {
   "cell_type": "markdown",
   "id": "ea6daf23",
   "metadata": {},
   "source": [
    "## 2. Import modules\n",
    "\n",
    "Next, we will import a few Python modules."
   ]
  },
  {
   "cell_type": "code",
   "execution_count": 2,
   "id": "f5033f57",
   "metadata": {},
   "outputs": [
    {
     "name": "stdout",
     "output_type": "stream",
     "text": [
      "modules imported\n"
     ]
    }
   ],
   "source": [
    "import csv\n",
    "import json\n",
    "import os\n",
    "import pandas as pd\n",
    "\n",
    "print(\"modules imported\")"
   ]
  },
  {
   "cell_type": "markdown",
   "id": "4fed2d9f",
   "metadata": {},
   "source": [
    "## 3. Declare the file paths and names\n",
    "\n",
    "Next, declare your file paths and names. For this tutorial, we are going to open 3 JSON files that are in the local folder called `sample-jsons`.\n",
    "\n",
    "Then, we enter the name `pandas-output` for the CSV file that will be created"
   ]
  },
  {
   "cell_type": "code",
   "execution_count": 3,
   "id": "be1ce0a9",
   "metadata": {},
   "outputs": [
    {
     "name": "stdout",
     "output_type": "stream",
     "text": [
      "file paths and names declared\n"
     ]
    }
   ],
   "source": [
    "json_path = r\"sample-jsons\" # point to the folder path\n",
    "csv_name = \"pandas-output\" # name for the csv to be created\n",
    "\n",
    "print(\"file paths and names declared\")"
   ]
  },
  {
   "cell_type": "markdown",
   "id": "c6ca8e52",
   "metadata": {},
   "source": [
    "## 4 .Create an empty list\n",
    "\n",
    "Before we run a Python loop, we need to create an empty list that will store the information. We give it a name of `jsonMetadata` and set it as equal to empty (`= []`) \n",
    "\n",
    "When we print the list, we see that it is empty."
   ]
  },
  {
   "cell_type": "code",
   "execution_count": 4,
   "id": "ce667375",
   "metadata": {},
   "outputs": [
    {
     "name": "stdout",
     "output_type": "stream",
     "text": [
      "[]\n"
     ]
    }
   ],
   "source": [
    "jsonMetadata = [] # empty list\n",
    "\n",
    "print(jsonMetadata)"
   ]
  },
  {
   "cell_type": "markdown",
   "id": "2433925d",
   "metadata": {},
   "source": [
    "## 5. Open the JSON files and add them to a Python List\n",
    "\n",
    "The code uses `os.walk`. This will open each JSON file, read the metadata,, and add it to a list called `jsonMetadata` (the one we created in the last step).\n",
    "\n",
    "When we print the list, we can see all of the metadata from the JSONs. Each file is within brackets[]."
   ]
  },
  {
   "cell_type": "code",
   "execution_count": 5,
   "id": "6597d26b",
   "metadata": {},
   "outputs": [
    {
     "name": "stdout",
     "output_type": "stream",
     "text": [
      "[{'geoblacklight_version': '1.0', 'dc_identifier_s': '9d298d5f-6eb6-453a-a266-992aa38db665', 'dc_title_s': 'LiDAR-Derived Countywide DEM for Iron County, WI 2019', 'dc_description_s': 'This data represents a LiDAR-derived countywide Digital Elevation Model (DEM) for Iron County, Wisconsin in 2019. A DEM represents the bare-Earth surface, removing all natural and built features. This dataset contains a single file covering the geographic extent of the entire county.', 'dc_rights_s': 'Public', 'dct_provenance_s': 'WisconsinView', 'layer_id_s': '', 'layer_slug_s': '9d298d5f-6eb6-453a-a266-992aa38db665', 'layer_geom_type_s': 'Raster', 'layer_modified_dt': '2022-01-22T20:12:43Z', 'dc_format_s': 'GeoTIFF', 'dc_language_s': 'English', 'dct_isPartOf_sm': ['Wisconsin Elevation Data', 'Coastal'], 'dc_creator_sm': ['U.S. Geological Survey'], 'dc_publisher_sm': '', 'dc_type_s': 'Dataset', 'dc_subject_sm': ['Elevation'], 'dct_spatial_sm': [''], 'dct_temporal_sm': ['2019'], 'solr_year_i': 2019, 'dct_issued_s': '', 'dct_references_s': '{\"http://schema.org/url\":\"https://www.sco.wisc.edu/data/elevationlidar/\",\"http://schema.org/downloadUrl\":\"https://bin.ssec.wisc.edu/pub/wisconsinview/lidar/Iron/Iron_2019_WVP_Derived_Products/\",\"http://www.isotc211.org/schemas/2005/gmd/\":\"https://gisdata.wisc.edu/public/metadata/Iron_LIDAR_USGS_2019.xml\"}', 'solr_geom': 'ENVELOPE(-90.55228446,-89.92830784,46.59004326,45.98148968)', 'thumbnail_path_ss': '', 'uw_supplemental_s': '', 'uw_notice_s': '', 'uw_deprioritize_item_b': False}]\n",
      "[{'geoblacklight_version': '1.0', 'dc_identifier_s': '9d298d5f-6eb6-453a-a266-992aa38db665', 'dc_title_s': 'LiDAR-Derived Countywide DEM for Iron County, WI 2019', 'dc_description_s': 'This data represents a LiDAR-derived countywide Digital Elevation Model (DEM) for Iron County, Wisconsin in 2019. A DEM represents the bare-Earth surface, removing all natural and built features. This dataset contains a single file covering the geographic extent of the entire county.', 'dc_rights_s': 'Public', 'dct_provenance_s': 'WisconsinView', 'layer_id_s': '', 'layer_slug_s': '9d298d5f-6eb6-453a-a266-992aa38db665', 'layer_geom_type_s': 'Raster', 'layer_modified_dt': '2022-01-22T20:12:43Z', 'dc_format_s': 'GeoTIFF', 'dc_language_s': 'English', 'dct_isPartOf_sm': ['Wisconsin Elevation Data', 'Coastal'], 'dc_creator_sm': ['U.S. Geological Survey'], 'dc_publisher_sm': '', 'dc_type_s': 'Dataset', 'dc_subject_sm': ['Elevation'], 'dct_spatial_sm': [''], 'dct_temporal_sm': ['2019'], 'solr_year_i': 2019, 'dct_issued_s': '', 'dct_references_s': '{\"http://schema.org/url\":\"https://www.sco.wisc.edu/data/elevationlidar/\",\"http://schema.org/downloadUrl\":\"https://bin.ssec.wisc.edu/pub/wisconsinview/lidar/Iron/Iron_2019_WVP_Derived_Products/\",\"http://www.isotc211.org/schemas/2005/gmd/\":\"https://gisdata.wisc.edu/public/metadata/Iron_LIDAR_USGS_2019.xml\"}', 'solr_geom': 'ENVELOPE(-90.55228446,-89.92830784,46.59004326,45.98148968)', 'thumbnail_path_ss': '', 'uw_supplemental_s': '', 'uw_notice_s': '', 'uw_deprioritize_item_b': False}, {'geoblacklight_version': '1.0', 'dc_identifier_s': '669cfb43-a931-4036-b0d1-1d6494a76939', 'dc_title_s': 'LiDAR-Derived Breaklines (QL1) for Florence County, WI 2019', 'dc_description_s': 'This data represents LiDAR-derived breaklines (QL1) in Florence County, Wisconsin in 2019. Hydro breaklines maintain the definition of water-related features in an elevation model (QL1 – high resolution data with 8 points per square meter). They are used to capture linear discontinuities in the surface, lake shorelines, single-line drains for small rivers, and double-line drains for large rivers.', 'dc_rights_s': 'Public', 'dct_provenance_s': 'WisconsinView', 'layer_id_s': '', 'layer_slug_s': '669cfb43-a931-4036-b0d1-1d6494a76939', 'layer_geom_type_s': 'Line', 'layer_modified_dt': '2022-01-22T20:12:43Z', 'dc_format_s': 'Shapefile', 'dc_language_s': 'English', 'dct_isPartOf_sm': ['Wisconsin Elevation Data'], 'dc_creator_sm': ['U.S. Geological Survey'], 'dc_publisher_sm': '', 'dc_type_s': 'Dataset', 'dc_subject_sm': ['Elevation'], 'dct_spatial_sm': [''], 'dct_temporal_sm': ['2019'], 'solr_year_i': 2019, 'dct_issued_s': '', 'dct_references_s': '{\"http://schema.org/url\":\"https://www.sco.wisc.edu/data/elevationlidar/\",\"http://schema.org/downloadUrl\":[{\"url\": \"https://bin.ssec.wisc.edu/pub/wisconsinview/lidar/Florence/Florence_2019_3DEP_Delivery/WI_Florence_QL1_USGS_2019/Florence_QL1_breaklines/Florence_QL1_Breaklines_SHP.zip\", \"label\": \"Shapefile\"},{\"url\":\"https://bin.ssec.wisc.edu/pub/wisconsinview/lidar/Florence/Florence_2019_3DEP_Delivery/WI_Florence_QL1_USGS_2019/Florence_QL1_breaklines/Florence_QL1_Breaklines.gdb.zip\",\"label\": \"Geodatabase\"}],\"http://www.isotc211.org/schemas/2005/gmd/\":\"https://gisdata.wisc.edu/public/metadata/Florence_LIDAR_USGS_2019.xml\"}', 'solr_geom': 'ENVELOPE(-88.68421375,-88.05822859,46.02121159,45.7130394)', 'thumbnail_path_ss': '', 'uw_supplemental_s': '', 'uw_notice_s': '', 'uw_deprioritize_item_b': False}]\n",
      "[{'geoblacklight_version': '1.0', 'dc_identifier_s': '9d298d5f-6eb6-453a-a266-992aa38db665', 'dc_title_s': 'LiDAR-Derived Countywide DEM for Iron County, WI 2019', 'dc_description_s': 'This data represents a LiDAR-derived countywide Digital Elevation Model (DEM) for Iron County, Wisconsin in 2019. A DEM represents the bare-Earth surface, removing all natural and built features. This dataset contains a single file covering the geographic extent of the entire county.', 'dc_rights_s': 'Public', 'dct_provenance_s': 'WisconsinView', 'layer_id_s': '', 'layer_slug_s': '9d298d5f-6eb6-453a-a266-992aa38db665', 'layer_geom_type_s': 'Raster', 'layer_modified_dt': '2022-01-22T20:12:43Z', 'dc_format_s': 'GeoTIFF', 'dc_language_s': 'English', 'dct_isPartOf_sm': ['Wisconsin Elevation Data', 'Coastal'], 'dc_creator_sm': ['U.S. Geological Survey'], 'dc_publisher_sm': '', 'dc_type_s': 'Dataset', 'dc_subject_sm': ['Elevation'], 'dct_spatial_sm': [''], 'dct_temporal_sm': ['2019'], 'solr_year_i': 2019, 'dct_issued_s': '', 'dct_references_s': '{\"http://schema.org/url\":\"https://www.sco.wisc.edu/data/elevationlidar/\",\"http://schema.org/downloadUrl\":\"https://bin.ssec.wisc.edu/pub/wisconsinview/lidar/Iron/Iron_2019_WVP_Derived_Products/\",\"http://www.isotc211.org/schemas/2005/gmd/\":\"https://gisdata.wisc.edu/public/metadata/Iron_LIDAR_USGS_2019.xml\"}', 'solr_geom': 'ENVELOPE(-90.55228446,-89.92830784,46.59004326,45.98148968)', 'thumbnail_path_ss': '', 'uw_supplemental_s': '', 'uw_notice_s': '', 'uw_deprioritize_item_b': False}, {'geoblacklight_version': '1.0', 'dc_identifier_s': '669cfb43-a931-4036-b0d1-1d6494a76939', 'dc_title_s': 'LiDAR-Derived Breaklines (QL1) for Florence County, WI 2019', 'dc_description_s': 'This data represents LiDAR-derived breaklines (QL1) in Florence County, Wisconsin in 2019. Hydro breaklines maintain the definition of water-related features in an elevation model (QL1 – high resolution data with 8 points per square meter). They are used to capture linear discontinuities in the surface, lake shorelines, single-line drains for small rivers, and double-line drains for large rivers.', 'dc_rights_s': 'Public', 'dct_provenance_s': 'WisconsinView', 'layer_id_s': '', 'layer_slug_s': '669cfb43-a931-4036-b0d1-1d6494a76939', 'layer_geom_type_s': 'Line', 'layer_modified_dt': '2022-01-22T20:12:43Z', 'dc_format_s': 'Shapefile', 'dc_language_s': 'English', 'dct_isPartOf_sm': ['Wisconsin Elevation Data'], 'dc_creator_sm': ['U.S. Geological Survey'], 'dc_publisher_sm': '', 'dc_type_s': 'Dataset', 'dc_subject_sm': ['Elevation'], 'dct_spatial_sm': [''], 'dct_temporal_sm': ['2019'], 'solr_year_i': 2019, 'dct_issued_s': '', 'dct_references_s': '{\"http://schema.org/url\":\"https://www.sco.wisc.edu/data/elevationlidar/\",\"http://schema.org/downloadUrl\":[{\"url\": \"https://bin.ssec.wisc.edu/pub/wisconsinview/lidar/Florence/Florence_2019_3DEP_Delivery/WI_Florence_QL1_USGS_2019/Florence_QL1_breaklines/Florence_QL1_Breaklines_SHP.zip\", \"label\": \"Shapefile\"},{\"url\":\"https://bin.ssec.wisc.edu/pub/wisconsinview/lidar/Florence/Florence_2019_3DEP_Delivery/WI_Florence_QL1_USGS_2019/Florence_QL1_breaklines/Florence_QL1_Breaklines.gdb.zip\",\"label\": \"Geodatabase\"}],\"http://www.isotc211.org/schemas/2005/gmd/\":\"https://gisdata.wisc.edu/public/metadata/Florence_LIDAR_USGS_2019.xml\"}', 'solr_geom': 'ENVELOPE(-88.68421375,-88.05822859,46.02121159,45.7130394)', 'thumbnail_path_ss': '', 'uw_supplemental_s': '', 'uw_notice_s': '', 'uw_deprioritize_item_b': False}, {'geoblacklight_version': '1.0', 'dc_identifier_s': '903a388a-248b-416d-8dec-ff0258d84023', 'dc_title_s': 'LiDAR-Derived Intensity Images (QL2) for Ashland County, WI 2019', 'dc_description_s': 'This data represents LiDAR-derived intensity images (QL2) for Ashland County, Wisconsin in 2019 (QL2 data – lower resolution with 2 points per square meter). LiDAR intensity is recorded as the return strength of a laser beam. It is a bi-product, provided as an integer number between 1-256. This number varies with the composition of the surface object reflecting the laser beam. A low number indicates low reflectivity while a high number indicates high reflectivity. The intensity of the laser beam return can also be affected by the angle of arrival (scan angle), range, surface composition, roughness, and moisture content.', 'dc_rights_s': 'Public', 'dct_provenance_s': 'WisconsinView', 'layer_id_s': '', 'layer_slug_s': '903a388a-248b-416d-8dec-ff0258d84023', 'layer_geom_type_s': 'Raster', 'layer_modified_dt': '2022-01-22T20:12:43Z', 'dc_format_s': 'GeoTIFF', 'dc_language_s': 'English', 'dct_isPartOf_sm': ['Wisconsin Elevation Data', 'Coastal'], 'dc_creator_sm': ['U.S. Geological Survey'], 'dc_publisher_sm': '', 'dc_type_s': 'Dataset', 'dc_subject_sm': ['Elevation'], 'dct_spatial_sm': [''], 'dct_temporal_sm': ['2019'], 'solr_year_i': 2019, 'dct_issued_s': '', 'dct_references_s': '{\"http://schema.org/url\":\"https://www.sco.wisc.edu/data/elevationlidar/\",\"https://openindexmaps.org\":\"https://gisdata.wisc.edu/public/indexes/Ashland_Intensity_Images_2019_USGS_QL2.geojson\",\"http://www.isotc211.org/schemas/2005/gmd/\":\"https://gisdata.wisc.edu/public/metadata/Ashland_LIDAR_USGS_2019.xml\"}', 'solr_geom': 'ENVELOPE(-90.92761352,-90.3000452,47.08077476,45.98031944)', 'thumbnail_path_ss': '', 'uw_supplemental_s': '', 'uw_notice_s': '', 'uw_deprioritize_item_b': False}]\n"
     ]
    }
   ],
   "source": [
    "for path, dir, files in os.walk(json_path):\n",
    "    for filename in files:\n",
    "    \tif filename.endswith(\".json\"):\n",
    "            file_path = os.path.join(path, filename)\n",
    "            json_file_open = open(file_path, 'rb')\n",
    "            data = json_file_open.read().decode('utf-8', errors='ignore')\n",
    "            loaded = json.loads(data)\n",
    "            jsonMetadata.append(loaded)\n",
    "            print(jsonMetadata)"
   ]
  },
  {
   "cell_type": "markdown",
   "id": "826fe81e",
   "metadata": {},
   "source": [
    "## 6. Convert the List into a pandas DataFrame\n",
    "\n",
    "Here is where **pandas** finally comes in. We convert the list (jsonMetadata) into a special object called a *pandas DataFrame*. Here, we use the convention of calling the DataFrame `df`. We will print out the DataFrame so you can see how it is restructured by the names of the metadata fields."
   ]
  },
  {
   "cell_type": "code",
   "execution_count": 6,
   "id": "a5a8fdac",
   "metadata": {},
   "outputs": [
    {
     "name": "stdout",
     "output_type": "stream",
     "text": [
      "  geoblacklight_version                       dc_identifier_s  \\\n",
      "0                   1.0  9d298d5f-6eb6-453a-a266-992aa38db665   \n",
      "1                   1.0  669cfb43-a931-4036-b0d1-1d6494a76939   \n",
      "2                   1.0  903a388a-248b-416d-8dec-ff0258d84023   \n",
      "\n",
      "                                          dc_title_s  \\\n",
      "0  LiDAR-Derived Countywide DEM for Iron County, ...   \n",
      "1  LiDAR-Derived Breaklines (QL1) for Florence Co...   \n",
      "2  LiDAR-Derived Intensity Images (QL2) for Ashla...   \n",
      "\n",
      "                                    dc_description_s dc_rights_s  \\\n",
      "0  This data represents a LiDAR-derived countywid...      Public   \n",
      "1  This data represents LiDAR-derived breaklines ...      Public   \n",
      "2  This data represents LiDAR-derived intensity i...      Public   \n",
      "\n",
      "  dct_provenance_s layer_id_s                          layer_slug_s  \\\n",
      "0    WisconsinView             9d298d5f-6eb6-453a-a266-992aa38db665   \n",
      "1    WisconsinView             669cfb43-a931-4036-b0d1-1d6494a76939   \n",
      "2    WisconsinView             903a388a-248b-416d-8dec-ff0258d84023   \n",
      "\n",
      "  layer_geom_type_s     layer_modified_dt  ... dct_spatial_sm dct_temporal_sm  \\\n",
      "0            Raster  2022-01-22T20:12:43Z  ...             []          [2019]   \n",
      "1              Line  2022-01-22T20:12:43Z  ...             []          [2019]   \n",
      "2            Raster  2022-01-22T20:12:43Z  ...             []          [2019]   \n",
      "\n",
      "  solr_year_i dct_issued_s                                   dct_references_s  \\\n",
      "0        2019               {\"http://schema.org/url\":\"https://www.sco.wisc...   \n",
      "1        2019               {\"http://schema.org/url\":\"https://www.sco.wisc...   \n",
      "2        2019               {\"http://schema.org/url\":\"https://www.sco.wisc...   \n",
      "\n",
      "                                           solr_geom thumbnail_path_ss  \\\n",
      "0  ENVELOPE(-90.55228446,-89.92830784,46.59004326...                     \n",
      "1  ENVELOPE(-88.68421375,-88.05822859,46.02121159...                     \n",
      "2  ENVELOPE(-90.92761352,-90.3000452,47.08077476,...                     \n",
      "\n",
      "  uw_supplemental_s uw_notice_s  uw_deprioritize_item_b  \n",
      "0                                                 False  \n",
      "1                                                 False  \n",
      "2                                                 False  \n",
      "\n",
      "[3 rows x 27 columns]\n"
     ]
    }
   ],
   "source": [
    "df = pd.DataFrame(jsonMetadata)\n",
    "print(df)"
   ]
  },
  {
   "cell_type": "markdown",
   "id": "adc6cfc3",
   "metadata": {},
   "source": [
    "## 7. Drop one of the columns\n",
    "\n",
    "Now that all of the metadata from the JSON files is loaded into a pandas DataFrame, we can manipulate it in various ways. For example, let's say we do not want to include the column called `geoblacklight_version` in our final output. We can call the `.drop` method. When the DataFrame is printed out again, the first column is gone!"
   ]
  },
  {
   "cell_type": "code",
   "execution_count": 7,
   "id": "0e574575",
   "metadata": {},
   "outputs": [
    {
     "name": "stdout",
     "output_type": "stream",
     "text": [
      "                        dc_identifier_s  \\\n",
      "0  9d298d5f-6eb6-453a-a266-992aa38db665   \n",
      "1  669cfb43-a931-4036-b0d1-1d6494a76939   \n",
      "2  903a388a-248b-416d-8dec-ff0258d84023   \n",
      "\n",
      "                                          dc_title_s  \\\n",
      "0  LiDAR-Derived Countywide DEM for Iron County, ...   \n",
      "1  LiDAR-Derived Breaklines (QL1) for Florence Co...   \n",
      "2  LiDAR-Derived Intensity Images (QL2) for Ashla...   \n",
      "\n",
      "                                    dc_description_s dc_rights_s  \\\n",
      "0  This data represents a LiDAR-derived countywid...      Public   \n",
      "1  This data represents LiDAR-derived breaklines ...      Public   \n",
      "2  This data represents LiDAR-derived intensity i...      Public   \n",
      "\n",
      "  dct_provenance_s layer_id_s                          layer_slug_s  \\\n",
      "0    WisconsinView             9d298d5f-6eb6-453a-a266-992aa38db665   \n",
      "1    WisconsinView             669cfb43-a931-4036-b0d1-1d6494a76939   \n",
      "2    WisconsinView             903a388a-248b-416d-8dec-ff0258d84023   \n",
      "\n",
      "  layer_geom_type_s     layer_modified_dt dc_format_s  ... dct_spatial_sm  \\\n",
      "0            Raster  2022-01-22T20:12:43Z     GeoTIFF  ...             []   \n",
      "1              Line  2022-01-22T20:12:43Z   Shapefile  ...             []   \n",
      "2            Raster  2022-01-22T20:12:43Z     GeoTIFF  ...             []   \n",
      "\n",
      "  dct_temporal_sm solr_year_i dct_issued_s  \\\n",
      "0          [2019]        2019                \n",
      "1          [2019]        2019                \n",
      "2          [2019]        2019                \n",
      "\n",
      "                                    dct_references_s  \\\n",
      "0  {\"http://schema.org/url\":\"https://www.sco.wisc...   \n",
      "1  {\"http://schema.org/url\":\"https://www.sco.wisc...   \n",
      "2  {\"http://schema.org/url\":\"https://www.sco.wisc...   \n",
      "\n",
      "                                           solr_geom thumbnail_path_ss  \\\n",
      "0  ENVELOPE(-90.55228446,-89.92830784,46.59004326...                     \n",
      "1  ENVELOPE(-88.68421375,-88.05822859,46.02121159...                     \n",
      "2  ENVELOPE(-90.92761352,-90.3000452,47.08077476,...                     \n",
      "\n",
      "  uw_supplemental_s  uw_notice_s uw_deprioritize_item_b  \n",
      "0                                                 False  \n",
      "1                                                 False  \n",
      "2                                                 False  \n",
      "\n",
      "[3 rows x 26 columns]\n"
     ]
    }
   ],
   "source": [
    "df = df.drop(columns=['geoblacklight_version'])\n",
    "print(df)"
   ]
  },
  {
   "cell_type": "markdown",
   "id": "19117c7b",
   "metadata": {},
   "source": [
    "## 8. Write the DataFrame to a CSV file\n",
    "\n",
    "We can perform other data conversions or analysis at this step as well, such as changing the column names, rearranging them, or other manipulations. For now, we will write the DataFrame to a CSV to look at."
   ]
  },
  {
   "cell_type": "code",
   "execution_count": 8,
   "id": "54462637",
   "metadata": {},
   "outputs": [],
   "source": [
    "df.to_csv(\"{}.csv\".format(csv_name))"
   ]
  },
  {
   "cell_type": "markdown",
   "id": "570469f2",
   "metadata": {},
   "source": [
    "## 9. Inspect the new CSV file\n",
    "\n",
    "In practice, you will likely open a generated CSV file in a spreadsheet editor to prepare the metadata for publishing. However, let's take a look a it within this Notebook using the pandas `.read_csv` function."
   ]
  },
  {
   "cell_type": "code",
   "execution_count": 9,
   "id": "04d4b016",
   "metadata": {},
   "outputs": [
    {
     "data": {
      "text/html": [
       "<div>\n",
       "<style scoped>\n",
       "    .dataframe tbody tr th:only-of-type {\n",
       "        vertical-align: middle;\n",
       "    }\n",
       "\n",
       "    .dataframe tbody tr th {\n",
       "        vertical-align: top;\n",
       "    }\n",
       "\n",
       "    .dataframe thead th {\n",
       "        text-align: right;\n",
       "    }\n",
       "</style>\n",
       "<table border=\"1\" class=\"dataframe\">\n",
       "  <thead>\n",
       "    <tr style=\"text-align: right;\">\n",
       "      <th></th>\n",
       "      <th>Unnamed: 0</th>\n",
       "      <th>dc_identifier_s</th>\n",
       "      <th>dc_title_s</th>\n",
       "      <th>dc_description_s</th>\n",
       "      <th>dc_rights_s</th>\n",
       "      <th>dct_provenance_s</th>\n",
       "      <th>layer_id_s</th>\n",
       "      <th>layer_slug_s</th>\n",
       "      <th>layer_geom_type_s</th>\n",
       "      <th>layer_modified_dt</th>\n",
       "      <th>...</th>\n",
       "      <th>dct_spatial_sm</th>\n",
       "      <th>dct_temporal_sm</th>\n",
       "      <th>solr_year_i</th>\n",
       "      <th>dct_issued_s</th>\n",
       "      <th>dct_references_s</th>\n",
       "      <th>solr_geom</th>\n",
       "      <th>thumbnail_path_ss</th>\n",
       "      <th>uw_supplemental_s</th>\n",
       "      <th>uw_notice_s</th>\n",
       "      <th>uw_deprioritize_item_b</th>\n",
       "    </tr>\n",
       "  </thead>\n",
       "  <tbody>\n",
       "    <tr>\n",
       "      <th>0</th>\n",
       "      <td>0</td>\n",
       "      <td>9d298d5f-6eb6-453a-a266-992aa38db665</td>\n",
       "      <td>LiDAR-Derived Countywide DEM for Iron County, ...</td>\n",
       "      <td>This data represents a LiDAR-derived countywid...</td>\n",
       "      <td>Public</td>\n",
       "      <td>WisconsinView</td>\n",
       "      <td>NaN</td>\n",
       "      <td>9d298d5f-6eb6-453a-a266-992aa38db665</td>\n",
       "      <td>Raster</td>\n",
       "      <td>2022-01-22T20:12:43Z</td>\n",
       "      <td>...</td>\n",
       "      <td>['']</td>\n",
       "      <td>['2019']</td>\n",
       "      <td>2019</td>\n",
       "      <td>NaN</td>\n",
       "      <td>{\"http://schema.org/url\":\"https://www.sco.wisc...</td>\n",
       "      <td>ENVELOPE(-90.55228446,-89.92830784,46.59004326...</td>\n",
       "      <td>NaN</td>\n",
       "      <td>NaN</td>\n",
       "      <td>NaN</td>\n",
       "      <td>False</td>\n",
       "    </tr>\n",
       "    <tr>\n",
       "      <th>1</th>\n",
       "      <td>1</td>\n",
       "      <td>669cfb43-a931-4036-b0d1-1d6494a76939</td>\n",
       "      <td>LiDAR-Derived Breaklines (QL1) for Florence Co...</td>\n",
       "      <td>This data represents LiDAR-derived breaklines ...</td>\n",
       "      <td>Public</td>\n",
       "      <td>WisconsinView</td>\n",
       "      <td>NaN</td>\n",
       "      <td>669cfb43-a931-4036-b0d1-1d6494a76939</td>\n",
       "      <td>Line</td>\n",
       "      <td>2022-01-22T20:12:43Z</td>\n",
       "      <td>...</td>\n",
       "      <td>['']</td>\n",
       "      <td>['2019']</td>\n",
       "      <td>2019</td>\n",
       "      <td>NaN</td>\n",
       "      <td>{\"http://schema.org/url\":\"https://www.sco.wisc...</td>\n",
       "      <td>ENVELOPE(-88.68421375,-88.05822859,46.02121159...</td>\n",
       "      <td>NaN</td>\n",
       "      <td>NaN</td>\n",
       "      <td>NaN</td>\n",
       "      <td>False</td>\n",
       "    </tr>\n",
       "    <tr>\n",
       "      <th>2</th>\n",
       "      <td>2</td>\n",
       "      <td>903a388a-248b-416d-8dec-ff0258d84023</td>\n",
       "      <td>LiDAR-Derived Intensity Images (QL2) for Ashla...</td>\n",
       "      <td>This data represents LiDAR-derived intensity i...</td>\n",
       "      <td>Public</td>\n",
       "      <td>WisconsinView</td>\n",
       "      <td>NaN</td>\n",
       "      <td>903a388a-248b-416d-8dec-ff0258d84023</td>\n",
       "      <td>Raster</td>\n",
       "      <td>2022-01-22T20:12:43Z</td>\n",
       "      <td>...</td>\n",
       "      <td>['']</td>\n",
       "      <td>['2019']</td>\n",
       "      <td>2019</td>\n",
       "      <td>NaN</td>\n",
       "      <td>{\"http://schema.org/url\":\"https://www.sco.wisc...</td>\n",
       "      <td>ENVELOPE(-90.92761352,-90.3000452,47.08077476,...</td>\n",
       "      <td>NaN</td>\n",
       "      <td>NaN</td>\n",
       "      <td>NaN</td>\n",
       "      <td>False</td>\n",
       "    </tr>\n",
       "  </tbody>\n",
       "</table>\n",
       "<p>3 rows × 27 columns</p>\n",
       "</div>"
      ],
      "text/plain": [
       "   Unnamed: 0                       dc_identifier_s  \\\n",
       "0           0  9d298d5f-6eb6-453a-a266-992aa38db665   \n",
       "1           1  669cfb43-a931-4036-b0d1-1d6494a76939   \n",
       "2           2  903a388a-248b-416d-8dec-ff0258d84023   \n",
       "\n",
       "                                          dc_title_s  \\\n",
       "0  LiDAR-Derived Countywide DEM for Iron County, ...   \n",
       "1  LiDAR-Derived Breaklines (QL1) for Florence Co...   \n",
       "2  LiDAR-Derived Intensity Images (QL2) for Ashla...   \n",
       "\n",
       "                                    dc_description_s dc_rights_s  \\\n",
       "0  This data represents a LiDAR-derived countywid...      Public   \n",
       "1  This data represents LiDAR-derived breaklines ...      Public   \n",
       "2  This data represents LiDAR-derived intensity i...      Public   \n",
       "\n",
       "  dct_provenance_s  layer_id_s                          layer_slug_s  \\\n",
       "0    WisconsinView         NaN  9d298d5f-6eb6-453a-a266-992aa38db665   \n",
       "1    WisconsinView         NaN  669cfb43-a931-4036-b0d1-1d6494a76939   \n",
       "2    WisconsinView         NaN  903a388a-248b-416d-8dec-ff0258d84023   \n",
       "\n",
       "  layer_geom_type_s     layer_modified_dt  ... dct_spatial_sm dct_temporal_sm  \\\n",
       "0            Raster  2022-01-22T20:12:43Z  ...           ['']        ['2019']   \n",
       "1              Line  2022-01-22T20:12:43Z  ...           ['']        ['2019']   \n",
       "2            Raster  2022-01-22T20:12:43Z  ...           ['']        ['2019']   \n",
       "\n",
       "  solr_year_i dct_issued_s                                   dct_references_s  \\\n",
       "0        2019          NaN  {\"http://schema.org/url\":\"https://www.sco.wisc...   \n",
       "1        2019          NaN  {\"http://schema.org/url\":\"https://www.sco.wisc...   \n",
       "2        2019          NaN  {\"http://schema.org/url\":\"https://www.sco.wisc...   \n",
       "\n",
       "                                           solr_geom thumbnail_path_ss  \\\n",
       "0  ENVELOPE(-90.55228446,-89.92830784,46.59004326...               NaN   \n",
       "1  ENVELOPE(-88.68421375,-88.05822859,46.02121159...               NaN   \n",
       "2  ENVELOPE(-90.92761352,-90.3000452,47.08077476,...               NaN   \n",
       "\n",
       "  uw_supplemental_s uw_notice_s  uw_deprioritize_item_b  \n",
       "0               NaN         NaN                   False  \n",
       "1               NaN         NaN                   False  \n",
       "2               NaN         NaN                   False  \n",
       "\n",
       "[3 rows x 27 columns]"
      ]
     },
     "execution_count": 9,
     "metadata": {},
     "output_type": "execute_result"
    }
   ],
   "source": [
    "new_csv = pd.read_csv(\"pandas-output.csv\")\n",
    "new_csv.head(3) #displays the first 3 rows for us"
   ]
  },
  {
   "cell_type": "markdown",
   "id": "99a027c9",
   "metadata": {},
   "source": [
    "*For a more complex version of this script, see the Recipes section.*"
   ]
  }
 ],
 "metadata": {
  "kernelspec": {
   "display_name": "Python 3 (ipykernel)",
   "language": "python",
   "name": "python3"
  },
  "language_info": {
   "codemirror_mode": {
    "name": "ipython",
    "version": 3
   },
   "file_extension": ".py",
   "mimetype": "text/x-python",
   "name": "python",
   "nbconvert_exporter": "python",
   "pygments_lexer": "ipython3",
   "version": "3.9.16"
  }
 },
 "nbformat": 4,
 "nbformat_minor": 5
}
