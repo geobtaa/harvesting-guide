{
 "cells": [
  {
   "cell_type": "code",
   "execution_count": 7,
   "id": "7b1c8431",
   "metadata": {
    "lines_to_next_cell": 1
   },
   "outputs": [],
   "source": [
    "import pandas as pd\n",
    "import requests"
   ]
  },
  {
   "cell_type": "code",
   "execution_count": 8,
   "id": "e271f16e",
   "metadata": {
    "lines_to_next_cell": 1
   },
   "outputs": [],
   "source": [
    "# Define function to geocode a place name using Nominatim API\n",
    "def geocode_place_name(place_name):\n",
    "    url = \"https://nominatim.openstreetmap.org/search\"\n",
    "    params = {\n",
    "        \"q\": place_name,\n",
    "        \"format\": \"jsonv2\"\n",
    "    }\n",
    "    response = requests.get(url, params=params)\n",
    "    if response.ok:\n",
    "        data = response.json()\n",
    "        if len(data) > 0 and \"boundingbox\" in data[0]:\n",
    "            bbox = data[0][\"boundingbox\"]\n",
    "            return [bbox[2], bbox[0], bbox[3], bbox[1]]\n",
    "    return None"
   ]
  },
  {
   "cell_type": "code",
   "execution_count": 9,
   "id": "0d00f40a",
   "metadata": {},
   "outputs": [],
   "source": [
    "# Load the CSV file into a pandas dataframe\n",
    "df = pd.read_csv(\"place-names_input.csv\")"
   ]
  },
  {
   "cell_type": "code",
   "execution_count": 10,
   "id": "9df3aed2",
   "metadata": {},
   "outputs": [],
   "source": [
    "# Apply the geocode_place_name function to the \"place\" column\n",
    "df[\"Bounding Box\"] = df[\"Spatial Coverage\"].apply(geocode_place_name)"
   ]
  },
  {
   "cell_type": "code",
   "execution_count": 11,
   "id": "45053024",
   "metadata": {},
   "outputs": [],
   "source": [
    "# Write the results to a new CSV file\n",
    "df.to_csv(\"place-names_output.csv\", index=False)"
   ]
  },
  {
   "cell_type": "code",
   "execution_count": null,
   "id": "d2ec726b",
   "metadata": {},
   "outputs": [],
   "source": []
  }
 ],
 "metadata": {
  "jupytext": {
   "cell_metadata_filter": "-all",
   "notebook_metadata_filter": "-all"
  },
  "kernelspec": {
   "display_name": "Python 3 (ipykernel)",
   "language": "python",
   "name": "python3"
  },
  "language_info": {
   "codemirror_mode": {
    "name": "ipython",
    "version": 3
   },
   "file_extension": ".py",
   "mimetype": "text/x-python",
   "name": "python",
   "nbconvert_exporter": "python",
   "pygments_lexer": "ipython3",
   "version": "3.9.16"
  }
 },
 "nbformat": 4,
 "nbformat_minor": 5
}
