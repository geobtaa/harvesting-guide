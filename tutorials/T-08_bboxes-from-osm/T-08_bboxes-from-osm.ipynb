{
 "cells": [
  {
   "cell_type": "markdown",
   "id": "eb853f5f",
   "metadata": {},
   "source": [
    "# Generate bounding boxes from place names"
   ]
  },
  {
   "cell_type": "markdown",
   "id": "f9fc2ae6",
   "metadata": {},
   "source": [
    "Purpose: This script uses pandas and the OpenStreetMap Nominatim API to geocode a list of place names in a CSV file and return bounding box coordinates for each place."
   ]
  },
  {
   "cell_type": "markdown",
   "id": "e5493782",
   "metadata": {},
   "source": [
    "## 1. Import modules"
   ]
  },
  {
   "cell_type": "code",
   "execution_count": null,
   "id": "7b1c8431",
   "metadata": {
    "lines_to_next_cell": 1
   },
   "outputs": [],
   "source": [
    "import pandas as pd\n",
    "import requests"
   ]
  },
  {
   "cell_type": "markdown",
   "id": "7b86bfb8",
   "metadata": {},
   "source": [
    "## 2. Define the function to get the coordinates\n",
    "\n",
    "This function scans the OpenStreetMap API and will match the place names to the bounding boxes.  \n",
    "\n",
    "The [GeoBTAA input guidelines](https://geobtaa.github.io/metadata/input-guidelines/#bounding-box) specifies coordinates in this order: `West, South, East, North`. When we return the coordinates, we reorder them (line #13)"
   ]
  },
  {
   "cell_type": "code",
   "execution_count": null,
   "id": "e271f16e",
   "metadata": {
    "lines_to_next_cell": 1
   },
   "outputs": [],
   "source": [
    "# Define function to geocode a place name using Nominatim API\n",
    "def geocode_place_name(place_name):\n",
    "    url = \"https://nominatim.openstreetmap.org/search\"\n",
    "    params = {\n",
    "        \"q\": place_name,\n",
    "        \"format\": \"jsonv2\"\n",
    "    }\n",
    "    response = requests.get(url, params=params)\n",
    "    if response.ok:\n",
    "        data = response.json()\n",
    "        if len(data) > 0 and \"boundingbox\" in data[0]:\n",
    "            bbox = data[0][\"boundingbox\"]\n",
    "            return [bbox[2], bbox[0], bbox[3], bbox[1]]\n",
    "    return None"
   ]
  },
  {
   "cell_type": "markdown",
   "id": "dde741f4",
   "metadata": {},
   "source": [
    "## 3. Load the CSV file into a pandas dataframe"
   ]
  },
  {
   "cell_type": "code",
   "execution_count": null,
   "id": "0d00f40a",
   "metadata": {},
   "outputs": [],
   "source": [
    "df = pd.read_csv(\"place-names_input.csv\")\n",
    "\n",
    "# print the dataframe\n",
    "df"
   ]
  },
  {
   "cell_type": "markdown",
   "id": "b56baf9e",
   "metadata": {},
   "source": [
    "Our input CSV contains three columns:\n",
    "\n",
    "* Title\n",
    "* Spatial Coverage (place name text)\n",
    "* Bounding Box - empty"
   ]
  },
  {
   "cell_type": "markdown",
   "id": "d22579fe",
   "metadata": {},
   "source": [
    "## 4. Apply the geocode_place_name function to the \"place\" column"
   ]
  },
  {
   "cell_type": "markdown",
   "id": "c34cbd7f",
   "metadata": {},
   "source": [
    "Depending upon how many items you are querying, this step may take some time to run."
   ]
  },
  {
   "cell_type": "code",
   "execution_count": null,
   "id": "9df3aed2",
   "metadata": {},
   "outputs": [],
   "source": [
    "df[\"Bounding Box\"] = df[\"Spatial Coverage\"].apply(geocode_place_name)\n",
    "\n",
    "# print the dataframe\n",
    "df"
   ]
  },
  {
   "cell_type": "markdown",
   "id": "0121c3ba",
   "metadata": {},
   "source": [
    "## 5. Write to CSV\n",
    "\n",
    "The bounding box field is now populated with 4 coordinates. To save this as a CSV, run the next cell."
   ]
  },
  {
   "cell_type": "code",
   "execution_count": null,
   "id": "45053024",
   "metadata": {},
   "outputs": [],
   "source": [
    "# Write the results to a new CSV file\n",
    "df.to_csv(\"place-names_output.csv\", index=False)"
   ]
  },
  {
   "cell_type": "code",
   "execution_count": null,
   "id": "f05cd8aa",
   "metadata": {},
   "outputs": [],
   "source": []
  }
 ],
 "metadata": {
  "jupytext": {
   "cell_metadata_filter": "-all",
   "notebook_metadata_filter": "-all"
  },
  "kernelspec": {
   "display_name": "Python 3 (ipykernel)",
   "language": "python",
   "name": "python3"
  },
  "language_info": {
   "codemirror_mode": {
    "name": "ipython",
    "version": 3
   },
   "file_extension": ".py",
   "mimetype": "text/x-python",
   "name": "python",
   "nbconvert_exporter": "python",
   "pygments_lexer": "ipython3",
   "version": "3.9.16"
  }
 },
 "nbformat": 4,
 "nbformat_minor": 5
}
