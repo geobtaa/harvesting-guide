{
 "cells": [
  {
   "cell_type": "markdown",
   "id": "5591dd06",
   "metadata": {},
   "source": [
    "# Extracting Place Names from other Fields\n",
    "\n",
    "This tutorial scans the two columns from a CSV file ('Title' and 'Description') to look for known place names and writes the values to a separate field."
   ]
  },
  {
   "cell_type": "markdown",
   "id": "b8fb4110",
   "metadata": {},
   "source": [
    "## 1. Install spaCy\n",
    "\n",
    "If you do not have spaCy installed yet, choose ONE of the following set of commands. (Uncomment one of these)"
   ]
  },
  {
   "cell_type": "code",
   "execution_count": 4,
   "id": "38c77ffb",
   "metadata": {},
   "outputs": [
    {
     "ename": "SyntaxError",
     "evalue": "invalid syntax (1757602442.py, line 1)",
     "output_type": "error",
     "traceback": [
      "\u001b[0;36m  Input \u001b[0;32mIn [4]\u001b[0;36m\u001b[0m\n\u001b[0;31m    pip3 install -U pip setuptools wheel\u001b[0m\n\u001b[0m         ^\u001b[0m\n\u001b[0;31mSyntaxError\u001b[0m\u001b[0;31m:\u001b[0m invalid syntax\n"
     ]
    }
   ],
   "source": [
    "# pip install -U pip setuptools wheel\n",
    "# pip install -U spacy\n",
    "# python -m spacy download en_core_web_sm\n",
    "\n",
    "# OR\n",
    "\n",
    "# conda install -c conda-forge spacy\n",
    "# python -m spacy download en_core_web_sm"
   ]
  },
  {
   "cell_type": "markdown",
   "id": "5d008280",
   "metadata": {},
   "source": [
    "## 2. Import modules and models"
   ]
  },
  {
   "cell_type": "code",
   "execution_count": 2,
   "id": "9b2a8972",
   "metadata": {},
   "outputs": [],
   "source": [
    "import spacy\n",
    "import pandas as pd\n",
    "\n",
    "# Load English language model for spaCy\n",
    "nlp = spacy.load(\"en_core_web_sm\")"
   ]
  },
  {
   "cell_type": "markdown",
   "id": "7ccf581f",
   "metadata": {},
   "source": [
    "## 3. Define function to extract place names from a text"
   ]
  },
  {
   "cell_type": "code",
   "execution_count": 3,
   "id": "21b40827",
   "metadata": {},
   "outputs": [],
   "source": [
    "def extract_place_names(text):\n",
    "    doc = nlp(text)\n",
    "    place_names = []\n",
    "    for ent in doc.ents:\n",
    "        if ent.label_ == \"GPE\": # GPE is the label for geopolitical entities, i.e. place names\n",
    "            place_names.append(ent.text)\n",
    "    return place_names"
   ]
  },
  {
   "cell_type": "markdown",
   "id": "804ff975",
   "metadata": {},
   "source": [
    "## 4. Open a CSV file and load it into a pandas DataFrame\n",
    "\n",
    "There are only two columns in the sample CSV (missing-spatial-coverage.csv), `Title` and `Description`. Our goal is a new column just for place names called `Spatial Coverage`."
   ]
  },
  {
   "cell_type": "code",
   "execution_count": 4,
   "id": "28b67eb6",
   "metadata": {},
   "outputs": [
    {
     "name": "stdout",
     "output_type": "stream",
     "text": [
      "                                      Title  \\\n",
      "0  Municipalities Outagamie County, WI 2015   \n",
      "1     Municipalities Pierce County, WI 2012   \n",
      "2    Municipalities Portage County, WI 2013   \n",
      "\n",
      "                                         Description  \n",
      "0  This polygon data layer represents municipalit...  \n",
      "1  This data layer represents municipalities for ...  \n",
      "2  This data layer represents municipalities for ...  \n"
     ]
    }
   ],
   "source": [
    "df = pd.read_csv(\"missing-spatial-coverage.csv\")\n",
    "print(df)"
   ]
  },
  {
   "cell_type": "markdown",
   "id": "bd8697e9",
   "metadata": {},
   "source": [
    "## 5. Create an empty list for the coming loop\n",
    "\n",
    "Before we run a Python loop, we need to create an empty list that will store the information. Here, we give it a name of `places` and set it as equal to empty (`= []`)"
   ]
  },
  {
   "cell_type": "code",
   "execution_count": 5,
   "id": "7bc4e2c3",
   "metadata": {},
   "outputs": [
    {
     "name": "stdout",
     "output_type": "stream",
     "text": [
      "[]\n"
     ]
    }
   ],
   "source": [
    "places = []\n",
    "print(places)"
   ]
  },
  {
   "cell_type": "markdown",
   "id": "2d56d604",
   "metadata": {},
   "source": [
    "## 6. Loop over the Title and Description columns\n",
    "\n",
    "Scan for place names and add them to the list called places. After scanning, we will print the list and see what it found."
   ]
  },
  {
   "cell_type": "code",
   "execution_count": 6,
   "id": "b3f3ef52",
   "metadata": {},
   "outputs": [
    {
     "name": "stdout",
     "output_type": "stream",
     "text": [
      "['Outagamie County']\n",
      "['Outagamie County', 'Pierce County|Wisconsin']\n",
      "['Outagamie County', 'Pierce County|Wisconsin', 'Portage County']\n"
     ]
    }
   ],
   "source": [
    "for i, row in df.iterrows():\n",
    "    title = row[\"Title\"]\n",
    "    desc = row[\"Description\"]\n",
    "    place_names = extract_place_names(title) #look for place names in the title field first\n",
    "    if not place_names: # if no place names found in the title field\n",
    "        place_names = extract_place_names(desc) #look for place names in the description field\n",
    "    places.append(\"|\".join(place_names)) #for multiple place names, add them to a cell separated by a pipe\n",
    "    print(places)"
   ]
  },
  {
   "cell_type": "markdown",
   "id": "177ac6bd",
   "metadata": {},
   "source": [
    "## 7. Add the extracted places to the dataframe\n",
    "\n",
    "Next, we need to add the values from the list to our full dataframe in a new column called `Spatial Coverage`"
   ]
  },
  {
   "cell_type": "code",
   "execution_count": 7,
   "id": "047269e6",
   "metadata": {},
   "outputs": [
    {
     "name": "stdout",
     "output_type": "stream",
     "text": [
      "0           Outagamie County\n",
      "1    Pierce County|Wisconsin\n",
      "2             Portage County\n",
      "Name: Spatial Coverage, dtype: object\n"
     ]
    }
   ],
   "source": [
    "df[\"Spatial Coverage\"] = places\n",
    "print(df[\"Spatial Coverage\"])"
   ]
  },
  {
   "cell_type": "markdown",
   "id": "2a8cc453",
   "metadata": {},
   "source": [
    "## 8. Save the results to a new CSV file"
   ]
  },
  {
   "cell_type": "code",
   "execution_count": 8,
   "id": "47a83183",
   "metadata": {},
   "outputs": [],
   "source": [
    "df.to_csv(\"spacy-output.csv\", index=False)"
   ]
  },
  {
   "cell_type": "markdown",
   "id": "9877a106",
   "metadata": {},
   "source": [
    "## 9. Inspect the new CSV file\n",
    "\n",
    "In practice, you will likely open a generated CSV file in a spreadsheet editor to prepare the metadata for publishing. However, let's take a look a it within this Notebook using the pandas `.read_csv` function."
   ]
  },
  {
   "cell_type": "code",
   "execution_count": 9,
   "id": "011cfecd",
   "metadata": {},
   "outputs": [
    {
     "data": {
      "text/html": [
       "<div>\n",
       "<style scoped>\n",
       "    .dataframe tbody tr th:only-of-type {\n",
       "        vertical-align: middle;\n",
       "    }\n",
       "\n",
       "    .dataframe tbody tr th {\n",
       "        vertical-align: top;\n",
       "    }\n",
       "\n",
       "    .dataframe thead th {\n",
       "        text-align: right;\n",
       "    }\n",
       "</style>\n",
       "<table border=\"1\" class=\"dataframe\">\n",
       "  <thead>\n",
       "    <tr style=\"text-align: right;\">\n",
       "      <th></th>\n",
       "      <th>Title</th>\n",
       "      <th>Description</th>\n",
       "      <th>Spatial Coverage</th>\n",
       "    </tr>\n",
       "  </thead>\n",
       "  <tbody>\n",
       "    <tr>\n",
       "      <th>0</th>\n",
       "      <td>Municipalities Outagamie County, WI 2015</td>\n",
       "      <td>This polygon data layer represents municipalit...</td>\n",
       "      <td>Outagamie County</td>\n",
       "    </tr>\n",
       "    <tr>\n",
       "      <th>1</th>\n",
       "      <td>Municipalities Pierce County, WI 2012</td>\n",
       "      <td>This data layer represents municipalities for ...</td>\n",
       "      <td>Pierce County|Wisconsin</td>\n",
       "    </tr>\n",
       "    <tr>\n",
       "      <th>2</th>\n",
       "      <td>Municipalities Portage County, WI 2013</td>\n",
       "      <td>This data layer represents municipalities for ...</td>\n",
       "      <td>Portage County</td>\n",
       "    </tr>\n",
       "  </tbody>\n",
       "</table>\n",
       "</div>"
      ],
      "text/plain": [
       "                                      Title  \\\n",
       "0  Municipalities Outagamie County, WI 2015   \n",
       "1     Municipalities Pierce County, WI 2012   \n",
       "2    Municipalities Portage County, WI 2013   \n",
       "\n",
       "                                         Description         Spatial Coverage  \n",
       "0  This polygon data layer represents municipalit...         Outagamie County  \n",
       "1  This data layer represents municipalities for ...  Pierce County|Wisconsin  \n",
       "2  This data layer represents municipalities for ...           Portage County  "
      ]
     },
     "execution_count": 9,
     "metadata": {},
     "output_type": "execute_result"
    }
   ],
   "source": [
    "new_csv = pd.read_csv(\"spacy-output.csv\")\n",
    "new_csv.head(3) #displays the first 3 rows for us"
   ]
  },
  {
   "cell_type": "code",
   "execution_count": null,
   "id": "c08998ac",
   "metadata": {},
   "outputs": [],
   "source": []
  }
 ],
 "metadata": {
  "kernelspec": {
   "display_name": "Python 3 (ipykernel)",
   "language": "python",
   "name": "python3"
  },
  "language_info": {
   "codemirror_mode": {
    "name": "ipython",
    "version": 3
   },
   "file_extension": ".py",
   "mimetype": "text/x-python",
   "name": "python",
   "nbconvert_exporter": "python",
   "pygments_lexer": "ipython3",
   "version": "3.9.16"
  }
 },
 "nbformat": 4,
 "nbformat_minor": 5
}
