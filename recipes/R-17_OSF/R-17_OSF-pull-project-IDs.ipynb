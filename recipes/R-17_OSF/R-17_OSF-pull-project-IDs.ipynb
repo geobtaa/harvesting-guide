{
 "cells": [
  {
   "cell_type": "markdown",
   "id": "7eea7c20",
   "metadata": {},
   "source": [
    "This script will pull a list of project IDs from a OSF member"
   ]
  },
  {
   "cell_type": "code",
   "execution_count": 16,
   "id": "4c4efbe8",
   "metadata": {},
   "outputs": [],
   "source": [
    "import requests"
   ]
  },
  {
   "cell_type": "code",
   "execution_count": 17,
   "id": "990cc4ec",
   "metadata": {},
   "outputs": [
    {
     "name": "stdout",
     "output_type": "stream",
     "text": [
      "Found 67 public projects:\n",
      "- Heat Watch Charlotte NC (86ume)\n",
      "- Heat Watch Pierce County WA (x4sgn)\n",
      "- Heat Watch Omaha (z7xw5)\n",
      "- Heat Watch Asheville (mtxy5)\n",
      "- Heat Watch Santiago (wx3r2)\n",
      "- Heat Watch Toledo (h7jpb)\n",
      "- Heat Watch Little Rock (vwsh9)\n",
      "- Heat Watch Oklahoma City (e6qfa)\n",
      "- Heat Watch Santa Fe NM (bhjfz)\n",
      "- Heat Watch Iowa City &amp; Cedar Rapids (rbd3q)\n",
      "- Heat Watch Brockton (rk75w)\n",
      "- Heat Watch Chicago (6d7p2)\n",
      "- Heat Watch Johnson County &amp; Wyandotte County (hxyrv)\n",
      "- Heat Watch Scranton &amp; Wilkes Barre (8cnq4)\n",
      "- Heat Watch MetroWest (Framingham MA) (hzqp3)\n",
      "- Heat Watch Longmont (usp5x)\n",
      "- Heat Watch Sedona (e5q7h)\n",
      "- Heat Watch Salt Lake City (7k2u9)\n",
      "- Heat Watch Rio de Janeiro (js28b)\n",
      "- Heat Watch Freetown, Sierra Leone (8q7j3)\n",
      "- Heat Watch San Francisco (ktr56)\n",
      "- Heat Watch Nashville TN (msqv7)\n",
      "- Heat Watch Knoxville TN (trn2y)\n",
      "- Heat Watch Clark County NV (xsvjm)\n",
      "- Heat Watch Columbus OH (n7t6x)\n",
      "- Heat Watch Montgomery County (26ufw)\n",
      "- Heat Watch Spokane (ef9wm)\n",
      "- Heat Watch  Philadelphia (3xts6)\n",
      "- Heat Watch Columbia SC (nqwyr)\n",
      "- Heat Watch Columbia MO (ucmde)\n",
      "- Heat Watch Brooklyn (c6xjv)\n",
      "- Heat Watch Boulder (ek7r5)\n",
      "- Heat Watch Milwaukee (khmnd)\n",
      "- Heat Watch Jacksonville (xpuhk)\n",
      "- Heat Watch East Multnomah County (upqj9)\n",
      "- Heat Watch VFIC (3xvmg)\n",
      "- Heat Watch San Diego (2021) (m9g6t)\n",
      "- Heat Watch Richmond, IN (2021) (mvuf8)\n",
      "- Heat Watch Raleigh -  Durham (2021) (rwjnx)\n",
      "- Heat Watch Mystic River (2021) (dn4cs)\n",
      "- Heat Watch Clarksville (2021) (ywg9a)\n",
      "- Heat Watch Charlottesville (2021) (p5qgk)\n",
      "- Heat Watch Charleston (2021) (b4tfy)\n",
      "- Heat Watch Bronx &amp; Manhattan (2021) (j6eqr)\n",
      "- Heat Watch Atlanta (2021) (r74h2)\n",
      "- Heat Watch Kansas City (2021) (5d3uk)\n",
      "- Heat Watch Jersey City, Newark, and Elizabeth (6rwbg)\n",
      "- Heat Watch Albuquerque (2021) (np4q9)\n",
      "- Vermont Urban Areas: Extending Models of Ambient Heat (yurjw)\n",
      "- Rhode Island State-Wide Models of Ambient Heat (a53uk)\n",
      "- Heat Watch Burlington (tezb9)\n",
      "- Heat Watch New Orleans (eau82)\n",
      "- Heat Watch Jackson (c3r2d)\n",
      "- Heat Watch Roanoke (yz4rm)\n",
      "- Heat Watch San Jose &amp; Santa Clara (c4ruh)\n",
      "- Heat Watch Houston &amp; Harris County (yqh5u)\n",
      "- Heat Watch Austin (h8cte)\n",
      "- Heat Watch Vancouver (9dk72)\n",
      "- Heat Watch Detroit (u4zhw)\n",
      "- Heat Watch Cincinnati (xvmbg)\n",
      "- Heat Watch Rhode Island (wu9v7)\n",
      "- Heat Watch El Paso (fn4t8)\n",
      "- Heat Watch Seattle &amp; King County (mz79p)\n",
      "- Heat Watch Miami (2dtg7)\n",
      "- Heat Watch Las Cruces (zd5mb)\n",
      "- Heat Watch Campaigns (2019) (tdsy7)\n",
      "- UHI Assessments (2017, 2018) (eb4tw)\n"
     ]
    }
   ],
   "source": [
    "import requests\n",
    "\n",
    "def get_projects_by_user(user_id):\n",
    "    \"\"\"\n",
    "    Given a user ID (like 9neka), fetch all public projects for that user.\n",
    "    \"\"\"\n",
    "    base_url = f\"https://api.osf.io/v2/users/{user_id}/nodes/\"\n",
    "    projects = []\n",
    "    while base_url:\n",
    "        response = requests.get(base_url)\n",
    "        response.raise_for_status()\n",
    "        data = response.json()\n",
    "        projects.extend(data['data'])\n",
    "        base_url = data['links'].get('next')  # Handle pagination\n",
    "    return projects\n",
    "\n",
    "user_id = \"9neka\"\n",
    "projects = get_projects_by_user(user_id)\n",
    "\n",
    "print(f\"Found {len(projects)} public projects:\")\n",
    "for proj in projects:\n",
    "    print(f\"- {proj['attributes']['title']} ({proj['id']})\")\n",
    "\n"
   ]
  }
 ],
 "metadata": {
  "kernelspec": {
   "display_name": "Python 3 (ipykernel)",
   "language": "python",
   "name": "python3"
  },
  "language_info": {
   "codemirror_mode": {
    "name": "ipython",
    "version": 3
   },
   "file_extension": ".py",
   "mimetype": "text/x-python",
   "name": "python",
   "nbconvert_exporter": "python",
   "pygments_lexer": "ipython3",
   "version": "3.10.12"
  }
 },
 "nbformat": 4,
 "nbformat_minor": 5
}
