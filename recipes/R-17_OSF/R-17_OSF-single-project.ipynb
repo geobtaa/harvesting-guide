{
 "cells": [
  {
   "cell_type": "markdown",
   "id": "3f109725",
   "metadata": {},
   "source": [
    "This script will pull all metadata and file links from a single project in OSF"
   ]
  },
  {
   "cell_type": "code",
   "execution_count": 10,
   "id": "adcc806a",
   "metadata": {},
   "outputs": [],
   "source": [
    "import requests\n",
    "import pandas as pd\n",
    "import os\n"
   ]
  },
  {
   "cell_type": "code",
   "execution_count": 11,
   "id": "d7f0e391",
   "metadata": {},
   "outputs": [],
   "source": [
    "# Base URL for OSF API\n",
    "BASE_URL = \"https://api.osf.io/v2\"\n",
    "\n",
    "def get_osf_project_metadata(project_id):\n",
    "    \"\"\"\n",
    "    Fetch metadata for a given OSF project ID.\n",
    "    \"\"\"\n",
    "    url = f\"{BASE_URL}/nodes/{project_id}/\"\n",
    "    response = requests.get(url)\n",
    "    response.raise_for_status()\n",
    "    return response.json()\n",
    "\n",
    "def list_osf_files(project_id):\n",
    "    \"\"\"\n",
    "    List files available under the OSF project.\n",
    "    \"\"\"\n",
    "    url = f\"{BASE_URL}/nodes/{project_id}/files/\"\n",
    "    response = requests.get(url)\n",
    "    response.raise_for_status()\n",
    "    return response.json()\n",
    "\n",
    "def get_file_links(storage_url):\n",
    "    \"\"\"\n",
    "    Get individual file download links from a storage location (like osfstorage).\n",
    "    \"\"\"\n",
    "    response = requests.get(storage_url)\n",
    "    response.raise_for_status()\n",
    "    return response.json()\n"
   ]
  },
  {
   "cell_type": "code",
   "execution_count": 12,
   "id": "13366817",
   "metadata": {},
   "outputs": [
    {
     "name": "stdout",
     "output_type": "stream",
     "text": [
      "{'title': 'Heat Watch Charlotte NC', 'description': 'Results from the 2024 urban heat mapping campaign.', 'category': 'project', 'custom_citation': None, 'date_created': '2024-07-18T16:45:40.927166', 'date_modified': '2025-02-06T18:11:29.159012', 'registration': False, 'preprint': False, 'fork': False, 'collection': False, 'tags': [], 'access_requests_enabled': True, 'node_license': None, 'analytics_key': 'e72755bc2bde3ea7c065347dacbcec168c38b4430e7e253b6646d67163c70fc578f9f4df86c70a1c61ebc204eebee771379ac9e9e9b0b91dc9769a0bd85e2dc79b0bae10572609589664f20fb37f263d97089247674fae7a4dadc4fc239d5086262ac9295484148512562f74cad51bd783bccabff25ec9d3cf0899f0fcedd6a4b1fb960ce7d45bef8a0db4af1af5b7ff', 'current_user_can_comment': False, 'current_user_permissions': ['read'], 'current_user_is_contributor': False, 'current_user_is_contributor_or_group_member': False, 'wiki_enabled': True, 'public': True, 'subjects': []}\n"
     ]
    }
   ],
   "source": [
    "# Example public project (replace with your own project ID)\n",
    "project_id = \"86ume\"  # replace with actual OSF project ID\n",
    "\n",
    "# Get metadata\n",
    "metadata = get_osf_project_metadata(project_id)\n",
    "print(metadata['data']['attributes'])\n"
   ]
  },
  {
   "cell_type": "code",
   "execution_count": 13,
   "id": "eb490266",
   "metadata": {},
   "outputs": [],
   "source": [
    "def get_osfstorage_file_list_url(files_info):\n",
    "    \"\"\"\n",
    "    Extract the file listing URL from 'relationships' -> 'files' -> 'links' -> 'related'\n",
    "    \"\"\"\n",
    "    try:\n",
    "        return files_info['data'][0]['relationships']['files']['links']['related']['href']\n",
    "    except (KeyError, IndexError):\n",
    "        return None\n"
   ]
  },
  {
   "cell_type": "code",
   "execution_count": 14,
   "id": "6dffae4f",
   "metadata": {},
   "outputs": [
    {
     "name": "stdout",
     "output_type": "stream",
     "text": [
      "ReadMeFileNotation.txt - https://osf.io/download/vrh5z/\n",
      "Español_Summary Report_Heat Watch Charlotte NC_CAPA 020625.pdf - https://osf.io/download/zctms/\n",
      "traverses_chw_charlotte_north_carolina_082324.zip - https://osf.io/download/7dar9/\n",
      "Summary Report_Heat Watch Charlotte NC_CAPA 112224.pdf - https://osf.io/download/9ayhs/\n",
      "rasters_chw_charlotte_north_carolina_080624.zip - https://osf.io/download/y5m7k/\n"
     ]
    }
   ],
   "source": [
    "# Get the correct file listing URL\n",
    "storage_url = get_osfstorage_file_list_url(files_info)\n",
    "\n",
    "if storage_url:\n",
    "    files = get_file_links(storage_url)\n",
    "\n",
    "    # Inspect file metadata\n",
    "    for f in files['data']:\n",
    "        print(f[\"attributes\"][\"name\"], \"-\", f[\"links\"][\"download\"])\n",
    "else:\n",
    "    print(\"Could not find osfstorage file list URL.\")\n"
   ]
  }
 ],
 "metadata": {
  "kernelspec": {
   "display_name": "Python 3 (ipykernel)",
   "language": "python",
   "name": "python3"
  },
  "language_info": {
   "codemirror_mode": {
    "name": "ipython",
    "version": 3
   },
   "file_extension": ".py",
   "mimetype": "text/x-python",
   "name": "python",
   "nbconvert_exporter": "python",
   "pygments_lexer": "ipython3",
   "version": "3.10.12"
  }
 },
 "nbformat": 4,
 "nbformat_minor": 5
}
