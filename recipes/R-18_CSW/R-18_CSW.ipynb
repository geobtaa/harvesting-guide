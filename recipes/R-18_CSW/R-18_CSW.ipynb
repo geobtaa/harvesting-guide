{
 "cells": [
  {
   "cell_type": "code",
   "execution_count": 1,
   "id": "6a59804e",
   "metadata": {},
   "outputs": [],
   "source": [
    "from owslib.csw import CatalogueServiceWeb\n"
   ]
  },
  {
   "cell_type": "code",
   "execution_count": 3,
   "id": "7ad8d451",
   "metadata": {},
   "outputs": [
    {
     "ename": "XMLSyntaxError",
     "evalue": "Opening and ending tag mismatch: link line 20 and head, line 21, column 11 (<string>, line 21)",
     "output_type": "error",
     "traceback": [
      "Traceback \u001b[0;36m(most recent call last)\u001b[0m:\n",
      "\u001b[0m  File \u001b[1;32m~/opt/anaconda3/envs/new-notebooks/lib/python3.10/site-packages/IPython/core/interactiveshell.py:3508\u001b[0m in \u001b[1;35mrun_code\u001b[0m\n    exec(code_obj, self.user_global_ns, self.user_ns)\u001b[0m\n",
      "\u001b[0m  Cell \u001b[1;32mIn[3], line 2\u001b[0m\n    csw = CatalogueServiceWeb('https://inspire-geoportal.ec.europa.eu/geonetwork/srv/eng/csw')\u001b[0m\n",
      "\u001b[0m  File \u001b[1;32m~/opt/anaconda3/envs/new-notebooks/lib/python3.10/site-packages/owslib/csw.py:59\u001b[0m in \u001b[1;35mCatalogueServiceWeb\u001b[0m\n    return csw2.CatalogueServiceWeb(\u001b[0m\n",
      "\u001b[0m  File \u001b[1;32m~/opt/anaconda3/envs/new-notebooks/lib/python3.10/site-packages/owslib/catalogue/csw2.py:89\u001b[0m in \u001b[1;35m__init__\u001b[0m\n    self._invoke()\u001b[0m\n",
      "\u001b[0m  File \u001b[1;32m~/opt/anaconda3/envs/new-notebooks/lib/python3.10/site-packages/owslib/catalogue/csw2.py:707\u001b[0m in \u001b[1;35m_invoke\u001b[0m\n    self._exml = etree.parse(BytesIO(self.response))\u001b[0m\n",
      "\u001b[0m  File \u001b[1;32msrc/lxml/etree.pyx:3547\u001b[0m in \u001b[1;35mlxml.etree.parse\u001b[0m\n",
      "\u001b[0m  File \u001b[1;32msrc/lxml/parser.pxi:1969\u001b[0m in \u001b[1;35mlxml.etree._parseDocument\u001b[0m\n",
      "\u001b[0m  File \u001b[1;32msrc/lxml/parser.pxi:1989\u001b[0m in \u001b[1;35mlxml.etree._parseMemoryDocument\u001b[0m\n",
      "\u001b[0m  File \u001b[1;32msrc/lxml/parser.pxi:1876\u001b[0m in \u001b[1;35mlxml.etree._parseDoc\u001b[0m\n",
      "\u001b[0m  File \u001b[1;32msrc/lxml/parser.pxi:1164\u001b[0m in \u001b[1;35mlxml.etree._BaseParser._parseDoc\u001b[0m\n",
      "\u001b[0m  File \u001b[1;32msrc/lxml/parser.pxi:633\u001b[0m in \u001b[1;35mlxml.etree._ParserContext._handleParseResultDoc\u001b[0m\n",
      "\u001b[0m  File \u001b[1;32msrc/lxml/parser.pxi:743\u001b[0m in \u001b[1;35mlxml.etree._handleParseResult\u001b[0m\n",
      "\u001b[0;36m  File \u001b[0;32msrc/lxml/parser.pxi:672\u001b[0;36m in \u001b[0;35mlxml.etree._raiseParseError\u001b[0;36m\n",
      "\u001b[0;36m  File \u001b[0;32m<string>:21\u001b[0;36m\u001b[0m\n\u001b[0;31mXMLSyntaxError\u001b[0m\u001b[0;31m:\u001b[0m Opening and ending tag mismatch: link line 20 and head, line 21, column 11\n"
     ]
    }
   ],
   "source": [
    "# Use the correct CSW endpoint\n",
    "csw = CatalogueServiceWeb('https://inspire-geoportal.ec.europa.eu/geonetwork/srv/eng/csw')\n",
    "\n",
    "print(f\"Connected to: {csw.identification.title}\")"
   ]
  },
  {
   "cell_type": "code",
   "execution_count": null,
   "id": "f7c25dc6",
   "metadata": {},
   "outputs": [],
   "source": []
  }
 ],
 "metadata": {
  "kernelspec": {
   "display_name": "Python 3 (ipykernel)",
   "language": "python",
   "name": "python3"
  },
  "language_info": {
   "codemirror_mode": {
    "name": "ipython",
    "version": 3
   },
   "file_extension": ".py",
   "mimetype": "text/x-python",
   "name": "python",
   "nbconvert_exporter": "python",
   "pygments_lexer": "ipython3",
   "version": "3.10.12"
  }
 },
 "nbformat": 4,
 "nbformat_minor": 5
}
