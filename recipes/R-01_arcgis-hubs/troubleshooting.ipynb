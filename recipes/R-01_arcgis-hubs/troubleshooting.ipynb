{
 "cells": [
  {
   "cell_type": "markdown",
   "id": "ef3cecd3",
   "metadata": {},
   "source": [
    "This script will check that a given URL is working"
   ]
  },
  {
   "cell_type": "code",
   "execution_count": null,
   "id": "c37dea1e",
   "metadata": {},
   "outputs": [],
   "source": [
    "import requests\n",
    "\n",
    "def fetch_api_data():\n",
    "    url = \"https://data-sherburnegis.opendata.arcgis.com/api/feed/dcat-us/1.1.json\"\n",
    "    response = requests.get(url)\n",
    "    \n",
    "    if response.status_code == 200:\n",
    "        print(\"API call successful!\")\n",
    "        data = response.json()\n",
    "        return data\n",
    "    else:\n",
    "        print(\"Failed to retrieve data. Status code:\", response.status_code)\n",
    "        return None\n",
    "\n",
    "# Fetch and print the data from the API\n",
    "api_data = fetch_api_data()\n",
    "if api_data:\n",
    "    print(api_data)  # Print the data to inspect it"
   ]
  },
  {
   "cell_type": "markdown",
   "id": "ba4efd4f-437f-4622-80eb-912a7c2e740c",
   "metadata": {},
   "source": [
    "This script will check if the input CSV of portals is complete.  Missing values can cause the harvesting script to skip over the portal."
   ]
  },
  {
   "cell_type": "code",
   "execution_count": null,
   "id": "49e657ff-ce3f-46f5-8df6-6c6675c61fcf",
   "metadata": {},
   "outputs": [],
   "source": [
    "def validate_csv_fields(filename, required_fields):\n",
    "    with open(filename, newline='', encoding='utf-8') as csvfile:\n",
    "        reader = csv.DictReader(csvfile)\n",
    "        csv_fields = reader.fieldnames\n",
    "\n",
    "        # Check if all required fields are present\n",
    "        if not all(field in csv_fields for field in required_fields):\n",
    "            missing = [field for field in required_fields if field not in csv_fields]\n",
    "            print(f\"Missing required fields: {missing}\")\n",
    "            return False\n",
    "\n",
    "        # Check for empty values in critical fields for each row\n",
    "        for row_number, row in enumerate(reader, start=1):\n",
    "            for field in required_fields:\n",
    "                if not row.get(field, '').strip():\n",
    "                    print(f\"Missing value for '{field}' in row {row_number}\")\n",
    "                    return False\n",
    "\n",
    "        print(\"CSV validation passed.\")\n",
    "        return True\n",
    "\n",
    "# Validate the CSV file\n",
    "if not validate_csv_fields(hubFile, required_fields):\n",
    "    print(\"CSV file validation failed. Please correct the data and try again.\")\n",
    "    sys.exit(1)  # Exit the script with an error code\n",
    "else:\n",
    "    print(\"CSV file is valid.\")"
   ]
  }
 ],
 "metadata": {
  "kernelspec": {
   "display_name": "Python 3 (ipykernel)",
   "language": "python",
   "name": "python3"
  },
  "language_info": {
   "codemirror_mode": {
    "name": "ipython",
    "version": 3
   },
   "file_extension": ".py",
   "mimetype": "text/x-python",
   "name": "python",
   "nbconvert_exporter": "python",
   "pygments_lexer": "ipython3",
   "version": "3.12.5"
  }
 },
 "nbformat": 4,
 "nbformat_minor": 5
}
