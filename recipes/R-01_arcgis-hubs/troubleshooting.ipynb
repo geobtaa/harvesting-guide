{
 "cells": [
  {
   "cell_type": "markdown",
   "id": "ef3cecd3",
   "metadata": {},
   "source": [
    "This script will check that a given URL is working"
   ]
  },
  {
   "cell_type": "code",
   "execution_count": null,
   "id": "c37dea1e",
   "metadata": {
    "scrolled": false
   },
   "outputs": [],
   "source": [
    "import requests\n",
    "\n",
    "def fetch_api_data():\n",
    "    url = \"https://data-sherburnegis.opendata.arcgis.com/api/feed/dcat-us/1.1.json\"\n",
    "    response = requests.get(url)\n",
    "    \n",
    "    if response.status_code == 200:\n",
    "        print(\"API call successful!\")\n",
    "        data = response.json()\n",
    "        return data\n",
    "    else:\n",
    "        print(\"Failed to retrieve data. Status code:\", response.status_code)\n",
    "        return None\n",
    "\n",
    "# Fetch and print the data from the API\n",
    "api_data = fetch_api_data()\n",
    "if api_data:\n",
    "    print(api_data)  # Print the data to inspect it"
   ]
  },
  {
   "cell_type": "code",
   "execution_count": null,
   "id": "3d2c8322",
   "metadata": {},
   "outputs": [],
   "source": []
  }
 ],
 "metadata": {
  "kernelspec": {
   "display_name": "Python 3 (ipykernel)",
   "language": "python",
   "name": "python3"
  },
  "language_info": {
   "codemirror_mode": {
    "name": "ipython",
    "version": 3
   },
   "file_extension": ".py",
   "mimetype": "text/x-python",
   "name": "python",
   "nbconvert_exporter": "python",
   "pygments_lexer": "ipython3",
   "version": "3.10.12"
  }
 },
 "nbformat": 4,
 "nbformat_minor": 5
}
