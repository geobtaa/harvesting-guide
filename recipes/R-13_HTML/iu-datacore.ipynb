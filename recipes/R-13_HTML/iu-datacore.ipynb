{
 "cells": [
  {
   "cell_type": "code",
   "execution_count": 17,
   "id": "aa3c6db9",
   "metadata": {},
   "outputs": [],
   "source": [
    "import pandas as pd\n",
    "import requests\n",
    "from bs4 import BeautifulSoup\n",
    "from time import sleep\n",
    "import random"
   ]
  },
  {
   "cell_type": "code",
   "execution_count": 18,
   "id": "b381e56b",
   "metadata": {},
   "outputs": [],
   "source": [
    "# Load the CSV file\n",
    "df = pd.read_csv('all.csv')  # Replace 'your_file.csv' with the path to your CSV file"
   ]
  },
  {
   "cell_type": "code",
   "execution_count": 19,
   "id": "ee6b248b",
   "metadata": {},
   "outputs": [],
   "source": [
    "# Modify fetch_and_parse to be more considerate\n",
    "def fetch_and_parse(url):\n",
    "    try:\n",
    "        # Include a User-Agent in your request to identify yourself\n",
    "        headers = {\n",
    "            'User-Agent': 'Mozilla/5.0 (Macintosh; Intel Mac OS X 10_15_7) AppleWebKit/605.1.15 (KHTML, like Gecko) Version/17.2.1 Safari/605.1.15'}\n",
    "        response = requests.get(url, headers=headers)\n",
    "        \n",
    "        if response.status_code == 200:\n",
    "            soup = BeautifulSoup(response.content, 'html.parser')\n",
    "            meta_tag = soup.find('meta', property='og:image')\n",
    "            if meta_tag:\n",
    "                image_url = meta_tag['content']\n",
    "                return image_url\n",
    "            else:\n",
    "                print(f\"og:image meta tag not found in {url}\")\n",
    "        else:\n",
    "            print(f\"Failed to fetch {url} with status code {response.status_code}\")\n",
    "    except requests.RequestException as e:\n",
    "        print(f\"Request failed: {e}\")\n",
    "    \n",
    "    # Sleep to throttle requests - delay between 0.5 to 1.5 seconds\n",
    "    sleep(random.uniform(0.5, 1.5))\n",
    "    \n",
    "    return None"
   ]
  },
  {
   "cell_type": "code",
   "execution_count": 20,
   "id": "51f9681d",
   "metadata": {},
   "outputs": [
    {
     "name": "stdout",
     "output_type": "stream",
     "text": [
      "og:image meta tag not found in https://datacore.iu.edu/concern/data_sets/43\n",
      "og:image meta tag not found in https://datacore.iu.edu/concern/data_sets/107\n",
      "og:image meta tag not found in https://datacore.iu.edu/concern/data_sets/310\n",
      "og:image meta tag not found in https://datacore.iu.edu/concern/data_sets/328\n",
      "og:image meta tag not found in https://datacore.iu.edu/concern/data_sets/353\n",
      "og:image meta tag not found in https://datacore.iu.edu/concern/data_sets/396\n",
      "og:image meta tag not found in https://datacore.iu.edu/concern/data_sets/485\n",
      "og:image meta tag not found in https://datacore.iu.edu/concern/data_sets/506\n",
      "og:image meta tag not found in https://datacore.iu.edu/concern/data_sets/531\n",
      "og:image meta tag not found in https://datacore.iu.edu/concern/data_sets/574\n"
     ]
    }
   ],
   "source": [
    "# Create a new column to store the results\n",
    "df['Download'] = df['Information'].apply(fetch_and_parse)\n",
    "\n",
    "# Save the DataFrame with the new data to a new CSV file\n",
    "df.to_csv('all-updated.csv', index=False)"
   ]
  }
 ],
 "metadata": {
  "kernelspec": {
   "display_name": "Python 3 (ipykernel)",
   "language": "python",
   "name": "python3"
  },
  "language_info": {
   "codemirror_mode": {
    "name": "ipython",
    "version": 3
   },
   "file_extension": ".py",
   "mimetype": "text/x-python",
   "name": "python",
   "nbconvert_exporter": "python",
   "pygments_lexer": "ipython3",
   "version": "3.10.12"
  }
 },
 "nbformat": 4,
 "nbformat_minor": 5
}
