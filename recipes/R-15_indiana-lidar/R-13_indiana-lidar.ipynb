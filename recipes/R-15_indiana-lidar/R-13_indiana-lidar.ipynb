{
 "cells": [
  {
   "cell_type": "markdown",
   "id": "4f8c62b6",
   "metadata": {},
   "source": [
    "# Parse GeoJSON and construct links\n",
    "\n",
    "This code replicates the functionality of the web map found at https://lidar.digitalforestry.org\n",
    "\n",
    "User must install shapely module first. (`pip install shapely`)"
   ]
  },
  {
   "cell_type": "code",
   "execution_count": 2,
   "id": "7295b036",
   "metadata": {},
   "outputs": [],
   "source": [
    "import json\n",
    "from shapely.geometry import shape"
   ]
  },
  {
   "cell_type": "code",
   "execution_count": 9,
   "id": "92e2aed3",
   "metadata": {},
   "outputs": [],
   "source": [
    "import json\n",
    "from shapely.geometry import shape\n",
    "\n",
    "def parse_geojson(geojson_path):\n",
    "    with open(geojson_path, 'r') as file:\n",
    "        data = json.load(file)\n",
    "    return data\n",
    "\n",
    "def calculate_center(geometry):\n",
    "    \"\"\"Calculate the centroid of a polygon.\"\"\"\n",
    "    shapely_polygon = shape(geometry)\n",
    "    centroid = shapely_polygon.centroid\n",
    "    return centroid.x, centroid.y\n",
    "\n",
    "def construct_url(county_name, clon, clat, years):\n",
    "    \"\"\"Construct the URL for data download based on county properties.\"\"\"\n",
    "    base_url = \"https://lidar.digitalforestry.org/download.php?\"\n",
    "    if county_name.lower() == 'marion':\n",
    "        base_url = \"https://lidar.digitalforestry.org/download_marion.php?\"\n",
    "    return f\"{base_url}cname={county_name.replace(' ', '').lower()}&clon={clon}&clat={clat}&years={years}\""
   ]
  },
  {
   "cell_type": "code",
   "execution_count": null,
   "id": "dd3e49f6",
   "metadata": {},
   "outputs": [],
   "source": [
    "# optional - to print out links\n",
    "# def generate_download_links(geojson_path):\n",
    "#     geojson_data = parse_geojson(geojson_path)\n",
    "#     links = []\n",
    "#     for feature in geojson_data['features']:\n",
    "#         properties = feature['properties']\n",
    "#         geometry = feature['geometry']\n",
    "#         county_name = properties['NAME_L']\n",
    "#         years = properties['lidar_year']\n",
    "#         clon, clat = calculate_center(geometry)\n",
    "#         link = construct_url(county_name, clon, clat, years)\n",
    "#         links.append((county_name, link))\n",
    "#     return links\n",
    "\n",
    "# geojson_path = 'in_counties_with_lidar_year.geojson'\n",
    "# download_links = generate_download_links(geojson_path)\n",
    "# for county, link in download_links:\n",
    "#     print(county, link)"
   ]
  },
  {
   "cell_type": "code",
   "execution_count": 11,
   "id": "c9cd5980",
   "metadata": {},
   "outputs": [
    {
     "name": "stdout",
     "output_type": "stream",
     "text": [
      "Updated OpenIndexMap GeoJSON saved to updated_09a-03.geojson\n"
     ]
    }
   ],
   "source": [
    "# to update the links in my current OpenIndexMap GeoJSON\n",
    "# specific task underdaken 2024-04; not necessarily something we will need to do again in the future\n",
    "\n",
    "def update_openindexmap_links(lidar_geojson_path, openindexmap_path, output_path):\n",
    "    lidar_data = parse_geojson(lidar_geojson_path)\n",
    "    openindexmap_data = parse_geojson(openindexmap_path)\n",
    "\n",
    "    # Creating a map of county names to lidar_years from the lidar data\n",
    "    lidar_map = {feature['properties']['NAME_L']: feature['properties']['lidar_year'] for feature in lidar_data['features']}\n",
    "    \n",
    "    for feature in openindexmap_data['features']:\n",
    "        properties = feature['properties']\n",
    "        geometry = feature['geometry']\n",
    "        county_name = properties['title']  # Assuming the county name is stored under 'title'\n",
    "        \n",
    "        if county_name in lidar_map:\n",
    "            clon, clat = calculate_center(geometry)\n",
    "            years = lidar_map[county_name]\n",
    "            new_url = construct_url(county_name, clon, clat, years)\n",
    "            properties['downloadUrl'] = new_url  # Updating the URL in the properties\n",
    "\n",
    "    # Write the updated GeoJSON back to a file\n",
    "    with open(output_path, 'w') as file:\n",
    "        json.dump(openindexmap_data, file, indent=4)\n",
    "\n",
    "# Example usage\n",
    "lidar_geojson_path = 'in_counties_with_lidar_year.geojson'\n",
    "openindexmap_path = '09a-03.geojson'\n",
    "output_path = 'updated_09a-03.geojson'\n",
    "update_openindexmap_links(lidar_geojson_path, openindexmap_path, output_path)\n",
    "print(f\"Updated OpenIndexMap GeoJSON saved to {output_path}\")\n"
   ]
  },
  {
   "cell_type": "code",
   "execution_count": null,
   "id": "ae1a39cd",
   "metadata": {},
   "outputs": [],
   "source": []
  }
 ],
 "metadata": {
  "kernelspec": {
   "display_name": "Python 3 (ipykernel)",
   "language": "python",
   "name": "python3"
  },
  "language_info": {
   "codemirror_mode": {
    "name": "ipython",
    "version": 3
   },
   "file_extension": ".py",
   "mimetype": "text/x-python",
   "name": "python",
   "nbconvert_exporter": "python",
   "pygments_lexer": "ipython3",
   "version": "3.10.12"
  }
 },
 "nbformat": 4,
 "nbformat_minor": 5
}
