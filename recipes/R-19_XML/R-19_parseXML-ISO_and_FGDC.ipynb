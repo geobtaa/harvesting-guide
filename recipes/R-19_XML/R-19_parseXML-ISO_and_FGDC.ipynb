{
 "cells": [
  {
   "cell_type": "code",
   "execution_count": null,
   "id": "0d9b0e1e",
   "metadata": {},
   "outputs": [],
   "source": [
    "import os\n",
    "import xml.etree.ElementTree as ET\n",
    "import pandas as pd\n",
    "\n",
    "# Namespace definitions for ISO 19139\n",
    "NAMESPACES = {\n",
    "    'gmd': 'http://www.isotc211.org/2005/gmd',\n",
    "    'gco': 'http://www.isotc211.org/2005/gco'\n",
    "}\n",
    "\n",
    "def extract_text_iso(element, path):\n",
    "    \"\"\"Extract text from an ISO XML element using XPath with namespaces.\"\"\"\n",
    "    node = element.find(path, NAMESPACES)\n",
    "    return node.text.strip() if node is not None and node.text else ''\n",
    "\n",
    "def extract_text_fgdc(parent, path):\n",
    "    \"\"\"Extract text from an FGDC XML element using tag path.\"\"\"\n",
    "    node = parent.find(path)\n",
    "    return node.text.strip() if node is not None and node.text else ''\n",
    "\n",
    "def parse_metadata(xml_path):\n",
    "    \"\"\"Parse XML metadata (ISO 19139 or FGDC) and return title, abstract, purpose.\"\"\"\n",
    "    try:\n",
    "        tree = ET.parse(xml_path)\n",
    "        root = tree.getroot()\n",
    "\n",
    "        # Try ISO 19139 structure\n",
    "        iso_id = root.find('gmd:identificationInfo/gmd:MD_DataIdentification', NAMESPACES)\n",
    "        if iso_id is not None:\n",
    "            title = extract_text_iso(iso_id, 'gmd:citation/gmd:CI_Citation/gmd:title/gco:CharacterString')\n",
    "            abstract = extract_text_iso(iso_id, 'gmd:abstract/gco:CharacterString')\n",
    "            purpose = extract_text_iso(iso_id, 'gmd:purpose/gco:CharacterString')\n",
    "            return title, abstract, purpose\n",
    "\n",
    "        # Try FGDC structure\n",
    "        fgdc_id = root.find('idinfo')\n",
    "        if fgdc_id is not None:\n",
    "            title = extract_text_fgdc(fgdc_id, 'citation/citeinfo/title')\n",
    "            abstract = extract_text_fgdc(fgdc_id, 'descript/abstract')\n",
    "            purpose = extract_text_fgdc(fgdc_id, 'descript/purpose')\n",
    "            return title, abstract, purpose\n",
    "\n",
    "        # Unknown format\n",
    "        return '', '', ''\n",
    "\n",
    "    except Exception as e:\n",
    "        print(f\"Error parsing {xml_path}: {e}\")\n",
    "        return '', '', ''\n"
   ]
  },
  {
   "cell_type": "code",
   "execution_count": null,
   "id": "b59a51f8",
   "metadata": {},
   "outputs": [],
   "source": [
    "# Set the path to your directory containing shapefile folders\n",
    "root_directory = 'edge-shape'  # Update this path\n",
    "\n",
    "# Collect metadata records\n",
    "records = []\n",
    "\n",
    "for folder_name in os.listdir(root_directory):\n",
    "    folder_path = os.path.join(root_directory, folder_name)\n",
    "    if os.path.isdir(folder_path):\n",
    "        for file_name in os.listdir(folder_path):\n",
    "            if file_name.lower().endswith('.xml'):\n",
    "                xml_path = os.path.join(folder_path, file_name)\n",
    "                title, abstract, purpose = parse_metadata(xml_path)\n",
    "\n",
    "                records.append({\n",
    "                    'Folder Name': folder_name,\n",
    "                    'File Name': file_name,\n",
    "                    'Title': title,\n",
    "                    'Abstract': abstract,\n",
    "                    'Purpose': purpose\n",
    "                })\n"
   ]
  },
  {
   "cell_type": "code",
   "execution_count": null,
   "id": "dce06793",
   "metadata": {},
   "outputs": [],
   "source": [
    "# Create DataFrame\n",
    "df = pd.DataFrame(records)\n",
    "\n",
    "# Save to CSV\n",
    "output_csv = os.path.join(root_directory, 'metadata_summary.csv')\n",
    "df.to_csv(output_csv, index=False)\n"
   ]
  }
 ],
 "metadata": {
  "kernelspec": {
   "display_name": "Python 3 (ipykernel)",
   "language": "python",
   "name": "python3"
  },
  "language_info": {
   "codemirror_mode": {
    "name": "ipython",
    "version": 3
   },
   "file_extension": ".py",
   "mimetype": "text/x-python",
   "name": "python",
   "nbconvert_exporter": "python",
   "pygments_lexer": "ipython3",
   "version": "3.10.12"
  }
 },
 "nbformat": 4,
 "nbformat_minor": 5
}
