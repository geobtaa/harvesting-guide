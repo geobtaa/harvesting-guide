{
 "cells": [
  {
   "cell_type": "code",
   "execution_count": null,
   "id": "8976944b",
   "metadata": {},
   "outputs": [],
   "source": [
    "import os\n",
    "import xml.etree.ElementTree as ET\n",
    "import pandas as pd\n",
    "\n",
    "# Define namespace mappings\n",
    "NAMESPACES = {\n",
    "    'gmd': 'http://www.isotc211.org/2005/gmd',\n",
    "    'gco': 'http://www.isotc211.org/2005/gco'\n",
    "}\n",
    "\n",
    "def extract_text(element, path):\n",
    "    \"\"\"Safely extract text from an XML element using XPath and namespaces.\"\"\"\n",
    "    found = element.find(path, NAMESPACES)\n",
    "    return found.text.strip() if found is not None and found.text else ''\n",
    "\n",
    "def parse_iso_metadata(xml_path):\n",
    "    \"\"\"Parse the XML and extract title, abstract, and purpose.\"\"\"\n",
    "    try:\n",
    "        tree = ET.parse(xml_path)\n",
    "        root = tree.getroot()\n",
    "        identification_info = root.find('gmd:identificationInfo/gmd:MD_DataIdentification', NAMESPACES)\n",
    "\n",
    "        title = extract_text(identification_info, 'gmd:citation/gmd:CI_Citation/gmd:title/gco:CharacterString')\n",
    "        abstract = extract_text(identification_info, 'gmd:abstract/gco:CharacterString')\n",
    "        purpose = extract_text(identification_info, 'gmd:purpose/gco:CharacterString')\n",
    "\n",
    "        return title, abstract, purpose\n",
    "    except Exception as e:\n",
    "        print(f\"Error processing {xml_path}: {e}\")\n",
    "        return '', '', ''\n"
   ]
  },
  {
   "cell_type": "code",
   "execution_count": null,
   "id": "d2c9d5a5",
   "metadata": {},
   "outputs": [],
   "source": [
    "# Set your root directory path\n",
    "root_directory = 'edge-shape'\n",
    "\n",
    "# List to hold extracted data\n",
    "metadata_records = []\n",
    "\n",
    "# Walk through each folder\n",
    "for folder_name in os.listdir(root_directory):\n",
    "    folder_path = os.path.join(root_directory, folder_name)\n",
    "    if os.path.isdir(folder_path):\n",
    "        for file_name in os.listdir(folder_path):\n",
    "            if file_name.lower().endswith('.xml'):\n",
    "                xml_path = os.path.join(folder_path, file_name)\n",
    "                title, abstract, purpose = parse_iso_metadata(xml_path)\n",
    "\n",
    "                metadata_records.append({\n",
    "                    'Folder Name': folder_name,\n",
    "                    'File Name': file_name,\n",
    "                    'Title': title,\n",
    "                    'Abstract': abstract,\n",
    "                    'Purpose': purpose\n",
    "                })\n"
   ]
  },
  {
   "cell_type": "code",
   "execution_count": null,
   "id": "4664060b",
   "metadata": {},
   "outputs": [],
   "source": [
    "# Convert to DataFrame\n",
    "df = pd.DataFrame(metadata_records)\n",
    "\n",
    "# Save CSV\n",
    "output_path = os.path.join(root_directory, 'iso_metadata_summary.csv')\n",
    "df.to_csv(output_path, index=False)"
   ]
  }
 ],
 "metadata": {
  "kernelspec": {
   "display_name": "Python 3 (ipykernel)",
   "language": "python",
   "name": "python3"
  },
  "language_info": {
   "codemirror_mode": {
    "name": "ipython",
    "version": 3
   },
   "file_extension": ".py",
   "mimetype": "text/x-python",
   "name": "python",
   "nbconvert_exporter": "python",
   "pygments_lexer": "ipython3",
   "version": "3.10.12"
  }
 },
 "nbformat": 4,
 "nbformat_minor": 5
}
