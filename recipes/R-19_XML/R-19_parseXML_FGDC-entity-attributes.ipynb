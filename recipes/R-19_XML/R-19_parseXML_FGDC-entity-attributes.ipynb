{
 "cells": [
  {
   "cell_type": "code",
   "execution_count": null,
   "id": "ebd15b00",
   "metadata": {},
   "outputs": [],
   "source": [
    "import os\n",
    "import xml.etree.ElementTree as ET\n",
    "import pandas as pd\n",
    "\n",
    "def extract_text_fgdc(parent, path):\n",
    "    \"\"\"Extract text from an FGDC XML element using tag path.\"\"\"\n",
    "    node = parent.find(path)\n",
    "    return node.text.strip() if node is not None and node.text else ''\n",
    "\n",
    "def parse_fgdc_entities(xml_path):\n",
    "    \"\"\"Parse <eainfo> section of FGDC XML and return list of entity-attribute dictionaries.\"\"\"\n",
    "    try:\n",
    "        tree = ET.parse(xml_path)\n",
    "        root = tree.getroot()\n",
    "        idinfo = root.find('idinfo')\n",
    "        eainfo = root.find('eainfo')\n",
    "        if idinfo is not None and eainfo is not None:\n",
    "            detailed = eainfo.find('detailed')\n",
    "            if detailed is not None:\n",
    "                entity_label = extract_text_fgdc(detailed, 'enttyp/enttypl')\n",
    "                entity_desc = extract_text_fgdc(detailed, 'enttyp/enttypd')\n",
    "\n",
    "                attr_elements = detailed.findall('attr')\n",
    "                records = []\n",
    "                for attr in attr_elements:\n",
    "                    attr_label = extract_text_fgdc(attr, 'attrlabl')\n",
    "                    attr_def = extract_text_fgdc(attr, 'attrdef')\n",
    "                    attr_src = extract_text_fgdc(attr, 'attrdefs')  # optional source\n",
    "                    records.append({\n",
    "                        'Entity Label': entity_label,\n",
    "                        'Entity Description': entity_desc,\n",
    "                        'Attribute Label': attr_label,\n",
    "                        'Attribute Definition': attr_def,\n",
    "                        'Attribute Source': attr_src\n",
    "                    })\n",
    "                return records\n",
    "        return []\n",
    "    except Exception as e:\n",
    "        print(f\"Error parsing {xml_path}: {e}\")\n",
    "        return []\n"
   ]
  },
  {
   "cell_type": "code",
   "execution_count": null,
   "id": "2b3d1d3c",
   "metadata": {},
   "outputs": [],
   "source": [
    "# Set the root path to your directory of shapefile folders\n",
    "root_directory = 'edge-shape'  # UPDATE this path\n",
    "\n",
    "# Collect all entity-attribute records\n",
    "eainfo_records = []\n",
    "\n",
    "for folder_name in os.listdir(root_directory):\n",
    "    folder_path = os.path.join(root_directory, folder_name)\n",
    "    if os.path.isdir(folder_path):\n",
    "        for file_name in os.listdir(folder_path):\n",
    "            if file_name.lower().endswith('.xml'):\n",
    "                xml_path = os.path.join(folder_path, file_name)\n",
    "                try:\n",
    "                    tree = ET.parse(xml_path)\n",
    "                    root = tree.getroot()\n",
    "                    # Check for FGDC format\n",
    "                    if root.tag == 'metadata' and root.find('eainfo') is not None:\n",
    "                        entries = parse_fgdc_entities(xml_path)\n",
    "                        for entry in entries:\n",
    "                            entry['Folder Name'] = folder_name\n",
    "                            entry['File Name'] = file_name\n",
    "                            eainfo_records.append(entry)\n",
    "                except Exception as e:\n",
    "                    print(f\"Skipping file {file_name} due to error: {e}\")\n"
   ]
  },
  {
   "cell_type": "code",
   "execution_count": null,
   "id": "3fb2d0df",
   "metadata": {},
   "outputs": [],
   "source": [
    "# Create DataFrame\n",
    "eainfo_df = pd.DataFrame(eainfo_records)\n",
    "\n",
    "# Save to CSV\n",
    "output_csv = os.path.join(root_directory, 'fgdc_eainfo_summary.csv')\n",
    "eainfo_df.to_csv(output_csv, index=False)"
   ]
  }
 ],
 "metadata": {
  "kernelspec": {
   "display_name": "Python 3 (ipykernel)",
   "language": "python",
   "name": "python3"
  },
  "language_info": {
   "codemirror_mode": {
    "name": "ipython",
    "version": 3
   },
   "file_extension": ".py",
   "mimetype": "text/x-python",
   "name": "python",
   "nbconvert_exporter": "python",
   "pygments_lexer": "ipython3",
   "version": "3.10.12"
  }
 },
 "nbformat": 4,
 "nbformat_minor": 5
}
