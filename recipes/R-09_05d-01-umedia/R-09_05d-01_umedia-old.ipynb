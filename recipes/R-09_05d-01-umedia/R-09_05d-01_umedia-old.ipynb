{
 "cells": [
  {
   "cell_type": "markdown",
   "id": "3f13543b",
   "metadata": {},
   "source": [
    "# Harvest from UMedia (05d-01)\n",
    "\n",
    "Purpose: This recipe is for harvesting maps from the [University Of Minnesota's UMedia Digital Library](https://umedia.lib.umn.edu). Users can specify which maps are harvested by the date they were accessioned into UMedia. "
   ]
  },
  {
   "cell_type": "markdown",
   "id": "e27de3ce",
   "metadata": {},
   "source": [
    "- The UMedia harvest script aims to find the newly added map items in a specific date range.\n",
    "\n",
    "- Users need to input a starting date in a YYYY-MM format, and the ending date will be current date by default. Besides, users need also input the expected number of search results so that at the beginning of the execution.\n",
    "\n",
    "- A temporary JSON file 'request_YYYYMMDD.json' wll be updated and saved for all search results. Then it will be split and saved into 'jsons' folder by month within the expected date range.  CSV files in the 'reports' folder are the metadata extracted by thier jsons by month.\n"
   ]
  },
  {
   "cell_type": "markdown",
   "id": "8f9ac483",
   "metadata": {},
   "source": [
    "## Set up folders\n",
    "\n",
    "**requests**\n",
    "\n",
    "    This folder stores all search results in JSON format for each reaccession as `request_YYYYMMDD.json`. \n",
    "\n",
    "**jsons**\n",
    "\n",
    "    This folder stores all JSON files by different added month for UMedia maps. After we get the search result JSON file from each reaccession, we will read this `request_YYYYMMDD.json` file in detail to filter out the included maps by month, and store them to `dateAdded_YYYYMM.json` individually.\n",
    "\n",
    "**reports**\n",
    "\n",
    "    This folder stores all CSV files for metadata by month. Once we have JSON files for different month, we extract all useful metadata and contribute in the `dateAdded_YYYYMM.csv` in this folder."
   ]
  },
  {
   "cell_type": "markdown",
   "id": "5a41074e",
   "metadata": {},
   "source": [
    "## Import modules "
   ]
  },
  {
   "cell_type": "code",
   "execution_count": 1,
   "id": "fa84578f",
   "metadata": {},
   "outputs": [
    {
     "name": "stdout",
     "output_type": "stream",
     "text": [
      "Intel MKL WARNING: Support of Intel(R) Streaming SIMD Extensions 4.2 (Intel(R) SSE4.2) enabled only processors has been deprecated. Intel oneAPI Math Kernel Library 2025.0 will require Intel(R) Advanced Vector Extensions (Intel(R) AVX) instructions.\n",
      "Intel MKL WARNING: Support of Intel(R) Streaming SIMD Extensions 4.2 (Intel(R) SSE4.2) enabled only processors has been deprecated. Intel oneAPI Math Kernel Library 2025.0 will require Intel(R) Advanced Vector Extensions (Intel(R) AVX) instructions.\n"
     ]
    }
   ],
   "source": [
    "import json # Allows for work/editing of JSON files\n",
    "import time # Allows for time/date functions\n",
    "import csv # Allows for CSV creation/editing\n",
    "import urllib.request # Allows for URL requests/responses from websites\n",
    "import pandas as pd # Allows for data analysis and structuring"
   ]
  },
  {
   "cell_type": "markdown",
   "id": "5672c5a2",
   "metadata": {},
   "source": [
    "This cell is used to input the amount of maps that you like to fit in your search range. Enter the amount when you run the cell."
   ]
  },
  {
   "cell_type": "code",
   "execution_count": 2,
   "id": "bf607ed6",
   "metadata": {},
   "outputs": [
    {
     "name": "stdout",
     "output_type": "stream",
     "text": [
      "Enter the number of latest maps:460\n"
     ]
    }
   ],
   "source": [
    "# User Input 1: Number of map search results\n",
    "num = input('Enter the number of latest maps:')\n",
    "# assertion to check input format\n",
    "assert num.isdigit() == True, 'Input number must be a integer.'"
   ]
  },
  {
   "cell_type": "markdown",
   "id": "2f1598aa",
   "metadata": {},
   "source": [
    "This cell is used to input the year and date range of maps you are seeking up to present day. Enter range as 'YYYY-MM' as shown in the cell."
   ]
  },
  {
   "cell_type": "code",
   "execution_count": 3,
   "id": "636be4ae",
   "metadata": {},
   "outputs": [
    {
     "name": "stdout",
     "output_type": "stream",
     "text": [
      "Set a date range from an input YYYY-MM to today: 2018-01\n"
     ]
    }
   ],
   "source": [
    "# User Input 2: Set date range for search\n",
    "dateBegin = input('Set a date range from an input YYYY-MM to today: ')\n",
    "# assertions to check input format: YYYY-MM\n",
    "assert dateBegin.count('-') == 1, 'Input format must be a dash-separated pair of year and month. '\n",
    "assert len(dateBegin.split('-')[0]) == 4, 'Input year must be 4 digits.'\n",
    "assert len(dateBegin.split('-')[1]) == 2, 'Input year must be 2 digits.'"
   ]
  },
  {
   "cell_type": "markdown",
   "id": "5aed7112",
   "metadata": {},
   "source": [
    "This cell will arrange the fields of the search criteria into field names and the specified dates into a table."
   ]
  },
  {
   "cell_type": "code",
   "execution_count": 4,
   "id": "4a23789f",
   "metadata": {},
   "outputs": [],
   "source": [
    "dateEnd = time.strftime('%Y-%m')\n",
    "months = pd.date_range(dateBegin, dateEnd,freq='M').strftime(\"%Y-%m\").tolist()\n",
    "if dateEnd not in months:\n",
    "    months.append(dateEnd)\n",
    "\n",
    "fieldnames = ['Title', 'Alternative Title', 'Description', 'notes', 'dimensions', 'scale', 'Language', 'Creator', 'Publisher',\n",
    "              'Resource Type', 'Keyword', 'Date Issued', 'Temporal Coverage', 'Date Range',\n",
    "              'Information', 'Download', 'Image', 'Manifest', \n",
    "              'Identifier', 'ID', 'Access Rights', 'Provider', 'Code', 'Is Part Of', 'Member Of',\n",
    "              'Accrual Method', 'Date Accessioned', 'Rights', 'Resource Class', 'Format', 'Date Added', 'Collection Name', 'Set', 'City', 'State', 'Country', 'Continent', 'Region', 'coordinates'] \n",
    "\n",
    "actionDate = time.strftime('%Y-%m-%d')"
   ]
  },
  {
   "cell_type": "markdown",
   "id": "ce954cfc",
   "metadata": {},
   "source": [
    "This cell automates and sends requests via the Umedia portal to find maps from archives as JSONs and loads them into the final cell which prepares them to be viewed based on the field names based on months."
   ]
  },
  {
   "cell_type": "code",
   "execution_count": 5,
   "id": "cd556ab7",
   "metadata": {},
   "outputs": [
    {
     "name": "stdout",
     "output_type": "stream",
     "text": [
      "> Requesting URL ...\n",
      "> Loading data ...\n"
     ]
    },
    {
     "ename": "JSONDecodeError",
     "evalue": "Expecting value: line 1 column 1 (char 0)",
     "output_type": "error",
     "traceback": [
      "\u001b[0;31m---------------------------------------------------------------------------\u001b[0m",
      "\u001b[0;31mJSONDecodeError\u001b[0m                           Traceback (most recent call last)",
      "Cell \u001b[0;32mIn[5], line 8\u001b[0m\n\u001b[1;32m      6\u001b[0m res \u001b[38;5;241m=\u001b[39m urllib\u001b[38;5;241m.\u001b[39mrequest\u001b[38;5;241m.\u001b[39murlopen(req)\n\u001b[1;32m      7\u001b[0m \u001b[38;5;28mprint\u001b[39m(\u001b[38;5;124m'\u001b[39m\u001b[38;5;124m> Loading data ...\u001b[39m\u001b[38;5;124m'\u001b[39m)\n\u001b[0;32m----> 8\u001b[0m data \u001b[38;5;241m=\u001b[39m \u001b[43mjson\u001b[49m\u001b[38;5;241;43m.\u001b[39;49m\u001b[43mloads\u001b[49m\u001b[43m(\u001b[49m\u001b[43mres\u001b[49m\u001b[38;5;241;43m.\u001b[39;49m\u001b[43mread\u001b[49m\u001b[43m(\u001b[49m\u001b[43m)\u001b[49m\u001b[43m)\u001b[49m\n\u001b[1;32m     10\u001b[0m \u001b[38;5;66;03m# store all search results in the temporary JSON file\u001b[39;00m\n\u001b[1;32m     11\u001b[0m datapath \u001b[38;5;241m=\u001b[39m \u001b[38;5;124m'\u001b[39m\u001b[38;5;124mrequests/request_\u001b[39m\u001b[38;5;132;01m{}\u001b[39;00m\u001b[38;5;132;01m{}\u001b[39;00m\u001b[38;5;132;01m{}\u001b[39;00m\u001b[38;5;124m.json\u001b[39m\u001b[38;5;124m'\u001b[39m\u001b[38;5;241m.\u001b[39mformat(actionDate\u001b[38;5;241m.\u001b[39msplit(\u001b[38;5;124m'\u001b[39m\u001b[38;5;124m-\u001b[39m\u001b[38;5;124m'\u001b[39m)[\u001b[38;5;241m0\u001b[39m],actionDate\u001b[38;5;241m.\u001b[39msplit(\u001b[38;5;124m'\u001b[39m\u001b[38;5;124m-\u001b[39m\u001b[38;5;124m'\u001b[39m)[\u001b[38;5;241m1\u001b[39m],actionDate\u001b[38;5;241m.\u001b[39msplit(\u001b[38;5;124m'\u001b[39m\u001b[38;5;124m-\u001b[39m\u001b[38;5;124m'\u001b[39m)[\u001b[38;5;241m2\u001b[39m])\n",
      "File \u001b[0;32m~/opt/anaconda3/envs/notebooks/lib/python3.10/json/__init__.py:346\u001b[0m, in \u001b[0;36mloads\u001b[0;34m(s, cls, object_hook, parse_float, parse_int, parse_constant, object_pairs_hook, **kw)\u001b[0m\n\u001b[1;32m    341\u001b[0m     s \u001b[38;5;241m=\u001b[39m s\u001b[38;5;241m.\u001b[39mdecode(detect_encoding(s), \u001b[38;5;124m'\u001b[39m\u001b[38;5;124msurrogatepass\u001b[39m\u001b[38;5;124m'\u001b[39m)\n\u001b[1;32m    343\u001b[0m \u001b[38;5;28;01mif\u001b[39;00m (\u001b[38;5;28mcls\u001b[39m \u001b[38;5;129;01mis\u001b[39;00m \u001b[38;5;28;01mNone\u001b[39;00m \u001b[38;5;129;01mand\u001b[39;00m object_hook \u001b[38;5;129;01mis\u001b[39;00m \u001b[38;5;28;01mNone\u001b[39;00m \u001b[38;5;129;01mand\u001b[39;00m\n\u001b[1;32m    344\u001b[0m         parse_int \u001b[38;5;129;01mis\u001b[39;00m \u001b[38;5;28;01mNone\u001b[39;00m \u001b[38;5;129;01mand\u001b[39;00m parse_float \u001b[38;5;129;01mis\u001b[39;00m \u001b[38;5;28;01mNone\u001b[39;00m \u001b[38;5;129;01mand\u001b[39;00m\n\u001b[1;32m    345\u001b[0m         parse_constant \u001b[38;5;129;01mis\u001b[39;00m \u001b[38;5;28;01mNone\u001b[39;00m \u001b[38;5;129;01mand\u001b[39;00m object_pairs_hook \u001b[38;5;129;01mis\u001b[39;00m \u001b[38;5;28;01mNone\u001b[39;00m \u001b[38;5;129;01mand\u001b[39;00m \u001b[38;5;129;01mnot\u001b[39;00m kw):\n\u001b[0;32m--> 346\u001b[0m     \u001b[38;5;28;01mreturn\u001b[39;00m \u001b[43m_default_decoder\u001b[49m\u001b[38;5;241;43m.\u001b[39;49m\u001b[43mdecode\u001b[49m\u001b[43m(\u001b[49m\u001b[43ms\u001b[49m\u001b[43m)\u001b[49m\n\u001b[1;32m    347\u001b[0m \u001b[38;5;28;01mif\u001b[39;00m \u001b[38;5;28mcls\u001b[39m \u001b[38;5;129;01mis\u001b[39;00m \u001b[38;5;28;01mNone\u001b[39;00m:\n\u001b[1;32m    348\u001b[0m     \u001b[38;5;28mcls\u001b[39m \u001b[38;5;241m=\u001b[39m JSONDecoder\n",
      "File \u001b[0;32m~/opt/anaconda3/envs/notebooks/lib/python3.10/json/decoder.py:337\u001b[0m, in \u001b[0;36mJSONDecoder.decode\u001b[0;34m(self, s, _w)\u001b[0m\n\u001b[1;32m    332\u001b[0m \u001b[38;5;28;01mdef\u001b[39;00m \u001b[38;5;21mdecode\u001b[39m(\u001b[38;5;28mself\u001b[39m, s, _w\u001b[38;5;241m=\u001b[39mWHITESPACE\u001b[38;5;241m.\u001b[39mmatch):\n\u001b[1;32m    333\u001b[0m \u001b[38;5;250m    \u001b[39m\u001b[38;5;124;03m\"\"\"Return the Python representation of ``s`` (a ``str`` instance\u001b[39;00m\n\u001b[1;32m    334\u001b[0m \u001b[38;5;124;03m    containing a JSON document).\u001b[39;00m\n\u001b[1;32m    335\u001b[0m \n\u001b[1;32m    336\u001b[0m \u001b[38;5;124;03m    \"\"\"\u001b[39;00m\n\u001b[0;32m--> 337\u001b[0m     obj, end \u001b[38;5;241m=\u001b[39m \u001b[38;5;28;43mself\u001b[39;49m\u001b[38;5;241;43m.\u001b[39;49m\u001b[43mraw_decode\u001b[49m\u001b[43m(\u001b[49m\u001b[43ms\u001b[49m\u001b[43m,\u001b[49m\u001b[43m \u001b[49m\u001b[43midx\u001b[49m\u001b[38;5;241;43m=\u001b[39;49m\u001b[43m_w\u001b[49m\u001b[43m(\u001b[49m\u001b[43ms\u001b[49m\u001b[43m,\u001b[49m\u001b[43m \u001b[49m\u001b[38;5;241;43m0\u001b[39;49m\u001b[43m)\u001b[49m\u001b[38;5;241;43m.\u001b[39;49m\u001b[43mend\u001b[49m\u001b[43m(\u001b[49m\u001b[43m)\u001b[49m\u001b[43m)\u001b[49m\n\u001b[1;32m    338\u001b[0m     end \u001b[38;5;241m=\u001b[39m _w(s, end)\u001b[38;5;241m.\u001b[39mend()\n\u001b[1;32m    339\u001b[0m     \u001b[38;5;28;01mif\u001b[39;00m end \u001b[38;5;241m!=\u001b[39m \u001b[38;5;28mlen\u001b[39m(s):\n",
      "File \u001b[0;32m~/opt/anaconda3/envs/notebooks/lib/python3.10/json/decoder.py:355\u001b[0m, in \u001b[0;36mJSONDecoder.raw_decode\u001b[0;34m(self, s, idx)\u001b[0m\n\u001b[1;32m    353\u001b[0m     obj, end \u001b[38;5;241m=\u001b[39m \u001b[38;5;28mself\u001b[39m\u001b[38;5;241m.\u001b[39mscan_once(s, idx)\n\u001b[1;32m    354\u001b[0m \u001b[38;5;28;01mexcept\u001b[39;00m \u001b[38;5;167;01mStopIteration\u001b[39;00m \u001b[38;5;28;01mas\u001b[39;00m err:\n\u001b[0;32m--> 355\u001b[0m     \u001b[38;5;28;01mraise\u001b[39;00m JSONDecodeError(\u001b[38;5;124m\"\u001b[39m\u001b[38;5;124mExpecting value\u001b[39m\u001b[38;5;124m\"\u001b[39m, s, err\u001b[38;5;241m.\u001b[39mvalue) \u001b[38;5;28;01mfrom\u001b[39;00m \u001b[38;5;28;01mNone\u001b[39;00m\n\u001b[1;32m    356\u001b[0m \u001b[38;5;28;01mreturn\u001b[39;00m obj, end\n",
      "\u001b[0;31mJSONDecodeError\u001b[0m: Expecting value: line 1 column 1 (char 0)"
     ]
    }
   ],
   "source": [
    "# requested maps are sorted by latest added with the specific search numbers\n",
    "# req = f'https://umedia.lib.umn.edu/search.json?facets%5Bcontributing_organization_name_s%5D%5B%5D=University+of+Minnesota+Libraries%2C+John+R.+Borchert+Map+Library.&q=borchert&rows={num}&sort=date_added_sort+desc%2C+title_sort+asc'\n",
    "req = f'https://umedia.lib.umn.edu/search?facets%5Bcontributing_organization_name_s%5D%5B%5D=University+of+Minnesota+Libraries%2C+University+Archives.&facets%5Btypes%5D%5B%5D=Cartographic'\n",
    "\n",
    "print('> Requesting URL ...')\n",
    "res = urllib.request.urlopen(req)\n",
    "print('> Loading data ...')\n",
    "data = json.loads(res.read())\n",
    "\n",
    "# store all search results in the temporary JSON file\n",
    "datapath = 'requests/request_{}{}{}.json'.format(actionDate.split('-')[0],actionDate.split('-')[1],actionDate.split('-')[2])\n",
    "with open(datapath, 'w') as fw:\n",
    "    json.dump(data, fw)\n",
    "with open(datapath) as fr:\n",
    "    data = json.load(fr)"
   ]
  },
  {
   "cell_type": "code",
   "execution_count": null,
   "id": "e3684b12",
   "metadata": {},
   "outputs": [],
   "source": [
    "# split and store JSON search results by month\n",
    "print('> Searching maps added from {} to {} ...'.format(dateBegin, dateEnd))\n",
    "searchResult = {}\n",
    "for month in months:\n",
    "    maps = [x for x in data if x[\"date_added\"].startswith(month)]\n",
    "    if maps:\n",
    "        print()\n",
    "        print('> Found {} maps added on {}'.format(len(maps), month))\n",
    "        searchResult[month] = len(maps)\n",
    "        jsonpath = 'jsons/dateAdded_{}{}.json'.format(month.split('-')[0],month.split('-')[1])\n",
    "        with open(jsonpath, 'w') as f:\n",
    "            print('> Saving JSON locally ...')\n",
    "            jsonObj = json.dumps(maps)\n",
    "            f.write(jsonObj)\n",
    "\n",
    "            # create metadata by month\n",
    "            print('> Preparing Metadata ...')\n",
    "            full_df = pd.read_json(jsonpath)\n",
    "            full_df = full_df.fillna('')\n",
    "            out_df = pd.DataFrame(columns=fieldnames)\n",
    "\n",
    "            ## extract content from full_df\n",
    "            out_df['Title'] = full_df['title']\n",
    "            out_df['Alternative Title'] = full_df['title']\n",
    "            \n",
    "            \n",
    "            try:\n",
    "                  out_df['Description'] = full_df['description']\n",
    "            except:\n",
    "                  out_df['Description'] = ''\n",
    "\n",
    "            try:\n",
    "                  out_df['Creator'] = full_df['creator'].str.join('|')\n",
    "            except:\n",
    "                  out_df['Creator'] = ''\n",
    "                  \n",
    "            try:\n",
    "                  out_df['notes'] = full_df['notes']\n",
    "            except:\n",
    "                  out_df['notes'] = ''\n",
    "\n",
    "            try:\n",
    "                  out_df['dimensions'] = full_df['dimensions']\n",
    "            except:\n",
    "                  out_df['dimensions'] = ''\n",
    "\n",
    "            try:\n",
    "                  out_df['scale'] = full_df['scale']\n",
    "            except:\n",
    "                  out_df['scale'] = '' \n",
    "\n",
    "            try:\n",
    "                  out_df['coordinates'] = full_df['coordinates'].str.join('|')\n",
    "            except:\n",
    "                  out_df['coordinates'] = ''   \n",
    "\n",
    "            try:\n",
    "                  out_df['Collection Name'] = full_df['collection_name']\n",
    "            except:\n",
    "                  out_df['Collection Name'] = '' \n",
    "\n",
    "            try:\n",
    "                  out_df['Set'] = full_df['set_spec']\n",
    "            except:\n",
    "                  out_df['Set'] = ''   \n",
    "            \n",
    "            out_df['Language'] = full_df['language'].str.join('|')\n",
    "            out_df['Publisher'] = full_df['publisher']\n",
    "            out_df['Keyword'] = full_df['subject'].str.join('|')\n",
    "            out_df['Date Issued'] = full_df['date_created'].str.join('')\n",
    "\n",
    "            ## spatial coverage\n",
    "            try:\n",
    "                  out_df['City'] = full_df['city'].str.join('|')\n",
    "            except:\n",
    "                  out_df['City'] = ''   \n",
    "            \n",
    "            try:\n",
    "                  out_df['State'] = full_df['state'].str.join('|')\n",
    "            except:\n",
    "                  out_df['State'] = ''   \n",
    "\n",
    "            try:\n",
    "                  out_df['Country'] = full_df['country'].str.join('|')\n",
    "            except:\n",
    "                  out_df['Country'] = '' \n",
    "                  \n",
    "            try:\n",
    "                  out_df['Continent'] = full_df['continent'].str.join('|')\n",
    "            except:\n",
    "                  out_df['Continent'] = ''   \n",
    "\n",
    "            try:\n",
    "                  out_df['Region'] = full_df['region'].str.join('|')\n",
    "            except:\n",
    "                  out_df['Region'] = ''   \n",
    "                  \n",
    "            try:\n",
    "                  out_df['Rights'] = full_df['local_rights'].str.join('|')\n",
    "            except:\n",
    "                  out_df['Rights'] = ''   \n",
    "                  \n",
    "            try:\n",
    "                  out_df['Identifier'] = full_df['system_identifier'].str.join('|')\n",
    "            except:\n",
    "                  out_df['Identifier'] = '' \n",
    "\n",
    "            out_df['Information'] = 'https://umedia.lib.umn.edu/item/' + full_df['id']\n",
    "            out_df['Download'] = 'http://cdm16022.contentdm.oclc.org/utils/getfile/collection/' + full_df['set_spec'] + '/id/' + full_df['parent_id'].astype(str) + '/filename/print/page/download/fparams/forcedownload'\n",
    "            out_df['Image'] = full_df['thumb_url']\n",
    "            out_df['Manifest'] = 'https://cdm16022.contentdm.oclc.org/iiif/info/' + full_df['set_spec'] + '/' + full_df['parent_id'].astype(str) + '/manifest.json'\n",
    "            out_df['ID'] = full_df['id']\n",
    "            out_df['Date Added'] = full_df['date_added']\n",
    "\n",
    "\n",
    "            ## some hard-code fields\n",
    "            out_df['Resource Type'] = ''\n",
    "            out_df['Provider'] = 'University of Minnesota'\n",
    "            out_df['Code'] = '05d-01'\n",
    "            out_df['Is Part Of'] = '05d-01-02'\n",
    "            out_df['Member Of'] = '64bd8c4c-8e60-4956-b43d-bdc3f93db488'\n",
    "            out_df['Accrual Method'] = 'JSON API'\n",
    "            out_df['Access Rights'] = 'Public'\n",
    "            out_df['Date Accessioned'] = actionDate\n",
    "            out_df['Resource Class'] = 'Maps'\n",
    "            out_df['Format'] = 'JPEG'\n",
    "\n",
    "\n",
    "            csvpath = \"reports/dateAdded_{}{}.csv\".format(month.split('-')[0],month.split('-')[1])\n",
    "            out_df.to_csv(csvpath, index=False)\n",
    "            print(\"> CSV report is created\")\n",
    "\n",
    "print()\n",
    "print()\n",
    "print('----------- Search Results -----------')\n",
    "for m in searchResult:\n",
    "    print('{} maps added on {}'.format(searchResult[m], m))\n"
   ]
  },
  {
   "cell_type": "code",
   "execution_count": null,
   "id": "811ff9d9",
   "metadata": {},
   "outputs": [],
   "source": []
  }
 ],
 "metadata": {
  "kernelspec": {
   "display_name": "Python 3 (ipykernel)",
   "language": "python",
   "name": "python3"
  },
  "language_info": {
   "codemirror_mode": {
    "name": "ipython",
    "version": 3
   },
   "file_extension": ".py",
   "mimetype": "text/x-python",
   "name": "python",
   "nbconvert_exporter": "python",
   "pygments_lexer": "ipython3",
   "version": "3.10.12"
  }
 },
 "nbformat": 4,
 "nbformat_minor": 5
}
