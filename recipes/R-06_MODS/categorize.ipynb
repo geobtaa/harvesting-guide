{
 "cells": [
  {
   "cell_type": "code",
   "execution_count": 1,
   "id": "eab09405",
   "metadata": {},
   "outputs": [],
   "source": [
    "## This script will scan determine which rows are parent, child, or standalone\n",
    "\n",
    "import csv\n",
    "\n",
    "def classify_row(is_part_of, id, is_part_of_counts):\n",
    "    # Check for standalone items\n",
    "    if is_part_of == \"06d-01\" and is_part_of_counts.get(id, 0) == 0:\n",
    "        return \"standalone\"\n",
    "    # Check for parent items\n",
    "    elif is_part_of == \"06d-01\" and is_part_of_counts.get(id, 0) > 0:\n",
    "        return \"parent\"\n",
    "    # Check for child items\n",
    "    elif \"06d-01\" in is_part_of and id not in is_part_of:\n",
    "        return \"child\"\n",
    "    else:\n",
    "        return \"unclassified\"\n",
    "\n",
    "def analyze_csv(file_name):\n",
    "    with open(file_name, 'r') as csvfile:\n",
    "        reader = csv.reader(csvfile)\n",
    "        header = next(reader)  # Capture header row\n",
    "        \n",
    "        # Identify indices of 'Is Part Of' and 'ID' columns\n",
    "        is_part_of_index = header.index(\"Is Part Of\")\n",
    "        id_index = header.index(\"ID\")\n",
    "\n",
    "        # Create a dictionary to count how many times each ID appears in the \"Is Part Of\" column\n",
    "        is_part_of_counts = {}\n",
    "        for row in reader:\n",
    "            is_part_of_values = row[is_part_of_index].split(\"|\")\n",
    "            for value in is_part_of_values:\n",
    "                if value != \"06d-01\":\n",
    "                    is_part_of_counts[value] = is_part_of_counts.get(value, 0) + 1\n",
    "\n",
    "        csvfile.seek(0)  # Reset reader to start of file\n",
    "        next(reader)  # Skip header row again\n",
    "        \n",
    "        # Classify each row\n",
    "        classifications = []\n",
    "        for row in reader:\n",
    "            is_part_of = row[is_part_of_index]\n",
    "            id = row[id_index]\n",
    "            classification = classify_row(is_part_of, id, is_part_of_counts)\n",
    "            classifications.append(row + [classification])\n",
    "    \n",
    "    # Write results to a new CSV\n",
    "    with open('classified_'+file_name, 'w', newline='') as csvfile:\n",
    "        writer = csv.writer(csvfile)\n",
    "        writer.writerow(header + [\"Classification\"])\n",
    "        writer.writerows(classifications)\n",
    "\n",
    "# Execute the function for your file\n",
    "analyze_csv('20231011_06d-01.csv')\n"
   ]
  },
  {
   "cell_type": "code",
   "execution_count": null,
   "id": "61e4c4d8",
   "metadata": {},
   "outputs": [],
   "source": []
  }
 ],
 "metadata": {
  "kernelspec": {
   "display_name": "Python 3 (ipykernel)",
   "language": "python",
   "name": "python3"
  },
  "language_info": {
   "codemirror_mode": {
    "name": "ipython",
    "version": 3
   },
   "file_extension": ".py",
   "mimetype": "text/x-python",
   "name": "python",
   "nbconvert_exporter": "python",
   "pygments_lexer": "ipython3",
   "version": "3.10.12"
  }
 },
 "nbformat": 4,
 "nbformat_minor": 5
}
