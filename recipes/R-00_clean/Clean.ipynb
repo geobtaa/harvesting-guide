{
 "cells": [
  {
   "cell_type": "code",
   "execution_count": 1,
   "id": "43b69dfa",
   "metadata": {},
   "outputs": [
    {
     "name": "stdout",
     "output_type": "stream",
     "text": [
      "Intel MKL WARNING: Support of Intel(R) Streaming SIMD Extensions 4.2 (Intel(R) SSE4.2) enabled only processors has been deprecated. Intel oneAPI Math Kernel Library 2025.0 will require Intel(R) Advanced Vector Extensions (Intel(R) AVX) instructions.\n",
      "Intel MKL WARNING: Support of Intel(R) Streaming SIMD Extensions 4.2 (Intel(R) SSE4.2) enabled only processors has been deprecated. Intel oneAPI Math Kernel Library 2025.0 will require Intel(R) Advanced Vector Extensions (Intel(R) AVX) instructions.\n"
     ]
    }
   ],
   "source": [
    "import pandas as pd\n",
    "from fuzzywuzzy import process\n",
    "\n",
    "# Define the acceptable values\n",
    "resource_class_values = ['Collections','Datasets','Imagery','Maps','Web services','Websites','Other']\n",
    "access_rights_values = ['Public', 'Restricted']\n",
    "\n",
    "# Load your CSV file into a pandas DataFrame\n",
    "csv_file_path = 'arc.csv'\n",
    "data = pd.read_csv(csv_file_path)\n",
    "\n",
    "# Create a DataFrame to store cleaning log\n",
    "cleaning_log = pd.DataFrame(columns=['ColumnName', 'OriginalValue', 'CleanedValue', 'CleaningAction'])"
   ]
  },
  {
   "cell_type": "code",
   "execution_count": 2,
   "id": "dae820fd",
   "metadata": {},
   "outputs": [],
   "source": [
    "# Clean 'Resource Class'\n",
    "def clean_resource_class(row):\n",
    "    resource_class_string = row['Resource Class']\n",
    "    original = resource_class_string\n",
    "    if pd.isnull(resource_class_string):\n",
    "        new_value = 'Datasets'\n",
    "        global cleaning_log\n",
    "        cleaning_log = pd.concat([cleaning_log, pd.DataFrame([{ 'ID': row['ID'], 'ColumnName': 'Resource Class', 'OriginalValue': original, 'CleanedValue': new_value, 'CleaningAction': 'Filled empty value with \"Datasets\"'}])], ignore_index=True)\n",
    "        return new_value\n",
    "    else:\n",
    "        resource_classes = resource_class_string.split('|')\n",
    "        new_resource_classes = []\n",
    "        for class_value in resource_classes:\n",
    "            new_value = process.extractOne(class_value.strip(), resource_class_values)[0]\n",
    "            if new_value != class_value:\n",
    "                cleaning_log = pd.concat([cleaning_log, pd.DataFrame([{ 'ID': row['ID'], 'ColumnName': 'Resource Class', 'OriginalValue': class_value, 'CleanedValue': new_value, 'CleaningAction': 'Fixed spelling'}])], ignore_index=True)\n",
    "            new_resource_classes.append(new_value)\n",
    "        return '|'.join(new_resource_classes)\n",
    "data['Resource Class'] = data.apply(clean_resource_class, axis=1)"
   ]
  },
  {
   "cell_type": "code",
   "execution_count": 3,
   "id": "0fd3bedf",
   "metadata": {},
   "outputs": [],
   "source": [
    "# Clean 'Date Range'\n",
    "def clean_date_range(row):\n",
    "    x = row['Date Range']\n",
    "    original = x\n",
    "    if pd.isnull(x) or x == '':\n",
    "        return x  # returns the original value if it's empty or null\n",
    "    else:\n",
    "        date_ranges = str(x).split('|')\n",
    "        for i in range(len(date_ranges)):\n",
    "            years = date_ranges[i].split('-')\n",
    "            if len(years) != 2 or not years[0].isdigit() or not years[1].isdigit() or int(years[0]) > int(years[1]):\n",
    "                years = sorted(years)\n",
    "                date_ranges[i] = '-'.join(years)\n",
    "                x = '|'.join(date_ranges)\n",
    "                global cleaning_log\n",
    "                cleaning_log = pd.concat([cleaning_log, pd.DataFrame([{ 'ID': row['ID'], 'ColumnName': 'Date Range', 'OriginalValue': original, 'CleanedValue': x, 'CleaningAction': 'Corrected date order'}])], ignore_index=True)\n",
    "        return x\n",
    "data['Date Range'] = data.apply(clean_date_range, axis=1)"
   ]
  },
  {
   "cell_type": "code",
   "execution_count": 4,
   "id": "a0fb229e",
   "metadata": {},
   "outputs": [],
   "source": [
    "# Clean 'Access Rights'\n",
    "def clean_access_rights(row):\n",
    "    x = row['Access Rights']\n",
    "    original = x\n",
    "    if pd.isnull(x):\n",
    "        x = 'Public'\n",
    "        global cleaning_log\n",
    "        cleaning_log = pd.concat([cleaning_log, pd.DataFrame([{ 'ID': row['ID'], 'ColumnName': 'Access Rights', 'OriginalValue': original, 'CleanedValue': x, 'CleaningAction': 'Filled empty value with \"Public\"'}])], ignore_index=True)\n",
    "    else:\n",
    "        new_value = process.extractOne(str(x), access_rights_values)[0]\n",
    "        if new_value != x:\n",
    "            x = new_value\n",
    "            cleaning_log = pd.concat([cleaning_log, pd.DataFrame([{ 'ID': row['ID'], 'ColumnName': 'Access Rights', 'OriginalValue': original, 'CleanedValue': x, 'CleaningAction': 'Fixed spelling'}])], ignore_index=True)\n",
    "    return x\n",
    "\n",
    "data['Access Rights'] = data.apply(clean_access_rights, axis=1)"
   ]
  },
  {
   "cell_type": "code",
   "execution_count": 5,
   "id": "f9fa1305",
   "metadata": {},
   "outputs": [],
   "source": [
    "# Clean 'Format' based on 'Download' field\n",
    "def clean_format(row):\n",
    "    x = row['Format']\n",
    "    original = x\n",
    "    if pd.isnull(x) and pd.notnull(row['Download']):\n",
    "        x = 'File'\n",
    "        global cleaning_log\n",
    "        cleaning_log = pd.concat([cleaning_log, pd.DataFrame([{ 'ID': row['ID'], 'ColumnName': 'Format', 'OriginalValue': original, 'CleanedValue': x, 'CleaningAction': 'Filled missing value with \"File\"'}])], ignore_index=True)\n",
    "    return x\n",
    "\n",
    "data['Format'] = data.apply(clean_format, axis=1)"
   ]
  },
  {
   "cell_type": "code",
   "execution_count": 6,
   "id": "b5624d8b",
   "metadata": {},
   "outputs": [],
   "source": [
    "# Function to round decimal places\n",
    "def round_coordinates(row):\n",
    "    x = row['Bounding Box']\n",
    "    original = x\n",
    "    if pd.isnull(x) or x == '':\n",
    "        return x\n",
    "    else:\n",
    "        pairs = x.split(',')\n",
    "        new_pairs = []\n",
    "        for pair in pairs:\n",
    "            coords = pair.split()\n",
    "            new_coords = [str(round(float(coord), 2)) for coord in coords]\n",
    "            new_pair = ' '.join(new_coords)\n",
    "            global cleaning_log\n",
    "            if new_pair != pair:\n",
    "                cleaning_log = pd.concat([cleaning_log, pd.DataFrame([{'ID':row['ID'], 'ColumnName': 'Bounding Box', 'OriginalValue': pair, 'CleanedValue': new_pair, 'CleaningAction': 'Rounded to 2 decimal places'}])], ignore_index=True)\n",
    "            new_pairs.append(new_pair)\n",
    "        return ','.join(new_pairs)\n",
    "\n",
    "data['Rounded Bounding Box'] = data.apply(round_coordinates, axis=1)"
   ]
  },
  {
   "cell_type": "code",
   "execution_count": null,
   "id": "954cebbc",
   "metadata": {},
   "outputs": [],
   "source": []
  },
  {
   "cell_type": "code",
   "execution_count": null,
   "id": "d70288dc",
   "metadata": {},
   "outputs": [],
   "source": [
    "# Function to check and correct points/lines\n",
    "\n",
    "def correct_points_lines(row):\n",
    "    x = str(row['Rounded Bounding Box'])\n",
    "    original = x\n",
    "    if pd.isnull(x) or x == '':\n",
    "        return x\n",
    "    else:\n",
    "        pairs = x.split(',')\n",
    "        new_pairs = []\n",
    "        for pair in pairs:\n",
    "            coords = pair.split()\n",
    "            if len(coords) == 4:\n",
    "                west, south, east, north = map(float, coords)\n",
    "                if west == east:\n",
    "                    east = round(east + 0.01, 2)\n",
    "                if south == north:\n",
    "                    north = round(north + 0.01, 2)\n",
    "                new_pair = ' '.join(map(str, [west, south, east, north]))\n",
    "                if new_pair != pair:\n",
    "                    global cleaning_log\n",
    "                    cleaning_log = pd.concat([cleaning_log, pd.DataFrame([{'ID':row['ID'], 'ColumnName': 'Bounding Box', 'OriginalValue': pair, 'CleanedValue': new_pair, 'CleaningAction': 'Corrected line/point to a box'}])], ignore_index=True)\n",
    "                new_pairs.append(new_pair)\n",
    "        return ','.join(new_pairs)\n",
    "\n",
    "data['Cleaned Bounding Box'] = data.apply(correct_points_lines, axis=1)"
   ]
  },
  {
   "cell_type": "code",
   "execution_count": null,
   "id": "93a94e63",
   "metadata": {},
   "outputs": [],
   "source": [
    "# After cleaning\n",
    "cleaned_file_path = \"cleaned_metadata_2.csv\"\n",
    "data.to_csv(cleaned_file_path, index=False)\n",
    "cleaning_log.to_csv(\"cleaning_log_2.csv\", index=False)"
   ]
  }
 ],
 "metadata": {
  "kernelspec": {
   "display_name": "Python 3 (ipykernel)",
   "language": "python",
   "name": "python3"
  },
  "language_info": {
   "codemirror_mode": {
    "name": "ipython",
    "version": 3
   },
   "file_extension": ".py",
   "mimetype": "text/x-python",
   "name": "python",
   "nbconvert_exporter": "python",
   "pygments_lexer": "ipython3",
   "version": "3.10.12"
  }
 },
 "nbformat": 4,
 "nbformat_minor": 5
}
