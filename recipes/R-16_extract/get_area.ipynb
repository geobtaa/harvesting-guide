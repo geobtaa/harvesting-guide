{
 "cells": [
  {
   "cell_type": "code",
   "execution_count": null,
   "id": "432a458e",
   "metadata": {},
   "outputs": [],
   "source": [
    "import geopandas as gpd\n",
    "from shapely.geometry import box\n",
    "\n",
    "def calculate_bbox_area(w, s, e, n):\n",
    "    \"\"\"\n",
    "    Calculate the area of a bounding box in square kilometers using an equal-area projection.\n",
    "\n",
    "    Parameters:\n",
    "    - w (float): Western longitude of the bounding box.\n",
    "    - s (float): Southern latitude of the bounding box.\n",
    "    - e (float): Eastern longitude of the bounding box.\n",
    "    - n (float): Northern latitude of the bounding box.\n",
    "\n",
    "    Returns:\n",
    "    - float: The area in square kilometers.\n",
    "    \"\"\"\n",
    "    try:\n",
    "        # Create a bounding box polygon\n",
    "        bbox_polygon = box(w, s, e, n)\n",
    "        \n",
    "        # Define the CRS for the input coordinates (WGS 84)\n",
    "        bbox_gdf = gpd.GeoDataFrame({'geometry': [bbox_polygon]}, crs=\"EPSG:4326\")\n",
    "        \n",
    "        # Reproject to an equal-area projection (World Cylindrical Equal Area, EPSG:6933)\n",
    "        bbox_gdf = bbox_gdf.to_crs(epsg=6933)\n",
    "        \n",
    "        # Calculate the area in square kilometers\n",
    "        area_km2 = bbox_gdf.geometry.area.sum() / 1e6  # Convert from square meters to square kilometers\n",
    "        \n",
    "        return round(area_km2, 3)\n",
    "    except Exception as e:\n",
    "        print(f\"Error calculating area: {e}\")\n",
    "        return None\n",
    "\n",
    "# Example usage:\n",
    "w, s, e, n = -92.69,43.83,-92.08,44.2  # Replace with bounding box coordinates\n",
    "area = calculate_bbox_area(w, s, e, n)\n",
    "print(f\"The area of the bounding box is {area} square kilometers.\")"
   ]
  },
  {
   "cell_type": "code",
   "execution_count": null,
   "id": "295c5a86",
   "metadata": {},
   "outputs": [],
   "source": []
  }
 ],
 "metadata": {
  "kernelspec": {
   "display_name": "Python 3 (ipykernel)",
   "language": "python",
   "name": "python3"
  },
  "language_info": {
   "codemirror_mode": {
    "name": "ipython",
    "version": 3
   },
   "file_extension": ".py",
   "mimetype": "text/x-python",
   "name": "python",
   "nbconvert_exporter": "python",
   "pygments_lexer": "ipython3",
   "version": "3.10.12"
  }
 },
 "nbformat": 4,
 "nbformat_minor": 5
}
