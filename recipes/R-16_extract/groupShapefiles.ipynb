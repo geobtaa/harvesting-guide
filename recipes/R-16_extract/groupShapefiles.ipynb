{
 "cells": [
  {
   "cell_type": "markdown",
   "id": "ba83da1a",
   "metadata": {},
   "source": [
    "# Group shapefiles"
   ]
  },
  {
   "cell_type": "markdown",
   "id": "014d8990",
   "metadata": {},
   "source": [
    "## Purpose\n",
    "\n",
    "Groups shapefile components together in sub-folders named after each base filename.\n",
    "Example: all files named 'roads.shp', 'roads.shx', 'roads.dbf' will move into folder 'roads'.\n",
    "   "
   ]
  },
  {
   "cell_type": "code",
   "execution_count": 2,
   "id": "555e1a3d",
   "metadata": {},
   "outputs": [],
   "source": [
    "# Change this path to the directory you want to process\n",
    "directory_path = \"shp_plan_regonal_parcels_2015\""
   ]
  },
  {
   "cell_type": "code",
   "execution_count": 3,
   "id": "ccff345a",
   "metadata": {},
   "outputs": [],
   "source": [
    "import os"
   ]
  },
  {
   "cell_type": "code",
   "execution_count": 10,
   "id": "ea496c3d",
   "metadata": {},
   "outputs": [],
   "source": [
    "def group_shapefile_components(directory):\n",
    "    \"\"\"\n",
    "    Groups shapefile components together in sub-folders named after the shapefile base name.\n",
    "\n",
    "    This version has special logic to capture '.shp.xml' files as part of the\n",
    "    same group as the corresponding '.shp' file.\n",
    "\n",
    "    Examples:\n",
    "      - roads.shp, roads.dbf, roads.shx, roads.shp.xml → folder 'roads'\n",
    "      - lakes.shp.xml → folder 'lakes'\n",
    "    \"\"\"\n",
    "\n",
    "    def get_shapefile_basename(filename):\n",
    "        \"\"\"\n",
    "        Returns the 'shapefile base name' if the file corresponds to a shapefile component,\n",
    "        or None if it's not a valid shapefile component.\n",
    "        \n",
    "        - Special handling for files ending with '.shp.xml' → belongs to the same group as 'filename.shp'.\n",
    "        - Ignores hidden files (like .DS_Store).\n",
    "        \"\"\"\n",
    "        # Ignore hidden files (e.g., .DS_Store)\n",
    "        if filename.startswith('.'):\n",
    "            return None\n",
    "        \n",
    "        # Special handling for .shp.xml\n",
    "        # e.g.: \"myfile.shp.xml\" → base name: \"myfile\"\n",
    "        if filename.endswith('.shp.xml'):\n",
    "            return filename[:-8]  # Remove the .shp.xml portion\n",
    "        \n",
    "        # Otherwise, do a simple splitext\n",
    "        base, ext = os.path.splitext(filename)\n",
    "        if not ext:\n",
    "            # If there's no extension at all, skip\n",
    "            return None\n",
    "        \n",
    "        # Return the base (e.g., roads.shp → roads)\n",
    "        return base\n",
    "\n",
    "    # Dictionary mapping basename → list of filenames with that basename\n",
    "    files_by_basename = {}\n",
    "\n",
    "    for filename in os.listdir(directory):\n",
    "        full_path = os.path.join(directory, filename)\n",
    "        \n",
    "        # Skip directories\n",
    "        if os.path.isdir(full_path):\n",
    "            continue\n",
    "\n",
    "        # Figure out what the \"shapefile basename\" should be\n",
    "        basename = get_shapefile_basename(filename)\n",
    "        if not basename:\n",
    "            # If None, skip this file (hidden or not shapefile-related)\n",
    "            continue\n",
    "\n",
    "        # Add filename to our dictionary under the identified basename\n",
    "        if basename not in files_by_basename:\n",
    "            files_by_basename[basename] = []\n",
    "        files_by_basename[basename].append(filename)\n",
    "\n",
    "    # Create sub-folders and move files\n",
    "    for basename, file_list in files_by_basename.items():\n",
    "        folder_path = os.path.join(directory, basename)\n",
    "\n",
    "        # If there's already a file (not a directory) named 'basename', skip creating the folder.\n",
    "        if os.path.exists(folder_path) and not os.path.isdir(folder_path):\n",
    "            print(f\"Skipping creation of '{folder_path}' because a file with that name exists.\")\n",
    "            continue\n",
    "\n",
    "        # Safely create the sub-folder\n",
    "        os.makedirs(folder_path, exist_ok=True)\n",
    "\n",
    "        # Move each file into the new folder\n",
    "        for file_item in file_list:\n",
    "            src = os.path.join(directory, file_item)\n",
    "            dst = os.path.join(folder_path, file_item)\n",
    "\n",
    "            # Double-check source exists before moving (just in case of partial rerun)\n",
    "            if os.path.exists(src):\n",
    "                os.rename(src, dst)"
   ]
  },
  {
   "cell_type": "code",
   "execution_count": 11,
   "id": "17604964",
   "metadata": {
    "scrolled": true
   },
   "outputs": [],
   "source": [
    "group_shapefile_components(directory_path)"
   ]
  },
  {
   "cell_type": "code",
   "execution_count": null,
   "id": "75474c4e",
   "metadata": {},
   "outputs": [],
   "source": []
  }
 ],
 "metadata": {
  "kernelspec": {
   "display_name": "Python 3 (ipykernel)",
   "language": "python",
   "name": "python3"
  },
  "language_info": {
   "codemirror_mode": {
    "name": "ipython",
    "version": 3
   },
   "file_extension": ".py",
   "mimetype": "text/x-python",
   "name": "python",
   "nbconvert_exporter": "python",
   "pygments_lexer": "ipython3",
   "version": "3.10.12"
  }
 },
 "nbformat": 4,
 "nbformat_minor": 5
}
