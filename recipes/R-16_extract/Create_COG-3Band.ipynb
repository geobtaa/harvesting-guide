{
 "cells": [
  {
   "cell_type": "markdown",
   "id": "9dd9bdfd",
   "metadata": {},
   "source": [
    "This script processes GeoTIFFs to create Cloud Optimized GeoTIFFs (COGs). It includes the following steps:\n",
    "\n",
    "1. Reprojects the input raster to EPSG:3857 (Web Mercator) for web visualization.\n",
    "2. Converts single-band rasters to RGB using a custom colormap.\n",
    "3. Adds an alpha band for transparency based on NoData values.\n",
    "4. Generates overviews for efficient multi-resolution rendering.\n",
    "5. Saves the output as a compressed, tiled, and optimized COG."
   ]
  },
  {
   "cell_type": "markdown",
   "id": "30cfc4c1",
   "metadata": {},
   "source": [
    "### import modules"
   ]
  },
  {
   "cell_type": "code",
   "execution_count": null,
   "id": "d144b5c2",
   "metadata": {},
   "outputs": [],
   "source": [
    "from osgeo import gdal\n",
    "import numpy as np"
   ]
  },
  {
   "cell_type": "markdown",
   "id": "f22250b1",
   "metadata": {},
   "source": [
    "### define the function"
   ]
  },
  {
   "cell_type": "code",
   "execution_count": 1,
   "id": "3b27aa9e",
   "metadata": {},
   "outputs": [
    {
     "name": "stdout",
     "output_type": "stream",
     "text": [
      "Intel MKL WARNING: Support of Intel(R) Streaming SIMD Extensions 4.2 (Intel(R) SSE4.2) enabled only processors has been deprecated. Intel oneAPI Math Kernel Library 2025.0 will require Intel(R) Advanced Vector Extensions (Intel(R) AVX) instructions.\n",
      "Intel MKL WARNING: Support of Intel(R) Streaming SIMD Extensions 4.2 (Intel(R) SSE4.2) enabled only processors has been deprecated. Intel oneAPI Math Kernel Library 2025.0 will require Intel(R) Advanced Vector Extensions (Intel(R) AVX) instructions.\n",
      "Reprojecting raster to EPSG:3857...\n"
     ]
    },
    {
     "name": "stderr",
     "output_type": "stream",
     "text": [
      "/Users/majew030/opt/anaconda3/envs/notebooks/lib/python3.10/site-packages/osgeo/gdal.py:312: FutureWarning: Neither gdal.UseExceptions() nor gdal.DontUseExceptions() has been explicitly called. In GDAL 4.0, exceptions will be enabled by default.\n",
      "  warnings.warn(\n",
      "ERROR 6: temp_reprojected.tif, band 1: SetColorTable() only supported for Byte or UInt16 bands in TIFF format.\n"
     ]
    },
    {
     "name": "stdout",
     "output_type": "stream",
     "text": [
      "Processing single-band raster...\n",
      "Generating overviews...\n",
      "Creating Cloud Optimized GeoTIFF...\n",
      "RGB COG with reprojection and alpha band created successfully: aquifer_rgb_cog.tif\n"
     ]
    }
   ],
   "source": [
    "def create_rgb_cog_with_reprojection(input_tiff, output_cog):\n",
    "    # Open the input GeoTIFF\n",
    "    src_ds = gdal.Open(input_tiff, gdal.GA_ReadOnly)\n",
    "    if not src_ds:\n",
    "        raise ValueError(f\"Unable to open input file: {input_tiff}\")\n",
    "\n",
    "    # Reproject to EPSG:3857\n",
    "    print(\"Reprojecting raster to EPSG:3857...\")\n",
    "    temp_reprojected_tiff = \"temp_reprojected.tif\"\n",
    "    gdal.Warp(\n",
    "        temp_reprojected_tiff,\n",
    "        src_ds,\n",
    "        dstSRS=\"EPSG:3857\",  # Target projection\n",
    "        format=\"GTiff\",\n",
    "        dstNodata=0  # Ensure NoData value is set during reprojection\n",
    "    )\n",
    "\n",
    "    # Open the reprojected dataset\n",
    "    reproj_ds = gdal.Open(temp_reprojected_tiff, gdal.GA_ReadOnly)\n",
    "\n",
    "    if reproj_ds.RasterCount == 1:\n",
    "        # Single-band grayscale raster\n",
    "        print(\"Processing single-band raster...\")\n",
    "        band = reproj_ds.GetRasterBand(1)\n",
    "        data = band.ReadAsArray()\n",
    "\n",
    "        # Create RGB arrays\n",
    "        r = np.zeros_like(data, dtype=np.uint8)\n",
    "        g = np.zeros_like(data, dtype=np.uint8)\n",
    "        b = np.zeros_like(data, dtype=np.uint8)\n",
    "\n",
    "        # This section applies a custom colormap for single-band rasters. \n",
    "        # Adjust the color map values and corresponding RGB colors if your input GeoTIFF uses different classification values.\n",
    "        color_map = {\n",
    "            1: (255, 0, 0),    # Red\n",
    "            2: (0, 255, 0),    # Green\n",
    "            3: (0, 0, 255),    # Blue\n",
    "            4: (255, 255, 0),  # Yellow\n",
    "            5: (255, 165, 0)   # Orange\n",
    "        }\n",
    "\n",
    "        # Adjust this colormap to match classification values in your input GeoTIFF.\n",
    "        # Add or modify keys to handle additional or different values.\n",
    "        for value, color in color_map.items():\n",
    "            r[data == value] = color[0]\n",
    "            g[data == value] = color[1]\n",
    "            b[data == value] = color[2]\n",
    "\n",
    "        # Create an in-memory RGB raster\n",
    "        driver = gdal.GetDriverByName(\"MEM\")\n",
    "        rgb_ds = driver.Create(\"\", reproj_ds.RasterXSize, reproj_ds.RasterYSize, 4, gdal.GDT_Byte)  # 4 bands for RGBA\n",
    "        rgb_ds.SetGeoTransform(reproj_ds.GetGeoTransform())\n",
    "        rgb_ds.SetProjection(reproj_ds.GetProjection())\n",
    "        rgb_ds.GetRasterBand(1).WriteArray(r)\n",
    "        rgb_ds.GetRasterBand(2).WriteArray(g)\n",
    "        rgb_ds.GetRasterBand(3).WriteArray(b)\n",
    "        alpha = np.where(data == 0, 0, 255).astype(np.uint8)  # Create alpha band\n",
    "        rgb_ds.GetRasterBand(4).WriteArray(alpha)\n",
    "        rgb_ds.GetRasterBand(1).SetNoDataValue(0)\n",
    "        rgb_ds.GetRasterBand(2).SetNoDataValue(0)\n",
    "        rgb_ds.GetRasterBand(3).SetNoDataValue(0)\n",
    "        rgb_ds.GetRasterBand(4).SetNoDataValue(0)\n",
    "\n",
    "    elif reproj_ds.RasterCount == 3:\n",
    "        # Already an RGB raster\n",
    "        print(\"Input raster is already RGB.\")\n",
    "        driver = gdal.GetDriverByName(\"MEM\")\n",
    "        rgb_ds = driver.CreateCopy(\"\", reproj_ds, 0)\n",
    "        alpha_band = rgb_ds.GetRasterBand(1).ReadAsArray() > 0\n",
    "        alpha = (alpha_band * 255).astype(np.uint8)  # Create alpha band for transparency\n",
    "        rgb_ds.AddBand()\n",
    "        rgb_ds.GetRasterBand(4).WriteArray(alpha)\n",
    "        rgb_ds.GetRasterBand(4).SetNoDataValue(0)\n",
    "\n",
    "    else:\n",
    "        raise ValueError(\"Unsupported raster format: must be single-band or RGB.\")\n",
    "\n",
    "    # Generate overviews\n",
    "    print(\"Generating overviews...\")\n",
    "    rgb_ds.BuildOverviews(\"NEAREST\", [2, 4, 8, 16, 32])\n",
    "\n",
    "    # Translate to Cloud Optimized GeoTIFF\n",
    "    print(\"Creating Cloud Optimized GeoTIFF...\")\n",
    "    gdal.Translate(\n",
    "        output_cog,\n",
    "        rgb_ds,\n",
    "        format=\"COG\",\n",
    "        creationOptions=[\n",
    "            \"COMPRESS=LZW\",  # Compression\n",
    "            \"BIGTIFF=YES\",   # Allow large files\n",
    "        ],\n",
    "    )\n",
    "\n",
    "    print(f\"RGB COG with reprojection and alpha band created successfully: {output_cog}\")"
   ]
  },
  {
   "cell_type": "markdown",
   "id": "36309a66",
   "metadata": {},
   "source": [
    "### Run the function"
   ]
  },
  {
   "cell_type": "code",
   "execution_count": null,
   "id": "a3c538df",
   "metadata": {},
   "outputs": [],
   "source": [
    "create_rgb_cog_with_reprojection(\"Aquifer_Sensitivity_Near_Surface/Aquifer_Sensitivity_Near_Surface_IN.tif\", \"aquifer_rgb_cog.tif\")"
   ]
  }
 ],
 "metadata": {
  "kernelspec": {
   "display_name": "Python 3 (ipykernel)",
   "language": "python",
   "name": "python3"
  },
  "language_info": {
   "codemirror_mode": {
    "name": "ipython",
    "version": 3
   },
   "file_extension": ".py",
   "mimetype": "text/x-python",
   "name": "python",
   "nbconvert_exporter": "python",
   "pygments_lexer": "ipython3",
   "version": "3.10.12"
  }
 },
 "nbformat": 4,
 "nbformat_minor": 5
}
