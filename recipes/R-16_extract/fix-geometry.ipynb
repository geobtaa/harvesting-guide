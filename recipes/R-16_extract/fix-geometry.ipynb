{
 "cells": [
  {
   "cell_type": "code",
   "execution_count": 2,
   "id": "6038788d",
   "metadata": {},
   "outputs": [
    {
     "name": "stderr",
     "output_type": "stream",
     "text": [
      "/Users/majew030/opt/anaconda3/envs/notebooks/lib/python3.10/site-packages/pyogrio/raw.py:196: UserWarning: Measured (M) geometry types are not supported. Original type 'PointM' is converted to 'Point'\n",
      "  return ogr_read(\n"
     ]
    },
    {
     "name": "stdout",
     "output_type": "stream",
     "text": [
      "Found 0 null or empty geometries.\n"
     ]
    }
   ],
   "source": [
    "import geopandas as gpd\n",
    "\n",
    "# Load the shapefile\n",
    "gdf = gpd.read_file(\"RNF_MP_10th_MajorRoutes/RNF_MP_10th_MajorRoutes_shp.shp\")\n",
    "\n",
    "# Check for null or empty geometries\n",
    "null_geometries = gdf[gdf.geometry.is_empty | gdf.geometry.isna()]\n",
    "\n",
    "# Print information on null or empty geometries\n",
    "print(f\"Found {len(null_geometries)} null or empty geometries.\")\n",
    "\n",
    "# Remove null or empty geometries if needed\n",
    "gdf_cleaned = gdf[~(gdf.geometry.is_empty | gdf.geometry.isna())]\n",
    "\n",
    "# Save cleaned shapefile if null geometries were removed\n",
    "if len(null_geometries) > 0:\n",
    "    gdf_cleaned.to_file(\"cleaned_shapefile.shp\")"
   ]
  },
  {
   "cell_type": "code",
   "execution_count": 3,
   "id": "fdcfe117",
   "metadata": {},
   "outputs": [
    {
     "name": "stdout",
     "output_type": "stream",
     "text": [
      "Found 0 invalid geometries.\n"
     ]
    }
   ],
   "source": [
    "from shapely.validation import explain_validity\n",
    "\n",
    "# Identify invalid geometries\n",
    "invalid_geometries = gdf[~gdf.is_valid]\n",
    "print(f\"Found {len(invalid_geometries)} invalid geometries.\")\n",
    "\n",
    "# Print reasons for invalidity, if any\n",
    "for index, row in invalid_geometries.iterrows():\n",
    "    print(f\"Geometry at index {index} is invalid: {explain_validity(row.geometry)}\")\n",
    "\n",
    "# Optionally, attempt to fix invalid geometries by buffering by 0 (common quick fix)\n",
    "gdf[\"geometry\"] = gdf.geometry.buffer(0)"
   ]
  },
  {
   "cell_type": "code",
   "execution_count": null,
   "id": "809f4014",
   "metadata": {},
   "outputs": [],
   "source": []
  }
 ],
 "metadata": {
  "kernelspec": {
   "display_name": "Python 3 (ipykernel)",
   "language": "python",
   "name": "python3"
  },
  "language_info": {
   "codemirror_mode": {
    "name": "ipython",
    "version": 3
   },
   "file_extension": ".py",
   "mimetype": "text/x-python",
   "name": "python",
   "nbconvert_exporter": "python",
   "pygments_lexer": "ipython3",
   "version": "3.10.12"
  }
 },
 "nbformat": 4,
 "nbformat_minor": 5
}
