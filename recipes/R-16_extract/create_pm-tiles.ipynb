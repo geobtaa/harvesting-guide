{
 "cells": [
  {
   "cell_type": "code",
   "execution_count": 1,
   "id": "de9908e1",
   "metadata": {},
   "outputs": [
    {
     "name": "stdout",
     "output_type": "stream",
     "text": [
      "Found 242 shapefiles to process.\n",
      "PMTiles created at indiana_pmtiles/coal_seelyville_elevation_ncrds_in_2012.pmtiles\n",
      "PMTiles created at indiana_pmtiles/Wetlands_Historic_NWI_USFWS_IN.pmtiles\n"
     ]
    },
    {
     "name": "stderr",
     "output_type": "stream",
     "text": [
      "Warning 1: Field 'LON_MIN' already exists. Renaming it as 'LON_MIN2'\n",
      "Warning 1: Field 'LON_SEC' already exists. Renaming it as 'LON_SEC2'\n"
     ]
    },
    {
     "name": "stdout",
     "output_type": "stream",
     "text": [
      "PMTiles created at indiana_pmtiles/Towers_Cellular_FCC_ULS_IN.pmtiles\n",
      "PMTiles created at indiana_pmtiles/Floodplains_FIRM_IDNR_IN.pmtiles\n",
      "PMTiles created at indiana_pmtiles/Petroleum_Wells_IGS_IN.pmtiles\n"
     ]
    },
    {
     "name": "stderr",
     "output_type": "stream",
     "text": [
      "Warning 1: The output driver does not natively support Date type for field SURVEY_DAT. Misconversion can happen. -mapFieldType can be used to control field type conversion.\n"
     ]
    },
    {
     "name": "stdout",
     "output_type": "stream",
     "text": [
      "PMTiles created at indiana_pmtiles/Lake_Bathymetry_IDNR_IN.pmtiles\n",
      "PMTiles created at indiana_pmtiles/coal_seelyville_mined_out_in_2012.pmtiles\n",
      "PMTiles created at indiana_pmtiles/coal_hymera_depth_in_2014.pmtiles\n"
     ]
    },
    {
     "name": "stderr",
     "output_type": "stream",
     "text": [
      "Warning 1: The output driver does not natively support Date type for field CONTDATE. Misconversion can happen. -mapFieldType can be used to control field type conversion.\n",
      "Warning 1: The output driver does not natively support Date type for field GEODATE. Misconversion can happen. -mapFieldType can be used to control field type conversion.\n"
     ]
    },
    {
     "name": "stdout",
     "output_type": "stream",
     "text": [
      "PMTiles created at indiana_pmtiles/Fire_Stations_HSIP_IDHS_IN.pmtiles\n",
      "PMTiles created at indiana_pmtiles/Landsurvey_County_Poly_IN.pmtiles\n",
      "PMTiles created at indiana_pmtiles/Populated_Areas_TIGER00_IN.pmtiles\n"
     ]
    },
    {
     "name": "stderr",
     "output_type": "stream",
     "text": [
      "Warning 1: The output driver does not natively support Date type for field DATA_COLLE. Misconversion can happen. -mapFieldType can be used to control field type conversion.\n"
     ]
    },
    {
     "name": "stdout",
     "output_type": "stream",
     "text": [
      "PMTiles created at indiana_pmtiles/Manufactured_Gas_Plants_IDEM_IN.pmtiles\n",
      "PMTiles created at indiana_pmtiles/Voting_Districts_2010_USCB_IN.pmtiles\n",
      "PMTiles created at indiana_pmtiles/Airports_NTAD_IN.pmtiles\n"
     ]
    },
    {
     "name": "stderr",
     "output_type": "stream",
     "text": [
      "Warning 1: The output driver does not natively support Date type for field FDate. Misconversion can happen. -mapFieldType can be used to control field type conversion.\n"
     ]
    },
    {
     "name": "stdout",
     "output_type": "stream",
     "text": [
      "PMTiles created at indiana_pmtiles/Hydrography_LocalRes_Flowline_Unclassified_NHD_IN.pmtiles\n",
      "PMTiles created at indiana_pmtiles/Congress_Districts_116th_USCB_IN.pmtiles\n",
      "PMTiles created at indiana_pmtiles/Alternative_Fuel_Sites_IN.pmtiles\n",
      "PMTiles created at indiana_pmtiles/coal_mine_mined_out_hymera_in_2014.pmtiles\n",
      "PMTiles created at indiana_pmtiles/karst_dye_pts_in.pmtiles\n",
      "PMTiles created at indiana_pmtiles/Quadrangles_250K_USGS_IN.pmtiles\n"
     ]
    },
    {
     "name": "stderr",
     "output_type": "stream",
     "text": [
      "Warning 1: The output driver does not natively support Date type for field DATA_COLLE. Misconversion can happen. -mapFieldType can be used to control field type conversion.\n"
     ]
    },
    {
     "name": "stdout",
     "output_type": "stream",
     "text": [
      "PMTiles created at indiana_pmtiles/VRP_Sites_IDEM_IN.pmtiles\n",
      "PMTiles created at indiana_pmtiles/Waterwells_iLITH_IN.pmtiles\n",
      "PMTiles created at indiana_pmtiles/SOILS_Prmfarm_Hydric_STATSGO_IN.pmtiles\n",
      "PMTiles created at indiana_pmtiles/Bridges_County_INDOT_IN.pmtiles\n",
      "PMTiles created at indiana_pmtiles/surficial_geol_mm49_in.pmtiles\n",
      "PMTiles created at indiana_pmtiles/coal_mine_active_hymera_in_2014.pmtiles\n"
     ]
    },
    {
     "name": "stderr",
     "output_type": "stream",
     "text": [
      "Warning 1: The output driver does not natively support Date type for field BNDY_DATE. Misconversion can happen. -mapFieldType can be used to control field type conversion.\n"
     ]
    },
    {
     "name": "stdout",
     "output_type": "stream",
     "text": [
      "PMTiles created at indiana_pmtiles/Landfill_Boundaries_IDEM_IN.pmtiles\n",
      "PMTiles created at indiana_pmtiles/rivers_nri_nps_in.pmtiles\n",
      "PMTiles created at indiana_pmtiles/WATERSHEDS_HUC08_2009_USDA_IN.pmtiles\n",
      "PMTiles created at indiana_pmtiles/Medical_Care_Facilities_MHMP_IN.pmtiles\n",
      "PMTiles created at indiana_pmtiles/coal_springfield_thickness_ncrds_in_2011.pmtiles\n",
      "PMTiles created at indiana_pmtiles/urban_areas_tiger00_in.pmtiles\n",
      "PMTiles created at indiana_pmtiles/Ports_NTAD_IN.pmtiles\n",
      "PMTiles created at indiana_pmtiles/School_Districts_2013_USCB_IN.pmtiles\n",
      "PMTiles created at indiana_pmtiles/Indiana_House_122GA_IED.pmtiles\n",
      "PMTiles created at indiana_pmtiles/Impaired_Streams_303d_2018_IDEM_IN.pmtiles\n",
      "PMTiles created at indiana_pmtiles/Stream_Mileage_IDNR_IN.pmtiles\n",
      "PMTiles created at indiana_pmtiles/Petroleum_Fields_IGS_IN.pmtiles\n",
      "PMTiles created at indiana_pmtiles/Quadrangles_100K_USGS_IN.pmtiles\n",
      "PMTiles created at indiana_pmtiles/Aquifers_Unconsolidated_USGS_IN.pmtiles\n",
      "PMTiles created at indiana_pmtiles/earthquake_liquefaction_in.pmtiles\n",
      "PMTiles created at indiana_pmtiles/Landsurvey_Townships_Poly_IN.pmtiles\n",
      "PMTiles created at indiana_pmtiles/SINKHOLE_INVENTORY_IN_KY_2011.pmtiles\n"
     ]
    },
    {
     "name": "stderr",
     "output_type": "stream",
     "text": [
      "Warning 1: The output driver does not natively support Date type for field DTMCOMPDAT. Misconversion can happen. -mapFieldType can be used to control field type conversion.\n"
     ]
    },
    {
     "name": "stdout",
     "output_type": "stream",
     "text": [
      "PMTiles created at indiana_pmtiles/Waterwells_IDNR_IN.pmtiles\n",
      "PMTiles created at indiana_pmtiles/WATERSHEDS_HUC12_2009_USDA_IN.pmtiles\n",
      "PMTiles created at indiana_pmtiles/Hoosier_Natl_Forest_Mgmt_in.pmtiles\n",
      "PMTiles created at indiana_pmtiles/Landsat_Imagery_Index_IN.pmtiles\n",
      "PMTiles created at indiana_pmtiles/Historic_Places_National_Register_IDNR_IN.pmtiles\n",
      "PMTiles created at indiana_pmtiles/Aquifer_Systems_Unconsolidated_IDNR_IN.pmtiles\n",
      "PMTiles created at indiana_pmtiles/Benchmarks_NOAA_IN.pmtiles\n",
      "PMTiles created at indiana_pmtiles/Museums_IGS_IN.pmtiles\n",
      "PMTiles created at indiana_pmtiles/Incorporated_Areas_INDOT_IN.pmtiles\n",
      "PMTiles created at indiana_pmtiles/Schools_Higher_Education_ICHE_IN.pmtiles\n",
      "PMTiles created at indiana_pmtiles/Airports_Public_INDOT_IN.pmtiles\n",
      "PMTiles created at indiana_pmtiles/Chilren_Poverty_2011_USCB_IN.pmtiles\n",
      "PMTiles created at indiana_pmtiles/Aquifers_Bedrock_USGS_IN.pmtiles\n",
      "PMTiles created at indiana_pmtiles/coal_hymera_elevation_in_2014.pmtiles\n",
      "PMTiles created at indiana_pmtiles/clay_ilith_pts_in.pmtiles\n"
     ]
    },
    {
     "name": "stderr",
     "output_type": "stream",
     "text": [
      "Warning 1: The output driver does not natively support Date type for field DATA_COLLE. Misconversion can happen. -mapFieldType can be used to control field type conversion.\n"
     ]
    },
    {
     "name": "stdout",
     "output_type": "stream",
     "text": [
      "PMTiles created at indiana_pmtiles/Waste_Disposal_Storage_Handling_IDEM_IN.pmtiles\n",
      "PMTiles created at indiana_pmtiles/Census_MCD_Ancestry_Ethnicity_IN.pmtiles\n",
      "PMTiles created at indiana_pmtiles/Libraries_ISL_IN.pmtiles\n",
      "PMTiles created at indiana_pmtiles/Managed_Lands_IDNR_IN.pmtiles\n"
     ]
    },
    {
     "name": "stderr",
     "output_type": "stream",
     "text": [
      "Warning 1: The output driver does not natively support Date type for field FDate. Misconversion can happen. -mapFieldType can be used to control field type conversion.\n"
     ]
    },
    {
     "name": "stdout",
     "output_type": "stream",
     "text": [
      "PMTiles created at indiana_pmtiles/Hydrography_LocalRes_Flowline_Classified_NHD_IN.pmtiles\n"
     ]
    },
    {
     "name": "stderr",
     "output_type": "stream",
     "text": [
      "Warning 1: The output driver does not natively support Date type for field FDate. Misconversion can happen. -mapFieldType can be used to control field type conversion.\n"
     ]
    },
    {
     "name": "stdout",
     "output_type": "stream",
     "text": [
      "PMTiles created at indiana_pmtiles/Hydrography_LocalRes_WaterbodyDiscrete_NHD_IN.pmtiles\n",
      "PMTiles created at indiana_pmtiles/sand_ilith_pts_in.pmtiles\n",
      "PMTiles created at indiana_pmtiles/coal_danville_thickness_ncrds_in_2011.pmtiles\n",
      "PMTiles created at indiana_pmtiles/Patoka_River_NWR_USFWS_IN.pmtiles\n",
      "PMTiles created at indiana_pmtiles/Bedrock_Geology_RGM_250K_IN.pmtiles\n",
      "PMTiles created at indiana_pmtiles/soils_statsgo_shrink_swell_in.pmtiles\n",
      "PMTiles created at indiana_pmtiles/trees_big2005_in.pmtiles\n"
     ]
    },
    {
     "name": "stderr",
     "output_type": "stream",
     "text": [
      "Warning 1: The output driver does not natively support Date type for field DATEMEAS. Misconversion can happen. -mapFieldType can be used to control field type conversion.\n"
     ]
    },
    {
     "name": "stdout",
     "output_type": "stream",
     "text": [
      "PMTiles created at indiana_pmtiles/hospitals_hazus_in.pmtiles\n",
      "PMTiles created at indiana_pmtiles/Naloxone_Providers_ISDH_IN.pmtiles\n",
      "PMTiles created at indiana_pmtiles/HOOSIER_NATL_FOREST_OWNERSHIP_IN.pmtiles\n",
      "PMTiles created at indiana_pmtiles/Gamma_Ray_Logs_IGS_IN.pmtiles\n",
      "PMTiles created at indiana_pmtiles/rivers_outstanding_nrc_in.pmtiles\n",
      "PMTiles created at indiana_pmtiles/Census_MCD_Ancestry_Ethnicity_IN.pmtiles\n",
      "PMTiles created at indiana_pmtiles/Rail_System_Active_Abandoned_INDOT_IN.pmtiles\n",
      "PMTiles created at indiana_pmtiles/natural_features_usgs_in.pmtiles\n",
      "PMTiles created at indiana_pmtiles/Census_Blockgroups_TIGER00_IN.pmtiles\n",
      "PMTiles created at indiana_pmtiles/Census_Blocks_TIGER00_IN.pmtiles\n",
      "PMTiles created at indiana_pmtiles/coal_colchester_thickness_in_2014.pmtiles\n"
     ]
    },
    {
     "name": "stderr",
     "output_type": "stream",
     "text": [
      "Warning 1: The output driver does not natively support Date type for field PERMIT_ISS. Misconversion can happen. -mapFieldType can be used to control field type conversion.\n",
      "Warning 1: The output driver does not natively support Date type for field PERMIT_EFF. Misconversion can happen. -mapFieldType can be used to control field type conversion.\n",
      "Warning 1: The output driver does not natively support Date type for field PERMIT_EXP. Misconversion can happen. -mapFieldType can be used to control field type conversion.\n",
      "ERROR 1: Point outside of projection domain\n",
      "ERROR 1: Point outside of projection domain\n",
      "ERROR 1: Point outside of projection domain\n",
      "ERROR 1: Point outside of projection domain\n",
      "ERROR 1: Point outside of projection domain\n",
      "ERROR 1: Point outside of projection domain\n",
      "ERROR 1: Point outside of projection domain\n",
      "ERROR 1: Point outside of projection domain\n",
      "ERROR 1: Point outside of projection domain\n",
      "ERROR 1: Point outside of projection domain\n",
      "ERROR 1: Point outside of projection domain\n",
      "ERROR 1: Point outside of projection domain\n",
      "ERROR 1: Point outside of projection domain\n",
      "ERROR 1: Point outside of projection domain\n",
      "ERROR 1: Point outside of projection domain\n",
      "ERROR 1: Point outside of projection domain\n",
      "ERROR 1: Point outside of projection domain\n",
      "ERROR 1: Point outside of projection domain\n",
      "ERROR 1: Point outside of projection domain\n",
      "ERROR 1: Reprojection failed, err = 2050, further errors will be suppressed on the transform object.\n",
      "ERROR 1: Invalid center\n"
     ]
    },
    {
     "name": "stdout",
     "output_type": "stream",
     "text": [
      "Error processing indiana/Waste_Water_NPDES_Facilities/NPDES_Facility_IDEM_IN.shp: Command '['ogr2ogr', '-dsco', 'MINZOOM=10', '-dsco', 'MAXZOOM=10', '-f', 'PMTiles', 'indiana_pmtiles/NPDES_Facility_IDEM_IN.pmtiles', 'indiana/Waste_Water_NPDES_Facilities/NPDES_Facility_IDEM_IN.shp']' returned non-zero exit status 1.\n",
      "PMTiles created at indiana_pmtiles/PRE-WISCONSIN_GLACIAL_LIMIT_IN.pmtiles\n",
      "PMTiles created at indiana_pmtiles/Hospitals_Clinics_ISDH_IN.pmtiles\n",
      "PMTiles created at indiana_pmtiles/canals_historic_routes_in.pmtiles\n",
      "PMTiles created at indiana_pmtiles/coal_mine_active_danville_in_2010.pmtiles\n",
      "PMTiles created at indiana_pmtiles/Census_Tracts_TIGER00_IN.pmtiles\n",
      "PMTiles created at indiana_pmtiles/Dams_IDNR_IN.pmtiles\n",
      "PMTiles created at indiana_pmtiles/Impaired_Waters_TMDL_2016_IDEM_IN.pmtiles\n",
      "PMTiles created at indiana_pmtiles/Quadrangles_24K_USGS_IN.pmtiles\n",
      "PMTiles created at indiana_pmtiles/Industrial_Minerals_Active_2016_IN.pmtiles\n",
      "PMTiles created at indiana_pmtiles/air_quality_ntad_in.pmtiles\n",
      "PMTiles created at indiana_pmtiles/Children_Poverty_USCB_IN.pmtiles\n",
      "PMTiles created at indiana_pmtiles/Natural_Regions_IDNR_IN.pmtiles\n"
     ]
    },
    {
     "name": "stderr",
     "output_type": "stream",
     "text": [
      "Warning 1: The output driver does not natively support Date type for field FDate. Misconversion can happen. -mapFieldType can be used to control field type conversion.\n"
     ]
    },
    {
     "name": "stdout",
     "output_type": "stream",
     "text": [
      "PMTiles created at indiana_pmtiles/Hydrography_HighRes_WaterbodyDiscrete_NHD_USGS.pmtiles\n",
      "PMTiles created at indiana_pmtiles/railroad_100k_ntad_in.pmtiles\n",
      "PMTiles created at indiana_pmtiles/Voting_Districts_USCB_IN.pmtiles\n",
      "PMTiles created at indiana_pmtiles/power_hazus_in.pmtiles\n",
      "PMTiles created at indiana_pmtiles/emergency_hazus_in.pmtiles\n",
      "PMTiles created at indiana_pmtiles/Water_Balance_Network_IN.pmtiles\n"
     ]
    },
    {
     "name": "stderr",
     "output_type": "stream",
     "text": [
      "ERROR 1: Point outside of projection domain\n",
      "ERROR 1: Invalid center\n"
     ]
    },
    {
     "name": "stdout",
     "output_type": "stream",
     "text": [
      "Error processing indiana/Waste_Electronic_Recycling_Facilities/Waste_Electronic_Recycling_Facilities_IDEM_IN.shp: Command '['ogr2ogr', '-dsco', 'MINZOOM=10', '-dsco', 'MAXZOOM=10', '-f', 'PMTiles', 'indiana_pmtiles/Waste_Electronic_Recycling_Facilities_IDEM_IN.pmtiles', 'indiana/Waste_Electronic_Recycling_Facilities/Waste_Electronic_Recycling_Facilities_IDEM_IN.shp']' returned non-zero exit status 1.\n",
      "PMTiles created at indiana_pmtiles/bacteria_monitoring_epa_in.pmtiles\n",
      "PMTiles created at indiana_pmtiles/places_points_usgs_in.pmtiles\n",
      "PMTiles created at indiana_pmtiles/coal_mine_mined_out_colchester_in_2014.pmtiles\n",
      "PMTiles created at indiana_pmtiles/Watersheds_HUC11_USGS_IN.pmtiles\n",
      "PMTiles created at indiana_pmtiles/Bridges_System1_INDOT_IN.pmtiles\n",
      "PMTiles created at indiana_pmtiles/SOILS_STATSGO_IN.pmtiles\n"
     ]
    },
    {
     "name": "stderr",
     "output_type": "stream",
     "text": [
      "Warning 1: The output driver does not natively support Date type for field CREATION_D. Misconversion can happen. -mapFieldType can be used to control field type conversion.\n"
     ]
    },
    {
     "name": "stdout",
     "output_type": "stream",
     "text": [
      "PMTiles created at indiana_pmtiles/Electric_Service_Territories_IURC_IN.pmtiles\n",
      "PMTiles created at indiana_pmtiles/Census_MCD_Ancestry_Ethnicity_IN.pmtiles\n",
      "PMTiles created at indiana_pmtiles/Wetlands_NWI_USFWS_IN.pmtiles\n",
      "PMTiles created at indiana_pmtiles/Wetlands_ProjectMetadata_NWI_USFWS_IN.pmtiles\n",
      "PMTiles created at indiana_pmtiles/physiography_sr61_in.pmtiles\n"
     ]
    },
    {
     "name": "stderr",
     "output_type": "stream",
     "text": [
      "Warning 1: The output driver does not natively support Date type for field FDate. Misconversion can happen. -mapFieldType can be used to control field type conversion.\n"
     ]
    },
    {
     "name": "stdout",
     "output_type": "stream",
     "text": [
      "PMTiles created at indiana_pmtiles/Hydrography_HighRes_WaterbodyLinear_NHD_USGS.pmtiles\n",
      "PMTiles created at indiana_pmtiles/Care_Long_Term_Facilities_ISDH_IN.pmtiles\n",
      "PMTiles created at indiana_pmtiles/Census_Historical_MCD_IN.pmtiles\n",
      "PMTiles created at indiana_pmtiles/Coal_Mine_Surface_DNR_IN.pmtiles\n",
      "PMTiles created at indiana_pmtiles/Census_Blockgroups_TIGER2011_IN.pmtiles\n",
      "PMTiles created at indiana_pmtiles/Census_Blockgroups_TIGER00_IN.pmtiles\n",
      "PMTiles created at indiana_pmtiles/Industrial_Parks_INDOT_IN.pmtiles\n",
      "PMTiles created at indiana_pmtiles/Rail_System_INDOT_IN.pmtiles\n",
      "PMTiles created at indiana_pmtiles/Watersheds_HUC06_USGS_IN.pmtiles\n",
      "PMTiles created at indiana_pmtiles/karst_dye_lines_in.pmtiles\n",
      "PMTiles created at indiana_pmtiles/hydrogeol_settings_in.pmtiles\n",
      "PMTiles created at indiana_pmtiles/religious_centers_usgs_bla_in.pmtiles\n"
     ]
    },
    {
     "name": "stderr",
     "output_type": "stream",
     "text": [
      "Warning 1: The output driver does not natively support Date type for field APP_RECEIV. Misconversion can happen. -mapFieldType can be used to control field type conversion.\n",
      "Warning 1: The output driver does not natively support Date type for field APPROVAL_D. Misconversion can happen. -mapFieldType can be used to control field type conversion.\n",
      "Warning 1: The output driver does not natively support Date type for field EFFECTIVE_. Misconversion can happen. -mapFieldType can be used to control field type conversion.\n",
      "Warning 1: The output driver does not natively support Date type for field NPDES_ISSU. Misconversion can happen. -mapFieldType can be used to control field type conversion.\n",
      "Warning 1: The output driver does not natively support Date type for field MMP_APP_RE. Misconversion can happen. -mapFieldType can be used to control field type conversion.\n",
      "Warning 1: The output driver does not natively support Date type for field MMP_ISSUE_. Misconversion can happen. -mapFieldType can be used to control field type conversion.\n",
      "Warning 1: The output driver does not natively support Date type for field NOTICE_DUE. Misconversion can happen. -mapFieldType can be used to control field type conversion.\n",
      "Warning 1: The output driver does not natively support Date type for field NOTICE_REC. Misconversion can happen. -mapFieldType can be used to control field type conversion.\n",
      "Warning 1: The output driver does not natively support Date type for field AFFIDAVIT_. Misconversion can happen. -mapFieldType can be used to control field type conversion.\n",
      "Warning 1: The output driver does not natively support Date type for field AFFIDAVIT1. Misconversion can happen. -mapFieldType can be used to control field type conversion.\n"
     ]
    },
    {
     "name": "stdout",
     "output_type": "stream",
     "text": [
      "PMTiles created at indiana_pmtiles/Confined_Feeding_Operations_IDEM_IN.pmtiles\n",
      "PMTiles created at indiana_pmtiles/unconsol_th_mm37_in.pmtiles\n",
      "PMTiles created at indiana_pmtiles/Watersheds_HUC08_Catalog_Units_USGS_IN.pmtiles\n"
     ]
    },
    {
     "name": "stderr",
     "output_type": "stream",
     "text": [
      "ERROR 1: Point outside of projection domain\n",
      "ERROR 1: Point outside of projection domain\n",
      "ERROR 1: Point outside of projection domain\n",
      "ERROR 1: Point outside of projection domain\n",
      "ERROR 1: Point outside of projection domain\n",
      "ERROR 1: Invalid center\n"
     ]
    },
    {
     "name": "stdout",
     "output_type": "stream",
     "text": [
      "Error processing indiana/Remediation_Brownfields/Brownfields_IDEM_IN.shp: Command '['ogr2ogr', '-dsco', 'MINZOOM=10', '-dsco', 'MAXZOOM=10', '-f', 'PMTiles', 'indiana_pmtiles/Brownfields_IDEM_IN.pmtiles', 'indiana/Remediation_Brownfields/Brownfields_IDEM_IN.shp']' returned non-zero exit status 1.\n",
      "PMTiles created at indiana_pmtiles/Coal_NCRDS_2014_IN.pmtiles\n",
      "PMTiles created at indiana_pmtiles/Weather_Station_Network_ASOS_IN.pmtiles\n",
      "PMTiles created at indiana_pmtiles/seismic_data_in.pmtiles\n"
     ]
    },
    {
     "name": "stderr",
     "output_type": "stream",
     "text": [
      "Warning 1: The output driver does not natively support Date type for field DATE_REMOV. Misconversion can happen. -mapFieldType can be used to control field type conversion.\n"
     ]
    },
    {
     "name": "stdout",
     "output_type": "stream",
     "text": [
      "PMTiles created at indiana_pmtiles/Dams_Low_Head_IDNR_IN.pmtiles\n",
      "PMTiles created at indiana_pmtiles/coal_colchester_depth_in_2014.pmtiles\n",
      "PMTiles created at indiana_pmtiles/Industrial_Minerals_Points_IN.pmtiles\n",
      "PMTiles created at indiana_pmtiles/coal_mine_mined_out_danville_in_2010.pmtiles\n",
      "PMTiles created at indiana_pmtiles/BMV_License_Branches_IN.pmtiles\n",
      "PMTiles created at indiana_pmtiles/coal_seelyville_thickness_ncrds_in_2011.pmtiles\n",
      "PMTiles created at indiana_pmtiles/coal_mine_active_springfield_in_2010.pmtiles\n",
      "PMTiles created at indiana_pmtiles/Earthquake_Liquefaction_Potential_MM81_IN.pmtiles\n"
     ]
    },
    {
     "name": "stderr",
     "output_type": "stream",
     "text": [
      "ERROR 1: Point outside of projection domain\n",
      "ERROR 1: Point outside of projection domain\n",
      "ERROR 1: Point outside of projection domain\n",
      "ERROR 1: Point outside of projection domain\n",
      "ERROR 1: Point outside of projection domain\n",
      "ERROR 1: Point outside of projection domain\n",
      "ERROR 1: Point outside of projection domain\n",
      "ERROR 1: Point outside of projection domain\n",
      "ERROR 1: Point outside of projection domain\n",
      "ERROR 1: Point outside of projection domain\n",
      "ERROR 1: Point outside of projection domain\n",
      "ERROR 1: Point outside of projection domain\n",
      "ERROR 1: Point outside of projection domain\n",
      "ERROR 1: Point outside of projection domain\n",
      "ERROR 1: Point outside of projection domain\n",
      "ERROR 1: Point outside of projection domain\n",
      "ERROR 1: Point outside of projection domain\n",
      "ERROR 1: Point outside of projection domain\n",
      "ERROR 1: Invalid center\n"
     ]
    },
    {
     "name": "stdout",
     "output_type": "stream",
     "text": [
      "Error processing indiana/Schools_IDOE/Schools_Polis_IDOE_IN.shp: Command '['ogr2ogr', '-dsco', 'MINZOOM=10', '-dsco', 'MAXZOOM=10', '-f', 'PMTiles', 'indiana_pmtiles/Schools_Polis_IDOE_IN.pmtiles', 'indiana/Schools_IDOE/Schools_Polis_IDOE_IN.shp']' returned non-zero exit status 1.\n",
      "PMTiles created at indiana_pmtiles/Silurian_Reef_Polygons_MM54_IN.pmtiles\n",
      "PMTiles created at indiana_pmtiles/karst_cave_density_in.pmtiles\n",
      "PMTiles created at indiana_pmtiles/coal_springfield_depth_ncrds_in_2011.pmtiles\n"
     ]
    },
    {
     "name": "stderr",
     "output_type": "stream",
     "text": [
      "Warning 1: The output driver does not natively support Date type for field DATE_IC_RE. Misconversion can happen. -mapFieldType can be used to control field type conversion.\n",
      "Warning 1: The output driver does not natively support Date type for field DATE_CREAT. Misconversion can happen. -mapFieldType can be used to control field type conversion.\n",
      "Warning 1: The output driver does not natively support Date type for field ATTRIBUTE_. Misconversion can happen. -mapFieldType can be used to control field type conversion.\n"
     ]
    },
    {
     "name": "stdout",
     "output_type": "stream",
     "text": [
      "PMTiles created at indiana_pmtiles/Institutional_Controls_IDEM_IN.pmtiles\n"
     ]
    },
    {
     "name": "stderr",
     "output_type": "stream",
     "text": [
      "Warning 1: The output driver does not natively support Date type for field DATE_LATES. Misconversion can happen. -mapFieldType can be used to control field type conversion.\n"
     ]
    },
    {
     "name": "stdout",
     "output_type": "stream",
     "text": [
      "PMTiles created at indiana_pmtiles/Traffic_Counts_INDOTMODEL_IN.pmtiles\n",
      "PMTiles created at indiana_pmtiles/Census_MCD_Ancestry_Ethnicity_IN.pmtiles\n"
     ]
    },
    {
     "name": "stderr",
     "output_type": "stream",
     "text": [
      "ERROR 1: Point outside of projection domain\n",
      "ERROR 1: Point outside of projection domain\n",
      "ERROR 1: Terminating translation prematurely after failed\n",
      "translation of layer Historic_Structures_Sites_IDNR_IN (use -skipfailures to skip errors)\n",
      "ERROR 1: Invalid center\n"
     ]
    },
    {
     "name": "stdout",
     "output_type": "stream",
     "text": [
      "Error processing indiana/Facilities_Historic_Structures_Sites_IDNR/Historic_Structures_Sites_IDNR_IN.shp: Command '['ogr2ogr', '-dsco', 'MINZOOM=10', '-dsco', 'MAXZOOM=10', '-f', 'PMTiles', 'indiana_pmtiles/Historic_Structures_Sites_IDNR_IN.pmtiles', 'indiana/Facilities_Historic_Structures_Sites_IDNR/Historic_Structures_Sites_IDNR_IN.shp']' returned non-zero exit status 1.\n"
     ]
    },
    {
     "name": "stderr",
     "output_type": "stream",
     "text": [
      "Warning 1: The output driver does not natively support Date type for field DATA_COLLE. Misconversion can happen. -mapFieldType can be used to control field type conversion.\n"
     ]
    },
    {
     "name": "stdout",
     "output_type": "stream",
     "text": [
      "PMTiles created at indiana_pmtiles/Cleanup_Sites_IDEM_IN.pmtiles\n",
      "PMTiles created at indiana_pmtiles/Cultivated_Areas_USDA_IN.pmtiles\n",
      "PMTiles created at indiana_pmtiles/Children_Poverty_2013_USCB_IN.pmtiles\n",
      "PMTiles created at indiana_pmtiles/karst_mm65_in.pmtiles\n",
      "PMTiles created at indiana_pmtiles/Census_MCD_Ancestry_Ethnicity_IN.pmtiles\n",
      "PMTiles created at indiana_pmtiles/School_Districts_USCB_IN.pmtiles\n"
     ]
    },
    {
     "name": "stderr",
     "output_type": "stream",
     "text": [
      "Warning 1: The output driver does not natively support Date type for field RCH_DATE. Misconversion can happen. -mapFieldType can be used to control field type conversion.\n"
     ]
    },
    {
     "name": "stdout",
     "output_type": "stream",
     "text": [
      "PMTiles created at indiana_pmtiles/Impaired_Lakes_303d_2018_IDEM_IN.pmtiles\n",
      "PMTiles created at indiana_pmtiles/Census_Blockgroups_TIGER00_IN.pmtiles\n",
      "PMTiles created at indiana_pmtiles/Streamflow_Gauging_Stations_USGS_IN.pmtiles\n",
      "PMTiles created at indiana_pmtiles/WISCONSIN_GLACIAL_LIMIT_IN.pmtiles\n",
      "PMTiles created at indiana_pmtiles/Roads_2015_INDOT_IN.pmtiles\n",
      "PMTiles created at indiana_pmtiles/Census_Tracts_TIGER2011_IN.pmtiles\n",
      "PMTiles created at indiana_pmtiles/Congress_Districts_117th_USCB_IN.pmtiles\n",
      "PMTiles created at indiana_pmtiles/Seismic_Shaking_Predicted_Response_RP35_IN.pmtiles\n",
      "PMTiles created at indiana_pmtiles/schools_hazus_in.pmtiles\n",
      "PMTiles created at indiana_pmtiles/Minor_Civil_Divisions_IN.pmtiles\n",
      "PMTiles created at indiana_pmtiles/Land_Cover_Presettlement_IDNR_IN.pmtiles\n",
      "PMTiles created at indiana_pmtiles/School_Facilities_MHMP_IN.pmtiles\n",
      "PMTiles created at indiana_pmtiles/coal_springfield_elevation_ncrds_in_2011.pmtiles\n",
      "PMTiles created at indiana_pmtiles/Census_County_TIGER00_IN.pmtiles\n",
      "PMTiles created at indiana_pmtiles/water_quality_observations_epa_in.pmtiles\n"
     ]
    },
    {
     "name": "stderr",
     "output_type": "stream",
     "text": [
      "Warning 1: The output driver does not natively support Date type for field DATA_COLLE. Misconversion can happen. -mapFieldType can be used to control field type conversion.\n"
     ]
    },
    {
     "name": "stdout",
     "output_type": "stream",
     "text": [
      "PMTiles created at indiana_pmtiles/UST_IDEM_IN.pmtiles\n",
      "PMTiles created at indiana_pmtiles/Aquifer_Systems_Bedrock_IDNR_IN.pmtiles\n",
      "PMTiles created at indiana_pmtiles/structural_features_in.pmtiles\n",
      "PMTiles created at indiana_pmtiles/Children_Poverty_2012_USCB_IN.pmtiles\n",
      "PMTiles created at indiana_pmtiles/traffic_zones_tiger00_in.pmtiles\n",
      "PMTiles created at indiana_pmtiles/Functional_Class_INDOTMODEL_IN.pmtiles\n",
      "PMTiles created at indiana_pmtiles/Impaired_Streams_TMDL_2018_IDEM_IN.pmtiles\n"
     ]
    },
    {
     "name": "stderr",
     "output_type": "stream",
     "text": [
      "Warning 1: The output driver does not natively support Date type for field INSP_DATE. Misconversion can happen. -mapFieldType can be used to control field type conversion.\n",
      "Warning 1: The output driver does not natively support Date type for field SUPP_DATE. Misconversion can happen. -mapFieldType can be used to control field type conversion.\n",
      "Warning 1: The output driver does not natively support Date type for field SOURC_DATE. Misconversion can happen. -mapFieldType can be used to control field type conversion.\n"
     ]
    },
    {
     "name": "stdout",
     "output_type": "stream",
     "text": [
      "PMTiles created at indiana_pmtiles/DAMS_1996_EPA_IN.pmtiles\n",
      "PMTiles created at indiana_pmtiles/Observation_Wells_USGS_IN.pmtiles\n"
     ]
    },
    {
     "name": "stderr",
     "output_type": "stream",
     "text": [
      "Warning 1: The output driver does not natively support Date type for field EPA_Repo_1. Misconversion can happen. -mapFieldType can be used to control field type conversion.\n"
     ]
    },
    {
     "name": "stdout",
     "output_type": "stream",
     "text": [
      "PMTiles created at indiana_pmtiles/Coal_Combustion_Waste_Impoundments_Inspected_IDEM_IN.pmtiles\n",
      "PMTiles created at indiana_pmtiles/Bedrock_Geol_MM48_IN.pmtiles\n",
      "PMTiles created at indiana_pmtiles/Cemetery_Areas_IDNR_IN.pmtiles\n",
      "PMTiles created at indiana_pmtiles/Ethanol_Production_Facilities_IN.pmtiles\n",
      "PMTiles created at indiana_pmtiles/Interstates_INDOT_IN.pmtiles\n"
     ]
    },
    {
     "name": "stderr",
     "output_type": "stream",
     "text": [
      "Warning 1: The output driver does not natively support Date type for field DATA_COLLE. Misconversion can happen. -mapFieldType can be used to control field type conversion.\n"
     ]
    },
    {
     "name": "stdout",
     "output_type": "stream",
     "text": [
      "PMTiles created at indiana_pmtiles/Waste_Septage_Sites_IDEM_IN.pmtiles\n",
      "PMTiles created at indiana_pmtiles/Census_Blckgrps_TIGER00_PopDens_IN.pmtiles\n"
     ]
    },
    {
     "name": "stderr",
     "output_type": "stream",
     "text": [
      "Warning 1: The output driver does not natively support Date type for field FDate. Misconversion can happen. -mapFieldType can be used to control field type conversion.\n"
     ]
    },
    {
     "name": "stdout",
     "output_type": "stream",
     "text": [
      "PMTiles created at indiana_pmtiles/Hydrography_LocalRes_WaterbodyLinear_NHD_IN.pmtiles\n",
      "PMTiles created at indiana_pmtiles/coal_colchester_elevation_in_2014.pmtiles\n",
      "PMTiles created at indiana_pmtiles/Rail_Crossings_INDOT_IN.pmtiles\n",
      "PMTiles created at indiana_pmtiles/Unconsolidated_Thickness_250k_IGS_IN.pmtiles\n",
      "PMTiles created at indiana_pmtiles/Silurian_Reef_Points_MM54_IN.pmtiles\n"
     ]
    },
    {
     "name": "stderr",
     "output_type": "stream",
     "text": [
      "Warning 1: The output driver does not natively support Date type for field FDate. Misconversion can happen. -mapFieldType can be used to control field type conversion.\n"
     ]
    },
    {
     "name": "stdout",
     "output_type": "stream",
     "text": [
      "PMTiles created at indiana_pmtiles/Hydrography_HighRes_FlowLine_NHD_USGS.pmtiles\n",
      "PMTiles created at indiana_pmtiles/National_Grid_1000M_IN.pmtiles\n",
      "PMTiles created at indiana_pmtiles/Coal_Mine_Entries_DNR_IN.pmtiles\n"
     ]
    },
    {
     "name": "stderr",
     "output_type": "stream",
     "text": [
      "Warning 1: The output driver does not natively support Date type for field DATA_COLLE. Misconversion can happen. -mapFieldType can be used to control field type conversion.\n"
     ]
    },
    {
     "name": "stdout",
     "output_type": "stream",
     "text": [
      "PMTiles created at indiana_pmtiles/Waste_Tire_Sites_IDEM_IN.pmtiles\n"
     ]
    },
    {
     "name": "stderr",
     "output_type": "stream",
     "text": [
      "Warning 1: The output driver does not natively support Date type for field CONTDATE. Misconversion can happen. -mapFieldType can be used to control field type conversion.\n",
      "Warning 1: The output driver does not natively support Date type for field GEODATE. Misconversion can happen. -mapFieldType can be used to control field type conversion.\n"
     ]
    },
    {
     "name": "stdout",
     "output_type": "stream",
     "text": [
      "PMTiles created at indiana_pmtiles/EMS_Stations_HSIP_IDHS_IN.pmtiles\n",
      "PMTiles created at indiana_pmtiles/Fire_Stations_MHMP_IN.pmtiles\n",
      "PMTiles created at indiana_pmtiles/pipelines_igs_in.pmtiles\n"
     ]
    },
    {
     "name": "stderr",
     "output_type": "stream",
     "text": [
      "Warning 1: The output driver does not natively support Date type for field t_img_date. Misconversion can happen. -mapFieldType can be used to control field type conversion.\n"
     ]
    },
    {
     "name": "stdout",
     "output_type": "stream",
     "text": [
      "PMTiles created at indiana_pmtiles/Wind_Turbines_USGS_IN.pmtiles\n",
      "PMTiles created at indiana_pmtiles/coal_hymera_thickness_in_2014.pmtiles\n",
      "PMTiles created at indiana_pmtiles/water_quality_statistics_epa_in.pmtiles\n",
      "PMTiles created at indiana_pmtiles/canals_historic_structures_in.pmtiles\n",
      "PMTiles created at indiana_pmtiles/coal_danville_elevation_ncrds_in_2011.pmtiles\n",
      "PMTiles created at indiana_pmtiles/Historic_Districts_National_Register_IDNR_IN.pmtiles\n"
     ]
    },
    {
     "name": "stderr",
     "output_type": "stream",
     "text": [
      "Warning 1: The output driver does not natively support Date type for field FDate. Misconversion can happen. -mapFieldType can be used to control field type conversion.\n"
     ]
    },
    {
     "name": "stdout",
     "output_type": "stream",
     "text": [
      "PMTiles created at indiana_pmtiles/Hydrography_HighRes_Point_NHD_USGS.pmtiles\n",
      "PMTiles created at indiana_pmtiles/karst_springs_mm65_in.pmtiles\n",
      "PMTiles created at indiana_pmtiles/Bridges_Historic_IDNR_IN.pmtiles\n"
     ]
    },
    {
     "name": "stderr",
     "output_type": "stream",
     "text": [
      "Warning 1: The output driver does not natively support Date type for field LIMIT_SE_2. Misconversion can happen. -mapFieldType can be used to control field type conversion.\n",
      "ERROR 1: Point outside of projection domain\n",
      "ERROR 1: Point outside of projection domain\n",
      "ERROR 1: Point outside of projection domain\n",
      "ERROR 1: Point outside of projection domain\n",
      "ERROR 1: Point outside of projection domain\n",
      "ERROR 1: Point outside of projection domain\n",
      "ERROR 1: Point outside of projection domain\n",
      "ERROR 1: Point outside of projection domain\n",
      "ERROR 1: Point outside of projection domain\n",
      "ERROR 1: Point outside of projection domain\n",
      "ERROR 1: Point outside of projection domain\n",
      "ERROR 1: Point outside of projection domain\n",
      "ERROR 1: Point outside of projection domain\n",
      "ERROR 1: Point outside of projection domain\n",
      "ERROR 1: Point outside of projection domain\n",
      "ERROR 1: Point outside of projection domain\n",
      "ERROR 1: Point outside of projection domain\n",
      "ERROR 1: Point outside of projection domain\n",
      "ERROR 1: Point outside of projection domain\n",
      "ERROR 1: Reprojection failed, err = 2050, further errors will be suppressed on the transform object.\n",
      "ERROR 1: Invalid center\n"
     ]
    },
    {
     "name": "stdout",
     "output_type": "stream",
     "text": [
      "Error processing indiana/Waste_Water_NPDES_Pipe_Locations/NPDES_Pipe_IDEM_IN.shp: Command '['ogr2ogr', '-dsco', 'MINZOOM=10', '-dsco', 'MAXZOOM=10', '-f', 'PMTiles', 'indiana_pmtiles/NPDES_Pipe_IDEM_IN.pmtiles', 'indiana/Waste_Water_NPDES_Pipe_Locations/NPDES_Pipe_IDEM_IN.shp']' returned non-zero exit status 1.\n",
      "PMTiles created at indiana_pmtiles/Ecoregions_USGS_IN.pmtiles\n",
      "PMTiles created at indiana_pmtiles/Congress_Districts_111th_USCB_IN.pmtiles\n",
      "PMTiles created at indiana_pmtiles/National_Natural_Landmarks_IN.pmtiles\n",
      "PMTiles created at indiana_pmtiles/Indiana_Senate_122GA_IED.pmtiles\n",
      "PMTiles created at indiana_pmtiles/Census_MCD_PopChange_IN.pmtiles\n",
      "PMTiles created at indiana_pmtiles/Bedrock_Topography_MM36_IN.pmtiles\n",
      "PMTiles created at indiana_pmtiles/coal_seelyville_depth_ncrds_in_2011.pmtiles\n",
      "PMTiles created at indiana_pmtiles/Weather_Stations_NCDC_IN.pmtiles\n",
      "PMTiles created at indiana_pmtiles/Police_Stations_MHMP_IN.pmtiles\n",
      "PMTiles created at indiana_pmtiles/Watersheds_HUC14_Subwatersheds_USGS_IN.pmtiles\n",
      "PMTiles created at indiana_pmtiles/Census_Blocks_TIGER2011_IN.pmtiles\n"
     ]
    },
    {
     "name": "stderr",
     "output_type": "stream",
     "text": [
      "Warning 1: The output driver does not natively support Date type for field CONTDATE. Misconversion can happen. -mapFieldType can be used to control field type conversion.\n",
      "Warning 1: The output driver does not natively support Date type for field GEODATE. Misconversion can happen. -mapFieldType can be used to control field type conversion.\n"
     ]
    },
    {
     "name": "stdout",
     "output_type": "stream",
     "text": [
      "PMTiles created at indiana_pmtiles/Hospitals_HSIP_IDHS_IN.pmtiles\n",
      "PMTiles created at indiana_pmtiles/Recreational_Facilities_IDNR_IN.pmtiles\n",
      "PMTiles created at indiana_pmtiles/ZCTA_TIGER05_IN.pmtiles\n"
     ]
    },
    {
     "name": "stderr",
     "output_type": "stream",
     "text": [
      "Warning 1: The output driver does not natively support Date type for field DATA_COLLE. Misconversion can happen. -mapFieldType can be used to control field type conversion.\n"
     ]
    },
    {
     "name": "stdout",
     "output_type": "stream",
     "text": [
      "PMTiles created at indiana_pmtiles/Superfund_IDEM_IN.pmtiles\n",
      "PMTiles created at indiana_pmtiles/stream_features_usgs_in.pmtiles\n",
      "PMTiles created at indiana_pmtiles/Landsurvey_State_Poly_IN.pmtiles\n",
      "PMTiles created at indiana_pmtiles/lake_shore_features_usgs_in.pmtiles\n",
      "PMTiles created at indiana_pmtiles/Libraries_Academic_Other_ISL_IN.pmtiles\n",
      "PMTiles created at indiana_pmtiles/Trails_IDNR_IN.pmtiles\n",
      "PMTiles created at indiana_pmtiles/Intermodal_Terminal_NTAD_IN.pmtiles\n",
      "PMTiles created at indiana_pmtiles/coal_danville_depth_ncrds_in_2011.pmtiles\n",
      "PMTiles created at indiana_pmtiles/Benchmarks_CORS_NOAA_IN.pmtiles\n",
      "PMTiles created at indiana_pmtiles/sediment_inventory_epa_in.pmtiles\n",
      "PMTiles created at indiana_pmtiles/Landsurvey_Sections_Poly_IN.pmtiles\n",
      "PMTiles created at indiana_pmtiles/Quarries_Abandoned_IN.pmtiles\n",
      "PMTiles created at indiana_pmtiles/Earthquake_Epicenters_IN.pmtiles\n",
      "PMTiles created at indiana_pmtiles/Bedrock_Surface_250k_IGS_IN.pmtiles\n",
      "PMTiles created at indiana_pmtiles/Impaired_Waters_303d_2016_IDEM_IN.pmtiles\n",
      "PMTiles created at indiana_pmtiles/coal_mine_mined_out_springfield_in_2010.pmtiles\n",
      "PMTiles created at indiana_pmtiles/Coal_Mine_Underground_DNR_IN.pmtiles\n",
      "PMTiles created at indiana_pmtiles/Agriculture_Census_1997_IN.pmtiles\n",
      "PMTiles created at indiana_pmtiles/WATERSHEDS_HUC10_2009_USDA_IN.pmtiles\n",
      "PMTiles created at indiana_pmtiles/railroad_amtrak_ntad_in.pmtiles\n",
      "PMTiles created at indiana_pmtiles/Sand_Gravel_Resources_IN.pmtiles\n",
      "PMTiles created at indiana_pmtiles/Mile_Markers_System1_INDOT_IN.pmtiles\n"
     ]
    }
   ],
   "source": [
    "import os\n",
    "import subprocess\n",
    "\n",
    "def convert_shapefile_to_pmtiles(shapefile_path, pmtiles_path, min_zoom=10, max_zoom=15):\n",
    "    \"\"\"\n",
    "    Converts a shapefile to PMTiles format using GDAL's ogr2ogr.\n",
    "    \n",
    "    Parameters:\n",
    "        shapefile_path (str): Path to the shapefile (.shp).\n",
    "        pmtiles_path (str): Path to save the PMTiles output.\n",
    "        min_zoom (int): Minimum zoom level for PMTiles.\n",
    "        max_zoom (int): Maximum zoom level for PMTiles.\n",
    "    \"\"\"\n",
    "    try:\n",
    "        # Run the ogr2ogr command to convert to PMTiles\n",
    "        subprocess.run([\n",
    "            \"ogr2ogr\",\n",
    "            \"-dsco\", f\"MINZOOM={min_zoom}\",\n",
    "            \"-dsco\", f\"MAXZOOM={max_zoom}\",\n",
    "            \"-f\", \"PMTiles\",\n",
    "            pmtiles_path,\n",
    "            shapefile_path\n",
    "        ], check=True)\n",
    "        print(f\"PMTiles created at {pmtiles_path}\")\n",
    "    except subprocess.CalledProcessError as e:\n",
    "        print(f\"Error processing {shapefile_path}: {e}\")\n",
    "\n",
    "def create_pmtiles_for_directory(shapefile_dir, pmtiles_dir, min_zoom=10, max_zoom=10):\n",
    "    \"\"\"\n",
    "    Scans a directory of shapefiles and generates PMTiles for each.\n",
    "    \n",
    "    Parameters:\n",
    "        shapefile_dir (str): Directory containing shapefiles (including subdirectories).\n",
    "        pmtiles_dir (str): Directory to save the generated PMTiles files.\n",
    "        min_zoom (int): Minimum zoom level for PMTiles.\n",
    "        max_zoom (int): Maximum zoom level for PMTiles.\n",
    "    \"\"\"\n",
    "    # Ensure the PMTiles output directory exists\n",
    "    os.makedirs(pmtiles_dir, exist_ok=True)\n",
    "    \n",
    "    # Gather all shapefiles recursively\n",
    "    shapefiles = []\n",
    "    for root, dirs, files in os.walk(shapefile_dir):\n",
    "        for file in files:\n",
    "            if file.endswith(\".shp\"):\n",
    "                shapefiles.append(os.path.join(root, file))\n",
    "    \n",
    "    print(f\"Found {len(shapefiles)} shapefiles to process.\")\n",
    "\n",
    "    # Process each shapefile\n",
    "    for shapefile_path in shapefiles:\n",
    "        # Define the output PMTiles path based on the shapefile name\n",
    "        pmtiles_name = f\"{os.path.splitext(os.path.basename(shapefile_path))[0]}.pmtiles\"\n",
    "        pmtiles_path = os.path.join(pmtiles_dir, pmtiles_name)\n",
    "        \n",
    "        # Convert shapefile to PMTiles\n",
    "        convert_shapefile_to_pmtiles(shapefile_path, pmtiles_path, min_zoom, max_zoom)\n",
    "\n",
    "# Usage\n",
    "shapefile_directory = \"indiana\"\n",
    "pmtiles_directory = \"indiana_pmtiles\"\n",
    "\n",
    "create_pmtiles_for_directory(shapefile_directory, pmtiles_directory)\n"
   ]
  },
  {
   "cell_type": "code",
   "execution_count": null,
   "id": "361bfeaf",
   "metadata": {},
   "outputs": [],
   "source": []
  }
 ],
 "metadata": {
  "kernelspec": {
   "display_name": "Python 3 (ipykernel)",
   "language": "python",
   "name": "python3"
  },
  "language_info": {
   "codemirror_mode": {
    "name": "ipython",
    "version": 3
   },
   "file_extension": ".py",
   "mimetype": "text/x-python",
   "name": "python",
   "nbconvert_exporter": "python",
   "pygments_lexer": "ipython3",
   "version": "3.10.12"
  }
 },
 "nbformat": 4,
 "nbformat_minor": 5
}
