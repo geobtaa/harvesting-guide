{
 "cells": [
  {
   "cell_type": "code",
   "execution_count": 1,
   "id": "de9908e1",
   "metadata": {},
   "outputs": [
    {
     "name": "stdout",
     "output_type": "stream",
     "text": [
      "Found 12 shapefiles to process.\n"
     ]
    },
    {
     "name": "stderr",
     "output_type": "stream",
     "text": [
      "Warning 1: The output driver does not natively support Date type for field EDIT_DATE. Misconversion can happen. -mapFieldType can be used to control field type conversion.\n",
      "Warning 1: The output driver does not natively support Date type for field EFF_DATE. Misconversion can happen. -mapFieldType can be used to control field type conversion.\n"
     ]
    },
    {
     "name": "stdout",
     "output_type": "stream",
     "text": [
      "PMTiles created at olmsted_pmtiles/CENTERLINES.pmtiles\n",
      "PMTiles created at olmsted_pmtiles/Townships_PLSS_GPS.pmtiles\n",
      "PMTiles created at olmsted_pmtiles/Olmsted_LUP.pmtiles\n",
      "PMTiles created at olmsted_pmtiles/Olmsted_Zoning.pmtiles\n"
     ]
    },
    {
     "name": "stderr",
     "output_type": "stream",
     "text": [
      "Warning 1: The output driver does not natively support Date type for field LstMainDat. Misconversion can happen. -mapFieldType can be used to control field type conversion.\n"
     ]
    },
    {
     "name": "stdout",
     "output_type": "stream",
     "text": [
      "PMTiles created at olmsted_pmtiles/Parcels_Composite.pmtiles\n"
     ]
    },
    {
     "name": "stderr",
     "output_type": "stream",
     "text": [
      "Warning 1: The output driver does not natively support Date type for field Create_Dat. Misconversion can happen. -mapFieldType can be used to control field type conversion.\n",
      "Warning 1: The output driver does not natively support Date type for field Edit_Date. Misconversion can happen. -mapFieldType can be used to control field type conversion.\n"
     ]
    },
    {
     "name": "stdout",
     "output_type": "stream",
     "text": [
      "PMTiles created at olmsted_pmtiles/Rochester_P2S_FutureLandUse.pmtiles\n"
     ]
    },
    {
     "name": "stderr",
     "output_type": "stream",
     "text": [
      "Warning 1: The output driver does not natively support Date type for field Create_Dat. Misconversion can happen. -mapFieldType can be used to control field type conversion.\n",
      "Warning 1: The output driver does not natively support Date type for field Edit_Date. Misconversion can happen. -mapFieldType can be used to control field type conversion.\n"
     ]
    },
    {
     "name": "stdout",
     "output_type": "stream",
     "text": [
      "PMTiles created at olmsted_pmtiles/Rochester_P2S_GrowthManagement.pmtiles\n"
     ]
    },
    {
     "name": "stderr",
     "output_type": "stream",
     "text": [
      "Warning 1: The output driver does not natively support Date type for field EDIT_DATE. Misconversion can happen. -mapFieldType can be used to control field type conversion.\n"
     ]
    },
    {
     "name": "stdout",
     "output_type": "stream",
     "text": [
      "PMTiles created at olmsted_pmtiles/Rochester_Zoning.pmtiles\n"
     ]
    },
    {
     "name": "stderr",
     "output_type": "stream",
     "text": [
      "Warning 1: The output driver does not natively support Date type for field EDIT_DATE. Misconversion can happen. -mapFieldType can be used to control field type conversion.\n",
      "Warning 1: The output driver does not natively support Date type for field ISSUE_DATE. Misconversion can happen. -mapFieldType can be used to control field type conversion.\n",
      "Warning 1: The output driver does not natively support Date type for field INACT_DATE. Misconversion can happen. -mapFieldType can be used to control field type conversion.\n",
      "Warning 1: The output driver does not natively support Date type for field CR_DATE. Misconversion can happen. -mapFieldType can be used to control field type conversion.\n"
     ]
    },
    {
     "name": "stdout",
     "output_type": "stream",
     "text": [
      "PMTiles created at olmsted_pmtiles/ADDRESS_POINTS.pmtiles\n",
      "PMTiles created at olmsted_pmtiles/CtyLmts.pmtiles\n",
      "PMTiles created at olmsted_pmtiles/Streams.pmtiles\n",
      "PMTiles created at olmsted_pmtiles/Rivers.pmtiles\n"
     ]
    }
   ],
   "source": [
    "import os\n",
    "import subprocess\n",
    "\n",
    "def convert_shapefile_to_pmtiles(shapefile_path, pmtiles_path, min_zoom=10, max_zoom=15):\n",
    "    \"\"\"\n",
    "    Converts a shapefile to PMTiles format using GDAL's ogr2ogr.\n",
    "    \n",
    "    Parameters:\n",
    "        shapefile_path (str): Path to the shapefile (.shp).\n",
    "        pmtiles_path (str): Path to save the PMTiles output.\n",
    "        min_zoom (int): Minimum zoom level for PMTiles.\n",
    "        max_zoom (int): Maximum zoom level for PMTiles.\n",
    "    \"\"\"\n",
    "    try:\n",
    "        # Run the ogr2ogr command to convert to PMTiles\n",
    "        subprocess.run([\n",
    "            \"ogr2ogr\",\n",
    "            \"-dsco\", f\"MINZOOM={min_zoom}\",\n",
    "            \"-dsco\", f\"MAXZOOM={max_zoom}\",\n",
    "            \"-f\", \"PMTiles\",\n",
    "            pmtiles_path,\n",
    "            shapefile_path\n",
    "        ], check=True)\n",
    "        print(f\"PMTiles created at {pmtiles_path}\")\n",
    "    except subprocess.CalledProcessError as e:\n",
    "        print(f\"Error processing {shapefile_path}: {e}\")\n",
    "\n",
    "def create_pmtiles_for_directory(shapefile_dir, pmtiles_dir, min_zoom=10, max_zoom=10):\n",
    "    \"\"\"\n",
    "    Scans a directory of shapefiles and generates PMTiles for each.\n",
    "    \n",
    "    Parameters:\n",
    "        shapefile_dir (str): Directory containing shapefiles (including subdirectories).\n",
    "        pmtiles_dir (str): Directory to save the generated PMTiles files.\n",
    "        min_zoom (int): Minimum zoom level for PMTiles.\n",
    "        max_zoom (int): Maximum zoom level for PMTiles.\n",
    "    \"\"\"\n",
    "    # Ensure the PMTiles output directory exists\n",
    "    os.makedirs(pmtiles_dir, exist_ok=True)\n",
    "    \n",
    "    # Gather all shapefiles recursively\n",
    "    shapefiles = []\n",
    "    for root, dirs, files in os.walk(shapefile_dir):\n",
    "        for file in files:\n",
    "            if file.endswith(\".shp\"):\n",
    "                shapefiles.append(os.path.join(root, file))\n",
    "    \n",
    "    print(f\"Found {len(shapefiles)} shapefiles to process.\")\n",
    "\n",
    "    # Process each shapefile\n",
    "    for shapefile_path in shapefiles:\n",
    "        # Define the output PMTiles path based on the shapefile name\n",
    "        pmtiles_name = f\"{os.path.splitext(os.path.basename(shapefile_path))[0]}.pmtiles\"\n",
    "        pmtiles_path = os.path.join(pmtiles_dir, pmtiles_name)\n",
    "        \n",
    "        # Convert shapefile to PMTiles\n",
    "        convert_shapefile_to_pmtiles(shapefile_path, pmtiles_path, min_zoom, max_zoom)\n",
    "\n",
    "# Usage\n",
    "shapefile_directory = \"olmsted\"\n",
    "pmtiles_directory = \"olmsted_pmtiles\"\n",
    "\n",
    "create_pmtiles_for_directory(shapefile_directory, pmtiles_directory)\n"
   ]
  },
  {
   "cell_type": "code",
   "execution_count": null,
   "id": "361bfeaf",
   "metadata": {},
   "outputs": [],
   "source": []
  }
 ],
 "metadata": {
  "kernelspec": {
   "display_name": "Python 3 (ipykernel)",
   "language": "python",
   "name": "python3"
  },
  "language_info": {
   "codemirror_mode": {
    "name": "ipython",
    "version": 3
   },
   "file_extension": ".py",
   "mimetype": "text/x-python",
   "name": "python",
   "nbconvert_exporter": "python",
   "pygments_lexer": "ipython3",
   "version": "3.10.12"
  }
 },
 "nbformat": 4,
 "nbformat_minor": 5
}
