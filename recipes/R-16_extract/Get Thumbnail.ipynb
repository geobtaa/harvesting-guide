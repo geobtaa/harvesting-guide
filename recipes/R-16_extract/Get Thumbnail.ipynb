{
 "cells": [
  {
   "cell_type": "code",
   "execution_count": 1,
   "id": "a4607f21",
   "metadata": {},
   "outputs": [
    {
     "name": "stdout",
     "output_type": "stream",
     "text": [
      "Intel MKL WARNING: Support of Intel(R) Streaming SIMD Extensions 4.2 (Intel(R) SSE4.2) enabled only processors has been deprecated. Intel oneAPI Math Kernel Library 2025.0 will require Intel(R) Advanced Vector Extensions (Intel(R) AVX) instructions.\n",
      "Intel MKL WARNING: Support of Intel(R) Streaming SIMD Extensions 4.2 (Intel(R) SSE4.2) enabled only processors has been deprecated. Intel oneAPI Math Kernel Library 2025.0 will require Intel(R) Advanced Vector Extensions (Intel(R) AVX) instructions.\n",
      "Found 12 shapefiles to process.\n"
     ]
    },
    {
     "name": "stderr",
     "output_type": "stream",
     "text": [
      "Generating Thumbnails:   8%|████▌                                                  | 1/12 [00:01<00:16,  1.53s/it]"
     ]
    },
    {
     "name": "stdout",
     "output_type": "stream",
     "text": [
      "Thumbnail saved at olmsted_thumbs/CENTERLINES.png\n"
     ]
    },
    {
     "name": "stderr",
     "output_type": "stream",
     "text": [
      "\r",
      "Generating Thumbnails:  17%|█████████▏                                             | 2/12 [00:01<00:07,  1.32it/s]"
     ]
    },
    {
     "name": "stdout",
     "output_type": "stream",
     "text": [
      "Thumbnail saved at olmsted_thumbs/Townships_PLSS_GPS.png\n",
      "Thumbnail saved at olmsted_thumbs/Olmsted_LUP.png\n"
     ]
    },
    {
     "name": "stderr",
     "output_type": "stream",
     "text": [
      "\r",
      "Generating Thumbnails:  33%|██████████████████▎                                    | 4/12 [00:01<00:02,  2.86it/s]"
     ]
    },
    {
     "name": "stdout",
     "output_type": "stream",
     "text": [
      "Thumbnail saved at olmsted_thumbs/Olmsted_Zoning.png\n"
     ]
    },
    {
     "name": "stderr",
     "output_type": "stream",
     "text": [
      "Generating Thumbnails:  50%|███████████████████████████▌                           | 6/12 [00:13<00:16,  2.74s/it]"
     ]
    },
    {
     "name": "stdout",
     "output_type": "stream",
     "text": [
      "Thumbnail saved at olmsted_thumbs/Parcels_Composite.png\n",
      "Thumbnail saved at olmsted_thumbs/Rochester_P2S_FutureLandUse.png\n"
     ]
    },
    {
     "name": "stderr",
     "output_type": "stream",
     "text": [
      "\r",
      "Generating Thumbnails:  67%|████████████████████████████████████▋                  | 8/12 [00:14<00:06,  1.51s/it]"
     ]
    },
    {
     "name": "stdout",
     "output_type": "stream",
     "text": [
      "Thumbnail saved at olmsted_thumbs/Rochester_P2S_GrowthManagement.png\n",
      "Thumbnail saved at olmsted_thumbs/Rochester_Zoning.png\n"
     ]
    },
    {
     "name": "stderr",
     "output_type": "stream",
     "text": [
      "\r",
      "Generating Thumbnails:  75%|█████████████████████████████████████████▎             | 9/12 [00:19<00:07,  2.54s/it]"
     ]
    },
    {
     "name": "stdout",
     "output_type": "stream",
     "text": [
      "Thumbnail saved at olmsted_thumbs/ADDRESS_POINTS.png\n"
     ]
    },
    {
     "name": "stderr",
     "output_type": "stream",
     "text": [
      "\r",
      "Generating Thumbnails:  83%|█████████████████████████████████████████████         | 10/12 [00:19<00:03,  1.94s/it]"
     ]
    },
    {
     "name": "stdout",
     "output_type": "stream",
     "text": [
      "Thumbnail saved at olmsted_thumbs/CtyLmts.png\n"
     ]
    },
    {
     "name": "stderr",
     "output_type": "stream",
     "text": [
      "Generating Thumbnails: 100%|██████████████████████████████████████████████████████| 12/12 [00:20<00:00,  1.74s/it]"
     ]
    },
    {
     "name": "stdout",
     "output_type": "stream",
     "text": [
      "Thumbnail saved at olmsted_thumbs/Streams.png\n",
      "Thumbnail saved at olmsted_thumbs/Rivers.png\n"
     ]
    },
    {
     "name": "stderr",
     "output_type": "stream",
     "text": [
      "\n"
     ]
    }
   ],
   "source": [
    "import os\n",
    "import geopandas as gpd\n",
    "import matplotlib.pyplot as plt\n",
    "from tqdm import tqdm  # For progress bar\n",
    "\n",
    "def create_shapefile_thumbnail(shapefile_path, thumbnail_path, width=2, height=2, dpi=100):\n",
    "    \"\"\"\n",
    "    Creates a thumbnail for a shapefile and saves it as an image.\n",
    "    \n",
    "    Parameters:\n",
    "        shapefile_path (str): Path to the shapefile (.shp).\n",
    "        thumbnail_path (str): Path to save the thumbnail image.\n",
    "        width (int): Width of the thumbnail in inches.\n",
    "        height (int): Height of the thumbnail in inches.\n",
    "        dpi (int): Resolution of the thumbnail.\n",
    "    \"\"\"\n",
    "    try:\n",
    "        # Load shapefile using GeoPandas\n",
    "        gdf = gpd.read_file(shapefile_path)\n",
    "        \n",
    "        # Plot the shapefile with a small figure size for thumbnail effect\n",
    "        fig, ax = plt.subplots(figsize=(width, height), dpi=dpi)\n",
    "        gdf.plot(ax=ax)\n",
    "        \n",
    "        # Turn off axis for a cleaner thumbnail\n",
    "        ax.axis('off')\n",
    "        \n",
    "        # Save the figure as an image file\n",
    "        plt.savefig(thumbnail_path, bbox_inches='tight', pad_inches=0)\n",
    "        plt.close(fig)\n",
    "        print(f\"Thumbnail saved at {thumbnail_path}\")\n",
    "    except Exception as e:\n",
    "        print(f\"Error processing {shapefile_path}: {e}\")\n",
    "\n",
    "def create_thumbnails_for_directory(shapefile_dir, thumbnail_dir, width=2, height=2, dpi=100):\n",
    "    \"\"\"\n",
    "    Recursively scans a directory of shapefiles and generates thumbnails for each.\n",
    "    \n",
    "    Parameters:\n",
    "        shapefile_dir (str): Root directory containing shapefiles in subdirectories.\n",
    "        thumbnail_dir (str): Directory to save the generated thumbnails.\n",
    "        width (int): Width of each thumbnail in inches.\n",
    "        height (int): Height of each thumbnail in inches.\n",
    "        dpi (int): Resolution of each thumbnail.\n",
    "    \"\"\"\n",
    "    # Ensure the thumbnail directory exists\n",
    "    os.makedirs(thumbnail_dir, exist_ok=True)\n",
    "    \n",
    "    # Gather all shapefiles recursively\n",
    "    shapefiles = []\n",
    "    for root, dirs, files in os.walk(shapefile_dir):\n",
    "        for file in files:\n",
    "            if file.endswith(\".shp\"):\n",
    "                shapefiles.append(os.path.join(root, file))\n",
    "    \n",
    "    print(f\"Found {len(shapefiles)} shapefiles to process.\")\n",
    "\n",
    "    # Process each shapefile with a progress bar\n",
    "    for shapefile_path in tqdm(shapefiles, desc=\"Generating Thumbnails\"):\n",
    "        # Define the path for the thumbnail image\n",
    "        thumbnail_name = f\"{os.path.splitext(os.path.basename(shapefile_path))[0]}.png\"\n",
    "        thumbnail_path = os.path.join(thumbnail_dir, thumbnail_name)\n",
    "        \n",
    "        # Create the thumbnail\n",
    "        create_shapefile_thumbnail(shapefile_path, thumbnail_path, width, height, dpi)\n",
    "\n",
    "# Usage\n",
    "shapefile_directory = \"olmsted\"\n",
    "thumbnail_directory = \"olmsted_thumbs\"\n",
    "\n",
    "# Build font cache manually if needed\n",
    "plt.plot()  # Create an empty plot to build font cache\n",
    "plt.close()\n",
    "\n",
    "create_thumbnails_for_directory(shapefile_directory, thumbnail_directory)\n",
    "\n",
    "\n",
    "\n"
   ]
  },
  {
   "cell_type": "code",
   "execution_count": null,
   "id": "028c677c",
   "metadata": {},
   "outputs": [],
   "source": []
  }
 ],
 "metadata": {
  "kernelspec": {
   "display_name": "Python 3 (ipykernel)",
   "language": "python",
   "name": "python3"
  },
  "language_info": {
   "codemirror_mode": {
    "name": "ipython",
    "version": 3
   },
   "file_extension": ".py",
   "mimetype": "text/x-python",
   "name": "python",
   "nbconvert_exporter": "python",
   "pygments_lexer": "ipython3",
   "version": "3.10.12"
  }
 },
 "nbformat": 4,
 "nbformat_minor": 5
}
