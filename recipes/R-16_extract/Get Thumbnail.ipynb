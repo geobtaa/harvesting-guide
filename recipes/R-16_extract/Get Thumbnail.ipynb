{
 "cells": [
  {
   "cell_type": "code",
   "execution_count": 1,
   "id": "a4607f21",
   "metadata": {},
   "outputs": [
    {
     "name": "stdout",
     "output_type": "stream",
     "text": [
      "Intel MKL WARNING: Support of Intel(R) Streaming SIMD Extensions 4.2 (Intel(R) SSE4.2) enabled only processors has been deprecated. Intel oneAPI Math Kernel Library 2025.0 will require Intel(R) Advanced Vector Extensions (Intel(R) AVX) instructions.\n",
      "Intel MKL WARNING: Support of Intel(R) Streaming SIMD Extensions 4.2 (Intel(R) SSE4.2) enabled only processors has been deprecated. Intel oneAPI Math Kernel Library 2025.0 will require Intel(R) Advanced Vector Extensions (Intel(R) AVX) instructions.\n",
      "Found 1 files to process.\n"
     ]
    },
    {
     "name": "stderr",
     "output_type": "stream",
     "text": [
      "Generating Thumbnails:   0%|                              | 0/1 [00:00<?, ?it/s]/Users/majew030/opt/anaconda3/envs/notebooks/lib/python3.10/site-packages/pyogrio/raw.py:196: UserWarning: Measured (M) geometry types are not supported. Original type 'PointM' is converted to 'Point'\n",
      "  return ogr_read(\n",
      "/Users/majew030/opt/anaconda3/envs/notebooks/lib/python3.10/site-packages/matplotlib/axes/_base.py:2985: RuntimeWarning: overflow encountered in scalar subtract\n",
      "  x0, x1 = inverse_trans.transform([x0t - delta, x1t + delta])\n",
      "Generating Thumbnails: 100%|██████████████████████| 1/1 [00:01<00:00,  1.54s/it]"
     ]
    },
    {
     "name": "stdout",
     "output_type": "stream",
     "text": [
      "Vector thumbnail saved at thumbnails/RNF_MP_10th_MajorRoutes_shp.png\n"
     ]
    },
    {
     "name": "stderr",
     "output_type": "stream",
     "text": [
      "\n"
     ]
    }
   ],
   "source": [
    "import os\n",
    "import geopandas as gpd\n",
    "import matplotlib.pyplot as plt\n",
    "import rasterio\n",
    "from rasterio.plot import show\n",
    "from tqdm import tqdm  # For progress bar\n",
    "\n",
    "def create_vector_thumbnail(shapefile_path, thumbnail_path, width=2, height=2, dpi=100):\n",
    "    \"\"\"\n",
    "    Creates a thumbnail for a vector shapefile and saves it as an image.\n",
    "    \"\"\"\n",
    "    try:\n",
    "        # Load shapefile using GeoPandas\n",
    "        gdf = gpd.read_file(shapefile_path)\n",
    "        \n",
    "        # Plot the shapefile with a small figure size for thumbnail effect\n",
    "        fig, ax = plt.subplots(figsize=(width, height), dpi=dpi)\n",
    "        gdf.plot(ax=ax)\n",
    "        \n",
    "        # Turn off axis for a cleaner thumbnail\n",
    "        ax.axis('off')\n",
    "        \n",
    "        # Save the figure as an image file\n",
    "        plt.savefig(thumbnail_path, bbox_inches='tight', pad_inches=0)\n",
    "        plt.close(fig)\n",
    "        print(f\"Vector thumbnail saved at {thumbnail_path}\")\n",
    "    except Exception as e:\n",
    "        print(f\"Error processing {shapefile_path}: {e}\")\n",
    "\n",
    "def create_raster_thumbnail(raster_path, thumbnail_path, width=2, height=2, dpi=100):\n",
    "    \"\"\"\n",
    "    Creates a thumbnail for a raster file and saves it as an image.\n",
    "    \"\"\"\n",
    "    try:\n",
    "        # Load raster using Rasterio\n",
    "        with rasterio.open(raster_path) as src:\n",
    "            fig, ax = plt.subplots(figsize=(width, height), dpi=dpi)\n",
    "            show(src, ax=ax)  # Use Rasterio's show() to plot the raster\n",
    "            \n",
    "            # Turn off axis for a cleaner thumbnail\n",
    "            ax.axis('off')\n",
    "            \n",
    "            # Save the figure as an image file\n",
    "            plt.savefig(thumbnail_path, bbox_inches='tight', pad_inches=0)\n",
    "            plt.close(fig)\n",
    "            print(f\"Raster thumbnail saved at {thumbnail_path}\")\n",
    "    except Exception as e:\n",
    "        print(f\"Error processing {raster_path}: {e}\")\n",
    "\n",
    "def create_thumbnails_for_directory(data_dir, thumbnail_dir, width=2, height=2, dpi=100):\n",
    "    \"\"\"\n",
    "    Scans a directory for shapefiles and rasters, generating thumbnails for each.\n",
    "    \n",
    "    Parameters:\n",
    "        data_dir (str): Directory containing data files (shapefiles and rasters).\n",
    "        thumbnail_dir (str): Directory to save the generated thumbnails.\n",
    "        width (int): Width of each thumbnail in inches.\n",
    "        height (int): Height of each thumbnail in inches.\n",
    "        dpi (int): Resolution of each thumbnail.\n",
    "    \"\"\"\n",
    "    # Ensure the thumbnail directory exists\n",
    "    os.makedirs(thumbnail_dir, exist_ok=True)\n",
    "    \n",
    "    # Gather all vector and raster files\n",
    "    files_to_process = []\n",
    "    for root, dirs, files in os.walk(data_dir):\n",
    "        for file in files:\n",
    "            if file.endswith(\".shp\") or file.endswith(\".tif\"):  # Add other raster formats if needed\n",
    "                files_to_process.append(os.path.join(root, file))\n",
    "    \n",
    "    print(f\"Found {len(files_to_process)} files to process.\")\n",
    "\n",
    "    # Process each file with a progress bar\n",
    "    for file_path in tqdm(files_to_process, desc=\"Generating Thumbnails\"):\n",
    "        # Define the output thumbnail path\n",
    "        thumbnail_name = f\"{os.path.splitext(os.path.basename(file_path))[0]}.png\"\n",
    "        thumbnail_path = os.path.join(thumbnail_dir, thumbnail_name)\n",
    "        \n",
    "        # Check if the file is a vector or raster and call the appropriate function\n",
    "        if file_path.endswith(\".shp\"):\n",
    "            create_vector_thumbnail(file_path, thumbnail_path, width, height, dpi)\n",
    "        elif file_path.endswith(\".tif\"):\n",
    "            create_raster_thumbnail(file_path, thumbnail_path, width, height, dpi)\n",
    "\n",
    "# Usage\n",
    "data_directory = \"RNF_MP_10th_MajorRoutes\"\n",
    "thumbnail_directory = \"thumbnails\"\n",
    "\n",
    "create_thumbnails_for_directory(data_directory, thumbnail_directory)\n"
   ]
  },
  {
   "cell_type": "code",
   "execution_count": null,
   "id": "028c677c",
   "metadata": {},
   "outputs": [],
   "source": []
  }
 ],
 "metadata": {
  "kernelspec": {
   "display_name": "Python 3 (ipykernel)",
   "language": "python",
   "name": "python3"
  },
  "language_info": {
   "codemirror_mode": {
    "name": "ipython",
    "version": 3
   },
   "file_extension": ".py",
   "mimetype": "text/x-python",
   "name": "python",
   "nbconvert_exporter": "python",
   "pygments_lexer": "ipython3",
   "version": "3.10.12"
  }
 },
 "nbformat": 4,
 "nbformat_minor": 5
}
