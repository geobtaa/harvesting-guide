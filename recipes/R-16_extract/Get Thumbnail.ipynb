{
 "cells": [
  {
   "cell_type": "code",
   "execution_count": 4,
   "id": "a4607f21",
   "metadata": {},
   "outputs": [
    {
     "name": "stdout",
     "output_type": "stream",
     "text": [
      "Found 24 shapefiles to process.\n"
     ]
    },
    {
     "name": "stderr",
     "output_type": "stream",
     "text": [
      "Generating Thumbnails:   4%|▉                    | 1/24 [00:00<00:20,  1.13it/s]"
     ]
    },
    {
     "name": "stdout",
     "output_type": "stream",
     "text": [
      "Thumbnail saved at Land use_2002 Maryland by County_thumbs/cecilu02.png\n"
     ]
    },
    {
     "name": "stderr",
     "output_type": "stream",
     "text": [
      "\r",
      "Generating Thumbnails:   8%|█▊                   | 2/24 [00:01<00:14,  1.51it/s]"
     ]
    },
    {
     "name": "stdout",
     "output_type": "stream",
     "text": [
      "Thumbnail saved at Land use_2002 Maryland by County_thumbs/montlu02.png\n"
     ]
    },
    {
     "name": "stderr",
     "output_type": "stream",
     "text": [
      "\r",
      "Generating Thumbnails:  12%|██▋                  | 3/24 [00:01<00:09,  2.15it/s]"
     ]
    },
    {
     "name": "stdout",
     "output_type": "stream",
     "text": [
      "Thumbnail saved at Land use_2002 Maryland by County_thumbs/calvlu02.png\n"
     ]
    },
    {
     "name": "stderr",
     "output_type": "stream",
     "text": [
      "\r",
      "Generating Thumbnails:  17%|███▌                 | 4/24 [00:02<00:09,  2.07it/s]"
     ]
    },
    {
     "name": "stdout",
     "output_type": "stream",
     "text": [
      "Thumbnail saved at Land use_2002 Maryland by County_thumbs/garrlu02.png\n"
     ]
    },
    {
     "name": "stderr",
     "output_type": "stream",
     "text": [
      "\r",
      "Generating Thumbnails:  21%|████▍                | 5/24 [00:02<00:10,  1.80it/s]"
     ]
    },
    {
     "name": "stdout",
     "output_type": "stream",
     "text": [
      "Thumbnail saved at Land use_2002 Maryland by County_thumbs/prinlu02.png\n"
     ]
    },
    {
     "name": "stderr",
     "output_type": "stream",
     "text": [
      "\r",
      "Generating Thumbnails:  25%|█████▎               | 6/24 [00:03<00:09,  1.89it/s]"
     ]
    },
    {
     "name": "stdout",
     "output_type": "stream",
     "text": [
      "Thumbnail saved at Land use_2002 Maryland by County_thumbs/carrlu02.png\n"
     ]
    },
    {
     "name": "stderr",
     "output_type": "stream",
     "text": [
      "\r",
      "Generating Thumbnails:  29%|██████▏              | 7/24 [00:03<00:08,  2.04it/s]"
     ]
    },
    {
     "name": "stdout",
     "output_type": "stream",
     "text": [
      "Thumbnail saved at Land use_2002 Maryland by County_thumbs/dorclu02.png\n"
     ]
    },
    {
     "name": "stderr",
     "output_type": "stream",
     "text": [
      "\r",
      "Generating Thumbnails:  33%|███████              | 8/24 [00:04<00:07,  2.03it/s]"
     ]
    },
    {
     "name": "stdout",
     "output_type": "stream",
     "text": [
      "Thumbnail saved at Land use_2002 Maryland by County_thumbs/annelu02.png\n"
     ]
    },
    {
     "name": "stderr",
     "output_type": "stream",
     "text": [
      "\r",
      "Generating Thumbnails:  38%|███████▉             | 9/24 [00:04<00:06,  2.32it/s]"
     ]
    },
    {
     "name": "stdout",
     "output_type": "stream",
     "text": [
      "Thumbnail saved at Land use_2002 Maryland by County_thumbs/queelu02.png\n"
     ]
    },
    {
     "name": "stderr",
     "output_type": "stream",
     "text": [
      "\r",
      "Generating Thumbnails:  42%|████████▎           | 10/24 [00:04<00:06,  2.27it/s]"
     ]
    },
    {
     "name": "stdout",
     "output_type": "stream",
     "text": [
      "Thumbnail saved at Land use_2002 Maryland by County_thumbs/harflu02.png\n"
     ]
    },
    {
     "name": "stderr",
     "output_type": "stream",
     "text": [
      "\r",
      "Generating Thumbnails:  46%|█████████▏          | 11/24 [00:05<00:04,  2.62it/s]"
     ]
    },
    {
     "name": "stdout",
     "output_type": "stream",
     "text": [
      "Thumbnail saved at Land use_2002 Maryland by County_thumbs/carolu02.png\n"
     ]
    },
    {
     "name": "stderr",
     "output_type": "stream",
     "text": [
      "\r",
      "Generating Thumbnails:  50%|██████████          | 12/24 [00:05<00:05,  2.17it/s]"
     ]
    },
    {
     "name": "stdout",
     "output_type": "stream",
     "text": [
      "Thumbnail saved at Land use_2002 Maryland by County_thumbs/bacolu02.png\n"
     ]
    },
    {
     "name": "stderr",
     "output_type": "stream",
     "text": [
      "Generating Thumbnails:  58%|███████████▋        | 14/24 [00:06<00:03,  2.81it/s]"
     ]
    },
    {
     "name": "stdout",
     "output_type": "stream",
     "text": [
      "Thumbnail saved at Land use_2002 Maryland by County_thumbs/charlu02.png\n",
      "Thumbnail saved at Land use_2002 Maryland by County_thumbs/kentlu02.png\n"
     ]
    },
    {
     "name": "stderr",
     "output_type": "stream",
     "text": [
      "\r",
      "Generating Thumbnails:  62%|████████████▌       | 15/24 [00:06<00:03,  2.99it/s]"
     ]
    },
    {
     "name": "stdout",
     "output_type": "stream",
     "text": [
      "Thumbnail saved at Land use_2002 Maryland by County_thumbs/somelu02.png\n"
     ]
    },
    {
     "name": "stderr",
     "output_type": "stream",
     "text": [
      "\r",
      "Generating Thumbnails:  67%|█████████████▎      | 16/24 [00:07<00:02,  2.80it/s]"
     ]
    },
    {
     "name": "stdout",
     "output_type": "stream",
     "text": [
      "Thumbnail saved at Land use_2002 Maryland by County_thumbs/worclu02.png\n"
     ]
    },
    {
     "name": "stderr",
     "output_type": "stream",
     "text": [
      "\r",
      "Generating Thumbnails:  71%|██████████████▏     | 17/24 [00:07<00:02,  2.46it/s]"
     ]
    },
    {
     "name": "stdout",
     "output_type": "stream",
     "text": [
      "Thumbnail saved at Land use_2002 Maryland by County_thumbs/washlu02.png\n"
     ]
    },
    {
     "name": "stderr",
     "output_type": "stream",
     "text": [
      "\r",
      "Generating Thumbnails:  75%|███████████████     | 18/24 [00:08<00:02,  2.45it/s]"
     ]
    },
    {
     "name": "stdout",
     "output_type": "stream",
     "text": [
      "Thumbnail saved at Land use_2002 Maryland by County_thumbs/stmalu02.png\n"
     ]
    },
    {
     "name": "stderr",
     "output_type": "stream",
     "text": [
      "\r",
      "Generating Thumbnails:  79%|███████████████▊    | 19/24 [00:08<00:02,  2.26it/s]"
     ]
    },
    {
     "name": "stdout",
     "output_type": "stream",
     "text": [
      "Thumbnail saved at Land use_2002 Maryland by County_thumbs/fredlu02.png\n"
     ]
    },
    {
     "name": "stderr",
     "output_type": "stream",
     "text": [
      "Generating Thumbnails:  88%|█████████████████▌  | 21/24 [00:08<00:00,  3.10it/s]"
     ]
    },
    {
     "name": "stdout",
     "output_type": "stream",
     "text": [
      "Thumbnail saved at Land use_2002 Maryland by County_thumbs/talblu02.png\n",
      "Thumbnail saved at Land use_2002 Maryland by County_thumbs/bacilu02.png\n"
     ]
    },
    {
     "name": "stderr",
     "output_type": "stream",
     "text": [
      "\r",
      "Generating Thumbnails:  92%|██████████████████▎ | 22/24 [00:09<00:00,  3.15it/s]"
     ]
    },
    {
     "name": "stdout",
     "output_type": "stream",
     "text": [
      "Thumbnail saved at Land use_2002 Maryland by County_thumbs/allelu02.png\n"
     ]
    },
    {
     "name": "stderr",
     "output_type": "stream",
     "text": [
      "\r",
      "Generating Thumbnails:  96%|███████████████████▏| 23/24 [00:09<00:00,  3.04it/s]"
     ]
    },
    {
     "name": "stdout",
     "output_type": "stream",
     "text": [
      "Thumbnail saved at Land use_2002 Maryland by County_thumbs/wicolu02.png\n"
     ]
    },
    {
     "name": "stderr",
     "output_type": "stream",
     "text": [
      "Generating Thumbnails: 100%|████████████████████| 24/24 [00:09<00:00,  2.42it/s]"
     ]
    },
    {
     "name": "stdout",
     "output_type": "stream",
     "text": [
      "Thumbnail saved at Land use_2002 Maryland by County_thumbs/howalu02.png\n"
     ]
    },
    {
     "name": "stderr",
     "output_type": "stream",
     "text": [
      "\n"
     ]
    }
   ],
   "source": [
    "import os\n",
    "import geopandas as gpd\n",
    "import matplotlib.pyplot as plt\n",
    "from tqdm import tqdm  # For progress bar\n",
    "\n",
    "def create_shapefile_thumbnail(shapefile_path, thumbnail_path, width=2, height=2, dpi=100):\n",
    "    \"\"\"\n",
    "    Creates a thumbnail for a shapefile and saves it as an image.\n",
    "    \n",
    "    Parameters:\n",
    "        shapefile_path (str): Path to the shapefile (.shp).\n",
    "        thumbnail_path (str): Path to save the thumbnail image.\n",
    "        width (int): Width of the thumbnail in inches.\n",
    "        height (int): Height of the thumbnail in inches.\n",
    "        dpi (int): Resolution of the thumbnail.\n",
    "    \"\"\"\n",
    "    try:\n",
    "        # Load shapefile using GeoPandas\n",
    "        gdf = gpd.read_file(shapefile_path)\n",
    "        \n",
    "        # Plot the shapefile with a small figure size for thumbnail effect\n",
    "        fig, ax = plt.subplots(figsize=(width, height), dpi=dpi)\n",
    "        gdf.plot(ax=ax)\n",
    "        \n",
    "        # Turn off axis for a cleaner thumbnail\n",
    "        ax.axis('off')\n",
    "        \n",
    "        # Save the figure as an image file\n",
    "        plt.savefig(thumbnail_path, bbox_inches='tight', pad_inches=0)\n",
    "        plt.close(fig)\n",
    "        print(f\"Thumbnail saved at {thumbnail_path}\")\n",
    "    except Exception as e:\n",
    "        print(f\"Error processing {shapefile_path}: {e}\")\n",
    "\n",
    "def create_thumbnails_for_directory(shapefile_dir, thumbnail_dir, width=2, height=2, dpi=100):\n",
    "    \"\"\"\n",
    "    Recursively scans a directory of shapefiles and generates thumbnails for each.\n",
    "    \n",
    "    Parameters:\n",
    "        shapefile_dir (str): Root directory containing shapefiles in subdirectories.\n",
    "        thumbnail_dir (str): Directory to save the generated thumbnails.\n",
    "        width (int): Width of each thumbnail in inches.\n",
    "        height (int): Height of each thumbnail in inches.\n",
    "        dpi (int): Resolution of each thumbnail.\n",
    "    \"\"\"\n",
    "    # Ensure the thumbnail directory exists\n",
    "    os.makedirs(thumbnail_dir, exist_ok=True)\n",
    "    \n",
    "    # Gather all shapefiles recursively\n",
    "    shapefiles = []\n",
    "    for root, dirs, files in os.walk(shapefile_dir):\n",
    "        for file in files:\n",
    "            if file.endswith(\".shp\"):\n",
    "                shapefiles.append(os.path.join(root, file))\n",
    "    \n",
    "    print(f\"Found {len(shapefiles)} shapefiles to process.\")\n",
    "\n",
    "    # Process each shapefile with a progress bar\n",
    "    for shapefile_path in tqdm(shapefiles, desc=\"Generating Thumbnails\"):\n",
    "        # Define the path for the thumbnail image\n",
    "        thumbnail_name = f\"{os.path.splitext(os.path.basename(shapefile_path))[0]}.png\"\n",
    "        thumbnail_path = os.path.join(thumbnail_dir, thumbnail_name)\n",
    "        \n",
    "        # Create the thumbnail\n",
    "        create_shapefile_thumbnail(shapefile_path, thumbnail_path, width, height, dpi)\n",
    "\n",
    "# Usage\n",
    "shapefile_directory = \"Land use_2002\"\n",
    "thumbnail_directory = \"Land use_2002 Maryland by County_thumbs\"\n",
    "\n",
    "# Build font cache manually if needed\n",
    "plt.plot()  # Create an empty plot to build font cache\n",
    "plt.close()\n",
    "\n",
    "create_thumbnails_for_directory(shapefile_directory, thumbnail_directory)\n",
    "\n",
    "\n",
    "\n"
   ]
  },
  {
   "cell_type": "code",
   "execution_count": null,
   "id": "028c677c",
   "metadata": {},
   "outputs": [],
   "source": []
  }
 ],
 "metadata": {
  "kernelspec": {
   "display_name": "Python 3 (ipykernel)",
   "language": "python",
   "name": "python3"
  },
  "language_info": {
   "codemirror_mode": {
    "name": "ipython",
    "version": 3
   },
   "file_extension": ".py",
   "mimetype": "text/x-python",
   "name": "python",
   "nbconvert_exporter": "python",
   "pygments_lexer": "ipython3",
   "version": "3.10.12"
  }
 },
 "nbformat": 4,
 "nbformat_minor": 5
}
