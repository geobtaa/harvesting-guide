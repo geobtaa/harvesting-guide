{
 "cells": [
  {
   "cell_type": "code",
   "execution_count": 3,
   "id": "18579d1f",
   "metadata": {},
   "outputs": [
    {
     "name": "stdout",
     "output_type": "stream",
     "text": [
      "Created simplified .prj file for Land use_2002 Maryland by County/cecilu02/cecilu02.shp\n",
      "Created simplified .prj file for Land use_2002 Maryland by County/montlu02/montlu02.shp\n",
      "Created simplified .prj file for Land use_2002 Maryland by County/calvlu02/calvlu02.shp\n",
      "Created simplified .prj file for Land use_2002 Maryland by County/garrlu02/garrlu02.shp\n",
      "Created simplified .prj file for Land use_2002 Maryland by County/prinlu02/prinlu02.shp\n",
      "Created simplified .prj file for Land use_2002 Maryland by County/carrlu02/carrlu02.shp\n",
      "Created simplified .prj file for Land use_2002 Maryland by County/dorclu02/dorclu02.shp\n",
      "Created simplified .prj file for Land use_2002 Maryland by County/annelu02/annelu02.shp\n",
      "Created simplified .prj file for Land use_2002 Maryland by County/queelu02/queelu02.shp\n",
      "Created simplified .prj file for Land use_2002 Maryland by County/harflu02/harflu02.shp\n",
      "Created simplified .prj file for Land use_2002 Maryland by County/carolu02/carolu02.shp\n",
      "Created simplified .prj file for Land use_2002 Maryland by County/bacolu02/bacolu02.shp\n",
      "Created simplified .prj file for Land use_2002 Maryland by County/charlu02/charlu02.shp\n",
      "Created simplified .prj file for Land use_2002 Maryland by County/kentlu02/kentlu02.shp\n",
      "Created simplified .prj file for Land use_2002 Maryland by County/somelu02/somelu02.shp\n",
      "Created simplified .prj file for Land use_2002 Maryland by County/worclu02/worclu02.shp\n",
      "Created simplified .prj file for Land use_2002 Maryland by County/washlu02/washlu02.shp\n",
      "Created simplified .prj file for Land use_2002 Maryland by County/stmalu02/stmalu02.shp\n",
      "Created simplified .prj file for Land use_2002 Maryland by County/fredlu02/fredlu02.shp\n",
      "Created simplified .prj file for Land use_2002 Maryland by County/talblu02/talblu02.shp\n",
      ".prj file already exists for Land use_2002 Maryland by County/bacilu02/bacilu02.shp\n",
      "Created simplified .prj file for Land use_2002 Maryland by County/allelu02/allelu02.shp\n",
      "Created simplified .prj file for Land use_2002 Maryland by County/wicolu02/wicolu02.shp\n",
      "Created simplified .prj file for Land use_2002 Maryland by County/howalu02/howalu02.shp\n"
     ]
    }
   ],
   "source": [
    "import os\n",
    "\n",
    "# Simplified WKT for EPSG:26985\n",
    "wkt_26985 = '''PROJCS[\"NAD83 / Maryland\",\n",
    "    GEOGCS[\"NAD83\",\n",
    "        DATUM[\"North_American_Datum_1983\",\n",
    "            SPHEROID[\"GRS 1980\",6378137,298.257222101]],\n",
    "        PRIMEM[\"Greenwich\",0],\n",
    "        UNIT[\"degree\",0.0174532925199433]],\n",
    "    PROJECTION[\"Lambert_Conformal_Conic_2SP\"],\n",
    "    PARAMETER[\"standard_parallel_1\",39.45],\n",
    "    PARAMETER[\"standard_parallel_2\",38.3],\n",
    "    PARAMETER[\"latitude_of_origin\",37.6666666666667],\n",
    "    PARAMETER[\"central_meridian\",-77],\n",
    "    PARAMETER[\"false_easting\",400000],\n",
    "    PARAMETER[\"false_northing\",0],\n",
    "    UNIT[\"metre\",1,AUTHORITY[\"EPSG\",\"9001\"]],\n",
    "    AUTHORITY[\"EPSG\",\"26985\"]]'''\n",
    "\n",
    "# Function to add .prj files to shapefiles without them\n",
    "def add_simplified_prj_file(directory):\n",
    "    # Loop through files in the directory\n",
    "    for root, dirs, files in os.walk(directory):\n",
    "        for file in files:\n",
    "            # Look for shapefiles that lack a .prj file\n",
    "            if file.endswith(\".shp\"):\n",
    "                shapefile_path = os.path.join(root, file)\n",
    "                prj_path = shapefile_path.replace(\".shp\", \".prj\")\n",
    "                \n",
    "                # Only create the .prj file if it doesn't already exist\n",
    "                if not os.path.exists(prj_path):\n",
    "                    with open(prj_path, \"w\") as prj_file:\n",
    "                        prj_file.write(wkt_26985)\n",
    "                    print(f\"Created simplified .prj file for {shapefile_path}\")\n",
    "                else:\n",
    "                    print(f\".prj file already exists for {shapefile_path}\")\n",
    "\n",
    "# Usage: replace 'your_shapefile_directory' with the path to your shapefile directory\n",
    "add_simplified_prj_file(\"Land use_2002 Maryland by County\")\n",
    "\n"
   ]
  },
  {
   "cell_type": "code",
   "execution_count": null,
   "id": "1637a2fc",
   "metadata": {},
   "outputs": [],
   "source": []
  }
 ],
 "metadata": {
  "kernelspec": {
   "display_name": "Python 3 (ipykernel)",
   "language": "python",
   "name": "python3"
  },
  "language_info": {
   "codemirror_mode": {
    "name": "ipython",
    "version": 3
   },
   "file_extension": ".py",
   "mimetype": "text/x-python",
   "name": "python",
   "nbconvert_exporter": "python",
   "pygments_lexer": "ipython3",
   "version": "3.10.12"
  }
 },
 "nbformat": 4,
 "nbformat_minor": 5
}
