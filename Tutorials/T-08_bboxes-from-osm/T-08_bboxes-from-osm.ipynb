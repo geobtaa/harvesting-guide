{
 "cells": [
  {
   "cell_type": "code",
   "execution_count": null,
   "id": "7b1c8431",
   "metadata": {
    "lines_to_next_cell": 1
   },
   "outputs": [],
   "source": [
    "import pandas as pd\n",
    "import requests"
   ]
  },
  {
   "cell_type": "code",
   "execution_count": null,
   "id": "e271f16e",
   "metadata": {
    "lines_to_next_cell": 1
   },
   "outputs": [],
   "source": [
    "# Define function to geocode a place name using Nominatim API\n",
    "def geocode_place_name(place_name):\n",
    "    url = \"https://nominatim.openstreetmap.org/search\"\n",
    "    params = {\n",
    "        \"q\": place_name,\n",
    "        \"format\": \"jsonv2\"\n",
    "    }\n",
    "    response = requests.get(url, params=params)\n",
    "    if response.ok:\n",
    "        data = response.json()\n",
    "        if len(data) > 0 and \"boundingbox\" in data[0]:\n",
    "            bbox = data[0][\"boundingbox\"]\n",
    "            return [bbox[2], bbox[0], bbox[3], bbox[1]]\n",
    "    return None"
   ]
  },
  {
   "cell_type": "code",
   "execution_count": null,
   "id": "0d00f40a",
   "metadata": {},
   "outputs": [],
   "source": [
    "# Load the CSV file into a pandas dataframe\n",
    "df = pd.read_csv(\"02d-03.csv\")"
   ]
  },
  {
   "cell_type": "code",
   "execution_count": null,
   "id": "9df3aed2",
   "metadata": {},
   "outputs": [],
   "source": [
    "# Apply the geocode_place_name function to the \"place\" column\n",
    "df[\"bbox\"] = df[\"place\"].apply(geocode_place_name)"
   ]
  },
  {
   "cell_type": "code",
   "execution_count": null,
   "id": "45053024",
   "metadata": {},
   "outputs": [],
   "source": [
    "# Write the results to a new CSV file\n",
    "df.to_csv(\"02d-03-output.csv\", index=False)"
   ]
  }
 ],
 "metadata": {
  "jupytext": {
   "cell_metadata_filter": "-all",
   "notebook_metadata_filter": "-all",
   "text_representation": {
    "extension": ".py",
    "format_name": "light"
   }
  },
  "kernelspec": {
   "display_name": "Python 3 (ipykernel)",
   "language": "python",
   "name": "python3"
  }
 },
 "nbformat": 4,
 "nbformat_minor": 5
}
