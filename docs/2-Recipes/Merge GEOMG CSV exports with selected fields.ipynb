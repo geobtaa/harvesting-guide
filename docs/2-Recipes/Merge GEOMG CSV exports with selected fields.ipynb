{
 "cells": [
  {
   "cell_type": "markdown",
   "id": "f32681ef",
   "metadata": {},
   "source": [
    "# Merge GEOMG CSV Exports with selected fields"
   ]
  },
  {
   "cell_type": "markdown",
   "id": "c100ed5e",
   "metadata": {},
   "source": [
    "Purpose: This script will allow us to take two CSV files and combine them using a shared key."
   ]
  },
  {
   "cell_type": "markdown",
   "id": "fccb950e",
   "metadata": {},
   "source": [
    "## 1. Import modules"
   ]
  },
  {
   "cell_type": "code",
   "execution_count": 1,
   "id": "6d50b320",
   "metadata": {},
   "outputs": [],
   "source": [
    "import pandas as pd"
   ]
  },
  {
   "cell_type": "markdown",
   "id": "af85e6b1",
   "metadata": {},
   "source": [
    "## 2. Read the two CSV files and convert them to pandas DataFrames"
   ]
  },
  {
   "cell_type": "code",
   "execution_count": 3,
   "id": "0a3c9a73",
   "metadata": {},
   "outputs": [],
   "source": [
    "df1 = pd.read_csv('geomg.csv', low_memory=False)\n",
    "df2 = pd.read_csv('bbox.csv')"
   ]
  },
  {
   "cell_type": "markdown",
   "id": "eac5b6be",
   "metadata": {},
   "source": [
    "Let's take a look at the CSVs"
   ]
  },
  {
   "cell_type": "code",
   "execution_count": null,
   "id": "facd9bca",
   "metadata": {},
   "outputs": [],
   "source": [
    "df1.head(3)"
   ]
  },
  {
   "cell_type": "markdown",
   "id": "dba5a455",
   "metadata": {},
   "source": [
    "The columns are being truncated and are hard to read. The following code fixes that:"
   ]
  },
  {
   "cell_type": "code",
   "execution_count": null,
   "id": "c614c0f5",
   "metadata": {},
   "outputs": [],
   "source": [
    "pd.set_option('display.max_colwidth', None) "
   ]
  },
  {
   "cell_type": "markdown",
   "id": "8430326e",
   "metadata": {},
   "source": [
    "Let's take a look at the CSVs again. Both files have a column called `Manifest`. However, they are not in the same order."
   ]
  },
  {
   "cell_type": "code",
   "execution_count": null,
   "id": "d0b8a98e",
   "metadata": {},
   "outputs": [],
   "source": [
    "df1.head(3)"
   ]
  },
  {
   "cell_type": "code",
   "execution_count": null,
   "id": "4207755f",
   "metadata": {},
   "outputs": [],
   "source": [
    "df2.head(3)"
   ]
  },
  {
   "cell_type": "markdown",
   "id": "b1e7d0df",
   "metadata": {},
   "source": [
    "## 3. Merge the files\n",
    "\n",
    "We want a single CSV that has all three columns for `Title`, `Manifest`, and `Image`. For this task, we can call the pandas function `merge` and specify the column `manifest` as the matching field."
   ]
  },
  {
   "cell_type": "code",
   "execution_count": 4,
   "id": "f02e78a6",
   "metadata": {},
   "outputs": [],
   "source": [
    "# Merge the two dataframes based on the \"Manifest\" column\n",
    "merged_df = pd.merge(df1, df2, on='ID')"
   ]
  },
  {
   "cell_type": "code",
   "execution_count": null,
   "id": "f9507db0",
   "metadata": {},
   "outputs": [],
   "source": [
    "merged_df.head(3)"
   ]
  },
  {
   "cell_type": "code",
   "execution_count": 5,
   "id": "4b97d527",
   "metadata": {},
   "outputs": [],
   "source": [
    "# Write the merged dataframe to a new CSV file\n",
    "merged_df.to_csv('merged_file.csv', index=False)"
   ]
  },
  {
   "cell_type": "code",
   "execution_count": null,
   "id": "34fe8579",
   "metadata": {},
   "outputs": [],
   "source": []
  }
 ],
 "metadata": {
  "kernelspec": {
   "display_name": "Python 3 (ipykernel)",
   "language": "python",
   "name": "python3"
  },
  "language_info": {
   "codemirror_mode": {
    "name": "ipython",
    "version": 3
   },
   "file_extension": ".py",
   "mimetype": "text/x-python",
   "name": "python",
   "nbconvert_exporter": "python",
   "pygments_lexer": "ipython3",
   "version": "3.8.16"
  }
 },
 "nbformat": 4,
 "nbformat_minor": 5
}
