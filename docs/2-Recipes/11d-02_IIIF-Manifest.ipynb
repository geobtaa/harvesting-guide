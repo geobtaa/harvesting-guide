{
 "cells": [
  {
   "cell_type": "markdown",
   "id": "9edaebb0",
   "metadata": {},
   "source": [
    "# Flatten a batch IIIF manifests (nested JSONs) and write to CSV\n",
    "\n",
    "**Purpose: This script will read a batch of IIIF JSONs, flatten them, and write them to a CSV. \n",
    "\n",
    "** Note: This will lump all the subsections into single fields and the user will still need to split them. \n"
   ]
  },
  {
   "cell_type": "markdown",
   "id": "8cefbd52",
   "metadata": {},
   "source": [
    "Pre-work: Download all of the JSONs to a local folder using WGET or a browser plugin.  If you gather a list of the JSONs into a csv called \"filename.csv\", this syntax will work: \n",
    "`wget -i filename.csv`"
   ]
  },
  {
   "cell_type": "markdown",
   "id": "87a33c67",
   "metadata": {},
   "source": [
    "## 1. Import python modules"
   ]
  },
  {
   "cell_type": "code",
   "execution_count": 1,
   "id": "cf654768",
   "metadata": {},
   "outputs": [],
   "source": [
    "import csv\n",
    "import json\n",
    "import os\n",
    "import pandas as pd"
   ]
  },
  {
   "cell_type": "markdown",
   "id": "8b8083b1",
   "metadata": {},
   "source": [
    "## 2. Declare the paths and file names\n",
    "\n",
    "Put a folder of the JSONs into this directory. They can be nested."
   ]
  },
  {
   "cell_type": "code",
   "execution_count": 2,
   "id": "042cb274",
   "metadata": {},
   "outputs": [],
   "source": [
    "json_path = r\"\" # enter the name of the folder\n",
    "csv_name = \"\" # create a name for the output CSV without the .csv extension"
   ]
  },
  {
   "cell_type": "markdown",
   "id": "979e4301",
   "metadata": {},
   "source": [
    "## 3. Load the files into a pandas DataFrame"
   ]
  },
  {
   "cell_type": "code",
   "execution_count": 3,
   "id": "d7454688",
   "metadata": {},
   "outputs": [],
   "source": [
    "dataset = [] # empty list\n",
    "\n",
    "# through all items, format and append to dataset list\n",
    "for path, dir, files in os.walk(json_path):\n",
    "    for filename in files:\n",
    "        if filename.endswith(\".json\"):\n",
    "            file_path = os.path.join(path, filename)\n",
    "            json_file_open = open(file_path, 'rb')\n",
    "            data = json_file_open.read().decode('utf-8', errors='ignore')\n",
    "            loaded = json.loads(data)\n",
    "            dataset.append(loaded)\n",
    "            \n",
    "df = pd.DataFrame(dataset) # convert dataset into dataframe\n",
    "# print(df)"
   ]
  },
  {
   "cell_type": "markdown",
   "id": "ec62bbd2",
   "metadata": {},
   "source": [
    "4. Use the json_normalize function to flatten the files."
   ]
  },
  {
   "cell_type": "code",
   "execution_count": 4,
   "id": "b7e114cb",
   "metadata": {},
   "outputs": [],
   "source": [
    "# flatten the JSON data\n",
    "new_df = pd.json_normalize(df)\n"
   ]
  },
  {
   "cell_type": "markdown",
   "id": "3487bcf0",
   "metadata": {},
   "source": [
    "## 5. Write to a CSV file"
   ]
  },
  {
   "cell_type": "code",
   "execution_count": 5,
   "id": "a5842da5",
   "metadata": {},
   "outputs": [],
   "source": [
    "df.to_csv(\"{}.csv\".format(csv_name))"
   ]
  }
 ],
 "metadata": {
  "kernelspec": {
   "display_name": "Python 3 (ipykernel)",
   "language": "python",
   "name": "python3"
  },
  "language_info": {
   "codemirror_mode": {
    "name": "ipython",
    "version": 3
   },
   "file_extension": ".py",
   "mimetype": "text/x-python",
   "name": "python",
   "nbconvert_exporter": "python",
   "pygments_lexer": "ipython3",
   "version": "3.9.15"
  }
 },
 "nbformat": 4,
 "nbformat_minor": 5
}
