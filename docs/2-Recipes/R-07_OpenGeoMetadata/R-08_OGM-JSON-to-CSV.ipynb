{
 "cells": [
  {
   "cell_type": "markdown",
   "id": "9edaebb0",
   "metadata": {},
   "source": [
    "# Transform GeoBlacklight JSONs into a CSV (Wisconsin)\n",
    "\n",
    "**Purpose: This script will read a batch of GeoBlacklight metadata JSON files submitted by the University of Wisconsin and tranform them into a single CSV.** \n",
    "\n",
    "Metadata records in the [GeoBlacklight](https://opengeometadata.org/docs/gbl-1.0) or [OpenGeoMetadata](https://opengeometadata.org/docs/ogm-aardvark) standards are frequently shared as batches of JSON files. The entire [OpenGeoMetadata organization](https://github.com/OpenGeoMetadata) contains repositories full of hundreds of thousands of GeoBlacklight JSONs.\n",
    "\n",
    "In order to ingest these into the BTAA Geoportal, we need to transform them into a CSV.  \n"
   ]
  },
  {
   "cell_type": "markdown",
   "id": "87a33c67",
   "metadata": {},
   "source": [
    "## 1. Import python modules"
   ]
  },
  {
   "cell_type": "code",
   "execution_count": 1,
   "id": "cf654768",
   "metadata": {},
   "outputs": [],
   "source": [
    "import csv\n",
    "import json\n",
    "import os\n",
    "import pandas as pd"
   ]
  },
  {
   "cell_type": "markdown",
   "id": "8b8083b1",
   "metadata": {},
   "source": [
    "## 2. Declare the paths and file names\n",
    "\n",
    "Put a folder of the JSONs into this directory. They can be nested."
   ]
  },
  {
   "cell_type": "code",
   "execution_count": 2,
   "id": "042cb274",
   "metadata": {},
   "outputs": [],
   "source": [
    "json_path = r\" \" # enter the name of the folder\n",
    "csv_name = \" \" # create a name for the output CSV without the .csv extension"
   ]
  },
  {
   "cell_type": "markdown",
   "id": "979e4301",
   "metadata": {},
   "source": [
    "## 3. Load the files into a pandas DataFrame"
   ]
  },
  {
   "cell_type": "code",
   "execution_count": 3,
   "id": "d7454688",
   "metadata": {},
   "outputs": [],
   "source": [
    "dataset = [] # empty list\n",
    "\n",
    "# through all items, format and append to dataset list\n",
    "for path, dir, files in os.walk(json_path):\n",
    "    for filename in files:\n",
    "        if filename.endswith(\".json\"):\n",
    "            file_path = os.path.join(path, filename)\n",
    "            json_file_open = open(file_path, 'rb')\n",
    "            data = json_file_open.read().decode('utf-8', errors='ignore')\n",
    "            loaded = json.loads(data)\n",
    "            dataset.append(loaded)\n",
    "            \n",
    "df = pd.DataFrame(dataset) # convert dataset into dataframe"
   ]
  },
  {
   "cell_type": "markdown",
   "id": "a69b57ef",
   "metadata": {},
   "source": [
    "## 4. Edit the values of various fields"
   ]
  },
  {
   "cell_type": "code",
   "execution_count": 4,
   "id": "b9dc6575",
   "metadata": {},
   "outputs": [],
   "source": [
    "# return the first value of a multivalued cell;this removes the []\n",
    "df['dc_creator_sm']=df['dc_creator_sm'].str[0]\n",
    "df['dc_subject_sm']=df['dc_subject_sm'].str[0]\n",
    "\n",
    "# remove brackets from Temporal Coverage which is a mix of single values and lists\n",
    "# other methods like split or .str[0] return weird results because of the mixed values\n",
    "# .str.join('') takes each item, whether a list or a single character, and joins them with nothing in between\n",
    "df['dct_temporal_sm']=df['dct_temporal_sm'].str.join('')\n",
    "\n",
    "# Split solr_geom coordinates and reorder from WENS to WSEN\n",
    "df[['w', 'e','n','s']] = df['solr_geom'].str.strip('ENVELOPE()').str.split(',', expand=True)\n",
    "df['Bounding Box'] = df[['w', 's','e','n']].agg(', '.join, axis=1) \n",
    "\n",
    "#Convert Geometry Type to Resource Type value\n",
    "df['Resource Type'] = df['layer_geom_type_s'].astype(str) + ' data'\n",
    "\n",
    "# Create Date Range field\n",
    "df['Date Range'] = df['dct_temporal_sm'].astype(str) +'-' + df['dct_temporal_sm'].astype(str) \n",
    "\n",
    "\n",
    "# To do: figure out how to split the key:value pairs in the references cells\n",
    "# df['dct_references_s'] = df['dct_references_s'].str.split(',', expand=True)"
   ]
  },
  {
   "cell_type": "markdown",
   "id": "3080a2f7",
   "metadata": {},
   "source": [
    "## 5. Remove unnecessary columns"
   ]
  },
  {
   "cell_type": "code",
   "execution_count": 5,
   "id": "02c55c06",
   "metadata": {},
   "outputs": [],
   "source": [
    "df = df.drop(columns=[\n",
    "    'geoblacklight_version',\n",
    "    'layer_modified_dt', \n",
    "    'thumbnail_path_ss',\n",
    "    'w','e','n','s', \n",
    "    'layer_id_s',\n",
    "    'solr_year_i',\n",
    "    'layer_geom_type_s',\n",
    "    'solr_geom'\n",
    "])"
   ]
  },
  {
   "cell_type": "markdown",
   "id": "06042ee7",
   "metadata": {},
   "source": [
    "## 5. Rename  columns"
   ]
  },
  {
   "cell_type": "code",
   "execution_count": 6,
   "id": "b5c8d770",
   "metadata": {},
   "outputs": [],
   "source": [
    "df = df.rename(columns={\n",
    "    'dc_title_s': 'Title', \n",
    "    'dc_description_s': 'Description',\n",
    "    'dc_creator_sm': 'Creator',\n",
    "    'dct_issued_s': 'Date Issued',\n",
    "    'dc_rights_s' : 'Access Rights',\n",
    "    'dc_format_s': 'Format',\n",
    "    'layer_slug_s' : 'ID',\n",
    "    'dc_identifier_s' : 'Identifier',\n",
    "    'dc_language_s' : 'Language',\n",
    "    'dct_provenance_s' : 'Provider',\n",
    "    'dc_publisher_s' : 'Publisher',\n",
    "    'dc_publisher_sm' : 'Publisher',\n",
    "    'dc_source_sm' : 'Source',\n",
    "    'dct_spatial_sm' : 'Spatial Coverage',\n",
    "    'dc_subject_sm' : 'Subject',\n",
    "    'dct_temporal_sm' : 'Temporal Coverage',\n",
    "})\n"
   ]
  },
  {
   "cell_type": "markdown",
   "id": "3487bcf0",
   "metadata": {},
   "source": [
    "## 6. Write to a CSV file"
   ]
  },
  {
   "cell_type": "code",
   "execution_count": 7,
   "id": "a5842da5",
   "metadata": {},
   "outputs": [],
   "source": [
    "df.to_csv(\"{}.csv\".format(csv_name))"
   ]
  }
 ],
 "metadata": {
  "kernelspec": {
   "display_name": "Python 3 (ipykernel)",
   "language": "python",
   "name": "python3"
  },
  "language_info": {
   "codemirror_mode": {
    "name": "ipython",
    "version": 3
   },
   "file_extension": ".py",
   "mimetype": "text/x-python",
   "name": "python",
   "nbconvert_exporter": "python",
   "pygments_lexer": "ipython3",
   "version": "3.9.15"
  }
 },
 "nbformat": 4,
 "nbformat_minor": 5
}
