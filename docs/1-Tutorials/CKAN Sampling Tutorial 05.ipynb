{
 "cells": [
  {
   "cell_type": "markdown",
   "id": "f0caeaf6",
   "metadata": {},
   "source": [
    "## CKAN JSON Structure and Harvesting Sample Walkthrough Guide"
   ]
  },
  {
   "cell_type": "markdown",
   "id": "dbe5cd73",
   "metadata": {},
   "source": [
    "- This guide will assist users in deconstructing the Comprehensive Knowledge Archive Network JavaScript Object Notation (CKAN JSON) site file structure and Application Programming Interface (API) design and how they are created through harvesting from selected portals.  \n",
    "- A simple harvest sample will be presented to simulate the larger process and understand how the harvesting-metadata workflow is done."
   ]
  },
  {
   "cell_type": "code",
   "execution_count": null,
   "id": "a51c71f5",
   "metadata": {},
   "outputs": [],
   "source": []
  }
 ],
 "metadata": {
  "kernelspec": {
   "display_name": "Python 3 (ipykernel)",
   "language": "python",
   "name": "python3"
  },
  "language_info": {
   "codemirror_mode": {
    "name": "ipython",
    "version": 3
   },
   "file_extension": ".py",
   "mimetype": "text/x-python",
   "name": "python",
   "nbconvert_exporter": "python",
   "pygments_lexer": "ipython3",
   "version": "3.9.12"
  }
 },
 "nbformat": 4,
 "nbformat_minor": 5
}
