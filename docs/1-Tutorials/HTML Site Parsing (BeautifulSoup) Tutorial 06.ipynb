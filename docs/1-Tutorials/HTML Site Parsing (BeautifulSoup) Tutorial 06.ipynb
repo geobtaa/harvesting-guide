{
 "cells": [
  {
   "cell_type": "markdown",
   "id": "59c9734b",
   "metadata": {},
   "source": [
    "# HTML Site Parsing (using BeautifulSoup module) with UMedia\n",
    "- This following tutorial will guide users through Hyper Text Mark-Up Language (HTML) site parsing using the BeautifulSoup Python module with BTAA's UMedia portal site.\n",
    "- In addition how to install the BeautifulSoup module, scan and list web pages, return titles, descriptions, and dates, then writing these to CSV format."
   ]
  },
  {
   "cell_type": "markdown",
   "id": "8b497249",
   "metadata": {},
   "source": [
    "## 1. Install Module BeautifulSoup and Import Neccessary Modules"
   ]
  },
  {
   "cell_type": "code",
   "execution_count": 4,
   "id": "4fd2e46a",
   "metadata": {},
   "outputs": [
    {
     "name": "stdout",
     "output_type": "stream",
     "text": [
      "Collecting package metadata (current_repodata.json): done\n",
      "Solving environment: failed with initial frozen solve. Retrying with flexible solve.\n",
      "Collecting package metadata (repodata.json): done\n",
      "Solving environment: failed with initial frozen solve. Retrying with flexible solve.\n",
      "\n",
      "PackagesNotFoundError: The following packages are not available from current channels:\n",
      "\n",
      "  - beautifulsoup\n",
      "\n",
      "Current channels:\n",
      "\n",
      "  - https://conda.anaconda.org/conda-forge/osx-64\n",
      "  - https://conda.anaconda.org/conda-forge/noarch\n",
      "  - https://conda.anaconda.org/conda/osx-64\n",
      "  - https://conda.anaconda.org/conda/noarch\n",
      "  - https://repo.anaconda.com/pkgs/main/osx-64\n",
      "  - https://repo.anaconda.com/pkgs/main/noarch\n",
      "  - https://repo.anaconda.com/pkgs/r/osx-64\n",
      "  - https://repo.anaconda.com/pkgs/r/noarch\n",
      "\n",
      "To search for alternate channels that may provide the conda package you're\n",
      "looking for, navigate to\n",
      "\n",
      "    https://anaconda.org\n",
      "\n",
      "and use the search bar at the top of the page.\n",
      "\n",
      "\n",
      "\n",
      "Note: you may need to restart the kernel to use updated packages.\n"
     ]
    }
   ],
   "source": [
    "# Use one of the following:\n",
    "\n",
    "# pip install BeautifulSoup\n",
    "\n",
    "# or  \n",
    "\n",
    "# conda install BeautifulSoup"
   ]
  },
  {
   "cell_type": "code",
   "execution_count": 3,
   "id": "37cf3d74",
   "metadata": {},
   "outputs": [],
   "source": [
    "import requests\n",
    "import urllib.request \n",
    "import csv\n",
    "import json\n",
    "import os\n",
    "from bs4 import BeautifulSoup as bs"
   ]
  },
  {
   "cell_type": "markdown",
   "id": "9cf5abf3",
   "metadata": {},
   "source": [
    "## 2. Set directory to drive"
   ]
  },
  {
   "cell_type": "code",
   "execution_count": 4,
   "id": "13a8e54c",
   "metadata": {},
   "outputs": [
    {
     "name": "stdout",
     "output_type": "stream",
     "text": [
      "drive files\n"
     ]
    }
   ],
   "source": [
    "HTML_path = r\"HTML\" # point to the folder path\n",
    "csv_name = \"HTMLCSV\" # name for the csv to be created\n",
    "\n",
    "print(\"drive files\")"
   ]
  },
  {
   "cell_type": "markdown",
   "id": "94a392c0",
   "metadata": {},
   "source": [
    "## 3. Creating an empty list"
   ]
  },
  {
   "cell_type": "code",
   "execution_count": 5,
   "id": "e47ff00b",
   "metadata": {},
   "outputs": [
    {
     "name": "stdout",
     "output_type": "stream",
     "text": [
      "[]\n"
     ]
    }
   ],
   "source": [
    "JSONMetadata = []\n",
    "\n",
    "print(JSONMetadata)"
   ]
  },
  {
   "cell_type": "markdown",
   "id": "6875aa7e",
   "metadata": {},
   "source": [
    "## 4. Opening JSON(s) and Populate them to empty list"
   ]
  },
  {
   "cell_type": "code",
   "execution_count": 6,
   "id": "123a0c50",
   "metadata": {},
   "outputs": [
    {
     "ename": "NameError",
     "evalue": "name 'json_path' is not defined",
     "output_type": "error",
     "traceback": [
      "\u001b[0;31m---------------------------------------------------------------------------\u001b[0m",
      "\u001b[0;31mNameError\u001b[0m                                 Traceback (most recent call last)",
      "Input \u001b[0;32mIn [6]\u001b[0m, in \u001b[0;36m<cell line: 1>\u001b[0;34m()\u001b[0m\n\u001b[0;32m----> 1\u001b[0m \u001b[38;5;28;01mfor\u001b[39;00m path, \u001b[38;5;28mdir\u001b[39m, files \u001b[38;5;129;01min\u001b[39;00m os\u001b[38;5;241m.\u001b[39mwalk(\u001b[43mjson_path\u001b[49m):\n\u001b[1;32m      2\u001b[0m     \u001b[38;5;28;01mfor\u001b[39;00m filename \u001b[38;5;129;01min\u001b[39;00m files:\n\u001b[1;32m      3\u001b[0m     \t\u001b[38;5;28;01mif\u001b[39;00m filename\u001b[38;5;241m.\u001b[39mendswith(\u001b[38;5;124m\"\u001b[39m\u001b[38;5;124m.json\u001b[39m\u001b[38;5;124m\"\u001b[39m):\n",
      "\u001b[0;31mNameError\u001b[0m: name 'json_path' is not defined"
     ]
    }
   ],
   "source": [
    "for path, dir, files in os.walk(json_path):\n",
    "    for filename in files:\n",
    "    \tif filename.endswith(\".json\"):\n",
    "            file_path = os.path.join(path, filename)\n",
    "            json_file_open = open(file_path, 'rb')\n",
    "            data = json_file_open.read().decode('utf-8', errors='ignore')\n",
    "            loaded = json.loads(data)\n",
    "            jsonMetadata.append(loaded)\n",
    "            print(JSONMetadata)"
   ]
  },
  {
   "cell_type": "markdown",
   "id": "c4ea68df",
   "metadata": {},
   "source": [
    "## 5. Return Title, Descriptions and Dates "
   ]
  },
  {
   "cell_type": "code",
   "execution_count": null,
   "id": "4b2c2859",
   "metadata": {},
   "outputs": [],
   "source": [
    "from urllib import request\n",
    "url = \"http://www.bbc.co.uk/news/election-us-2016-35791008\"\n",
    "html = request.urlopen(url).read().decode('utf8')\n",
    "html[:60]\n",
    "\n",
    "from bs4 import BeautifulSoup\n",
    "soup = BeautifulSoup(html, 'html.parser')\n",
    "title = soup.find('title')\n",
    "\n",
    "print(title) # Prints the tag\n",
    "print(title.string) # Prints the tag string content"
   ]
  },
  {
   "cell_type": "code",
   "execution_count": null,
   "id": "1c3a38d9",
   "metadata": {},
   "outputs": [],
   "source": [
    "from bs4 import BeautifulSoup\n",
    "\n",
    "import requests\n",
    "\n",
    "url=\"https://en.wikipedia.org/wiki/List_of_countries_by_GDP_(nominal)\"\n",
    "\n",
    "# Make a GET request to fetch the raw HTML content\n",
    "\n",
    "html_content = requests.get(url).text\n",
    "\n",
    "\n",
    "# Parse the html content\n",
    "\n",
    "soup = BeautifulSoup(html_content, \"lxml\")\n",
    "\n",
    "print(soup.prettify()) # print the parsed data of html"
   ]
  },
  {
   "cell_type": "code",
   "execution_count": null,
   "id": "8fe62e23",
   "metadata": {},
   "outputs": [],
   "source": [
    "from bs4 import BeautifulSoup\n",
    ">>> s = '''<time class=\"jlist_date_image\" datetime=\"2015-04-02 14:30:12\">Idag <span class=\"list_date\">14:30</span></time>'''\n",
    ">>> soup = BeautifulSoup(s)\n",
    ">>> for i in soup.findAll('time'):\n",
    "        if i.has_attr('datetime'):\n",
    "            print(i['datetime'])"
   ]
  },
  {
   "cell_type": "markdown",
   "id": "498f3499",
   "metadata": {},
   "source": [
    "## 6. Print Results to CSV and Inspect"
   ]
  },
  {
   "cell_type": "code",
   "execution_count": null,
   "id": "079d65cd",
   "metadata": {},
   "outputs": [],
   "source": [
    "with open('thefile.csv', 'rb') as f:\n",
    "  data = list(csv.reader(f))\n",
    "\n",
    "import collections\n",
    "counter = collections.defaultdict(int)\n",
    "for row in data:\n",
    "    counter[row[0]] += 1\n",
    "\n",
    "\n",
    "writer = csv.writer(open(\"/path/to/my/csv/file\", 'w'))\n",
    "for row in data:\n",
    "    if counter[row[0]] >= 4:\n",
    "        writer.writerow(row)"
   ]
  }
 ],
 "metadata": {
  "kernelspec": {
   "display_name": "Python 3 (ipykernel)",
   "language": "python",
   "name": "python3"
  },
  "language_info": {
   "codemirror_mode": {
    "name": "ipython",
    "version": 3
   },
   "file_extension": ".py",
   "mimetype": "text/x-python",
   "name": "python",
   "nbconvert_exporter": "python",
   "pygments_lexer": "ipython3",
   "version": "3.9.12"
  }
 },
 "nbformat": 4,
 "nbformat_minor": 5
}
