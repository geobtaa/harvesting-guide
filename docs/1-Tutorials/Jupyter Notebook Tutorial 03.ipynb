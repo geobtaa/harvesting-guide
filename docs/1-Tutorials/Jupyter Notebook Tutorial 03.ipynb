{
 "cells": [
  {
   "cell_type": "markdown",
   "id": "9e475a1a",
   "metadata": {},
   "source": [
    "# Jupyter Notebook Walkthrough Guide"
   ]
  },
  {
   "cell_type": "markdown",
   "id": "7d2b35c9",
   "metadata": {},
   "source": [
    "- This guide will show users how to install Jupyter Notebooks on their machines locally via their command line terminal and avail users to running a notebook, how cells function with code, markdown semantics and other tid-bits and basic fundementals."
   ]
  },
  {
   "cell_type": "markdown",
   "id": "bd97bbaf",
   "metadata": {},
   "source": [
    "# To install Jupyter Notebook on your machine, simply use:\n",
    "## pip install jupyter notebook or conda install jupyter notebook"
   ]
  },
  {
   "cell_type": "markdown",
   "id": "9bd5a09e",
   "metadata": {},
   "source": [
    "## Next, is understanding the structure of a Jupyter Notebook and how code and markdown cells differ."
   ]
  },
  {
   "cell_type": "code",
   "execution_count": 1,
   "id": "9080968a",
   "metadata": {},
   "outputs": [
    {
     "ename": "SyntaxError",
     "evalue": "invalid syntax (40090758.py, line 1)",
     "output_type": "error",
     "traceback": [
      "\u001b[0;36m  Input \u001b[0;32mIn [1]\u001b[0;36m\u001b[0m\n\u001b[0;31m    This is a code cell\u001b[0m\n\u001b[0m              ^\u001b[0m\n\u001b[0;31mSyntaxError\u001b[0m\u001b[0;31m:\u001b[0m invalid syntax\n"
     ]
    }
   ],
   "source": [
    "This is a code cell"
   ]
  },
  {
   "cell_type": "markdown",
   "id": "e3ed80f7",
   "metadata": {},
   "source": [
    "# This a markdown cell, Markdown is an easy-to-use markup language that is used with plain text to add formatting elements."
   ]
  },
  {
   "cell_type": "code",
   "execution_count": null,
   "id": "bf20a283",
   "metadata": {},
   "outputs": [],
   "source": [
    "Code cells let us set values, assignments, and variables and parameters to run scripts and are good partitions in comparison to Python, which has a all code in one straight line."
   ]
  },
  {
   "cell_type": "code",
   "execution_count": 3,
   "id": "4ff0a050",
   "metadata": {},
   "outputs": [
    {
     "name": "stdout",
     "output_type": "stream",
     "text": [
      "hello world\n"
     ]
    }
   ],
   "source": [
    "x = 'hello world' # x is the value, = is the assignment, and 'hello world' is the variable in a string\n",
    "print(x) # Example of ran code, can use Shift-Enter to run a cell, and same goes for Markdown too!"
   ]
  },
  {
   "cell_type": "code",
   "execution_count": 4,
   "id": "50d0c3e5",
   "metadata": {},
   "outputs": [],
   "source": [
    "# This is a comment, comments are useful for describing lines of code and what is happening within complex operations."
   ]
  },
  {
   "cell_type": "code",
   "execution_count": null,
   "id": "c0460f31",
   "metadata": {},
   "outputs": [],
   "source": [
    "<---- when the square bracket has nothing inside of it, the cell is not ran."
   ]
  },
  {
   "cell_type": "code",
   "execution_count": null,
   "id": "87820fde",
   "metadata": {},
   "outputs": [],
   "source": [
    "when the * is showing in the sqaure bracket, the celling is running.  Numbers mean how many times the cell has ran."
   ]
  },
  {
   "cell_type": "code",
   "execution_count": null,
   "id": "57687902",
   "metadata": {},
   "outputs": [],
   "source": [
    "In order to have the whole Jupyter Notebook run sucessfully, all code cells should be ran in tangent with what the script is trying to accomplish."
   ]
  },
  {
   "cell_type": "markdown",
   "id": "702bb7f2",
   "metadata": {},
   "source": [
    "# Back to Markdown"
   ]
  },
  {
   "cell_type": "markdown",
   "id": "e41738eb",
   "metadata": {},
   "source": [
    "## There are many functions of Markdown that help outline, divide, and encasplute key aspects of code."
   ]
  },
  {
   "cell_type": "markdown",
   "id": "cc54b70b",
   "metadata": {},
   "source": [
    "# Markdown has Three Headings, using pound sign ampersand, from # largest to ### smallest\n",
    "\n",
    "## Mid\n",
    "\n",
    "### Small"
   ]
  },
  {
   "cell_type": "markdown",
   "id": "dd8633bf",
   "metadata": {},
   "source": [
    "### To bold and italicise text; \n",
    "# **Bold:** \n",
    "\n",
    "use double astrik **\n",
    "\n",
    "# *second,*\n",
    "\n",
    "use single astrik *"
   ]
  },
  {
   "cell_type": "markdown",
   "id": "9d829727",
   "metadata": {},
   "source": [
    "- Hyphen serves for a bulleted list -"
   ]
  },
  {
   "cell_type": "markdown",
   "id": "71b0ad6a",
   "metadata": {},
   "source": [
    "> > Serves as a tab > with more > indents more"
   ]
  },
  {
   "cell_type": "markdown",
   "id": "1191b0bf",
   "metadata": {},
   "source": [
    "### You can highlight a certain file or document you're trying to explian with `` for example, `harvest.py`"
   ]
  },
  {
   "cell_type": "markdown",
   "id": "5c573c02",
   "metadata": {},
   "source": [
    "## Using good coding and markdown elements will help make code more appealing and create principles for other coders to follow!"
   ]
  },
  {
   "cell_type": "markdown",
   "id": "6af3015e",
   "metadata": {},
   "source": [
    "To learn more about Markdown, go to this link: https://www.markdownguide.org/getting-started/"
   ]
  },
  {
   "cell_type": "code",
   "execution_count": null,
   "id": "ca2a1fa7",
   "metadata": {},
   "outputs": [],
   "source": [
    "for\n",
    "with\n",
    "if\n",
    "in\n",
    "etc"
   ]
  }
 ],
 "metadata": {
  "kernelspec": {
   "display_name": "Python 3 (ipykernel)",
   "language": "python",
   "name": "python3"
  },
  "language_info": {
   "codemirror_mode": {
    "name": "ipython",
    "version": 3
   },
   "file_extension": ".py",
   "mimetype": "text/x-python",
   "name": "python",
   "nbconvert_exporter": "python",
   "pygments_lexer": "ipython3",
   "version": "3.9.12"
  }
 },
 "nbformat": 4,
 "nbformat_minor": 5
}
