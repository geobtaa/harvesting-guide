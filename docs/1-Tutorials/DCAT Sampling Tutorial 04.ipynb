{
 "cells": [
  {
   "cell_type": "markdown",
   "id": "24b36b87",
   "metadata": {},
   "source": [
    "## DCAT JSON Structure and Harvesting Sample Walkthrough Guide"
   ]
  },
  {
   "cell_type": "markdown",
   "id": "34cf1954",
   "metadata": {},
   "source": [
    "- This guide will assist users in deconstructing the Data Catalog Vocabulary in JavaScript Object Notation (DCAT JSON) file structure and Application Programming Interface (API) design and how they are created through harvesting from selected portals.  \n",
    "- A simple harvest sample will be presented to simulate the larger process and understand how the harvesting-metadata workflow is done."
   ]
  },
  {
   "cell_type": "code",
   "execution_count": 1,
   "id": "2f6bf33e",
   "metadata": {},
   "outputs": [],
   "source": [
    "## DCAT JSON File Stcture and API Breakdown"
   ]
  },
  {
   "cell_type": "code",
   "execution_count": null,
   "id": "e0efd011",
   "metadata": {},
   "outputs": [],
   "source": []
  }
 ],
 "metadata": {
  "kernelspec": {
   "display_name": "Python 3 (ipykernel)",
   "language": "python",
   "name": "python3"
  },
  "language_info": {
   "codemirror_mode": {
    "name": "ipython",
    "version": 3
   },
   "file_extension": ".py",
   "mimetype": "text/x-python",
   "name": "python",
   "nbconvert_exporter": "python",
   "pygments_lexer": "ipython3",
   "version": "3.9.12"
  }
 },
 "nbformat": 4,
 "nbformat_minor": 5
}
