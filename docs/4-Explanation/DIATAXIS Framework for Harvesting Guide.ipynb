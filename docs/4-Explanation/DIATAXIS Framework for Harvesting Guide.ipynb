{
 "cells": [
  {
   "cell_type": "markdown",
   "id": "25331831",
   "metadata": {},
   "source": [
    "# -- DIATAXIS Framework for Inspiration for Harvesting Guide --"
   ]
  },
  {
   "cell_type": "markdown",
   "id": "06a8aa75",
   "metadata": {},
   "source": [
    "## Diátaxis identifies four modes of documentation - tutorials, how-to guides, technical reference and explanation. It derives its structure from the relationship between them.\n",
    "\n",
    "- In Diátaxis, each of these modes (or types) answers to a different user need, fulfils a different purpose and requires a different approach to its creation.\n",
    "\n",
    "- Technical documentation should be structured explicitly around these four types, and should keep them all separate and distinct from each other.\n",
    "\n",
    "- In other words, what we call documentation is fundamentally not one thing, but four. Understanding the implications of this, and how those four different things work, can help improve most documentation."
   ]
  },
  {
   "cell_type": "markdown",
   "id": "a66950ba",
   "metadata": {},
   "source": [
    "# 1. Tutorials \n",
    "\n",
    "# *Tutorials are lessons that take the reader by the hand through a series of steps to complete a project of some kind. Tutorials are learning-oriented.*"
   ]
  },
  {
   "cell_type": "markdown",
   "id": "c2528d68",
   "metadata": {},
   "source": [
    "### A tutorial must help a beginner achieve basic competence with a product, so that they can go on to use the product for their own purposes.\n",
    "\n",
    "### A tutorial also needs to show the learner that they can be successful with the product - by having them do something both meaningful and attainable."
   ]
  },
  {
   "cell_type": "markdown",
   "id": "86d6170e",
   "metadata": {},
   "source": [
    "### Having completed a tutorial, the learner should be in a position to start to make sense of the rest of the documentation, and the product itself."
   ]
  },
  {
   "cell_type": "markdown",
   "id": "e5e4de49",
   "metadata": {},
   "source": [
    "# 2. 'Recipes' How-To-Guides\n",
    "\n",
    "# *How-to-guides are directions that take the reader through the steps required to solve a real-world problem. How-to guides are goal-oriented.*"
   ]
  },
  {
   "cell_type": "markdown",
   "id": "615e1f12",
   "metadata": {},
   "source": [
    "### How-to guides matter not just because users need to be able to accomplish things: the list of how-to guides in your documentation helps frame the picture of what your product can actually do. A rich list of how-to guides is an encouraging suggestion of a product’s capabilities.\n",
    "\n",
    "### If they’re well-written and address the right subjects, you’re likely to find that how-to guides are the most-read sections of your documentation.\n",
    "\n",
    "### Consider a recipe, an excellent model for a how-to guide. It’s not the responsibility of a recipe to teach you how to make something.  Even following a recipe requires at least basic competence. Someone who has never cooked before should not be expected to follow a recipe with success, so a recipe is not a substitute for a cooking lesson."
   ]
  },
  {
   "cell_type": "markdown",
   "id": "5c31d14b",
   "metadata": {},
   "source": [
    "# 3. 'Technical' Reference\n",
    "\n",
    "# *Reference guides are technical descriptions of the machinery and how to operate it. Reference material is information-oriented.*"
   ]
  },
  {
   "cell_type": "markdown",
   "id": "e3f82ff2",
   "metadata": {},
   "source": [
    "### The only purpose of a reference guide is to describe, as succinctly as possible, and in an orderly way. Whereas the content of tutorials and how-to guides are led by needs of the user, reference material is led by the product it describes.\n",
    "\n",
    "### Reference material should be austere and to the point. One hardly reads reference material; one consults it. There should be no doubt or ambiguity in reference; it should be wholly authoritative.\n",
    "\n",
    "### Although reference should not attempt to show how to perform tasks, it can and often needs to include a description of how something works or the correct way to use it."
   ]
  },
  {
   "cell_type": "markdown",
   "id": "e9c99a57",
   "metadata": {},
   "source": [
    "# 4. Explanation \n",
    "\n",
    "# *Explanation is discussion that clarifies and illuminates a particular topic. Explanation is understanding-oriented.*"
   ]
  },
  {
   "cell_type": "markdown",
   "id": "d6146afe",
   "metadata": {},
   "source": [
    "### Explanation clarifies, deepens and broadens the reader’s understanding of a subject. It’s not concerned with what the user might be doing, like tutorials and how-to guides. Explanation joins things together. It’s documentation that it makes sense to read while away from the product itself.\n",
    "\n",
    "### In the case of explanation, it’s useful to have a real or imagined why question to serve as a prompt. Otherwise, you simply have to draw some lines that mark out a reasonable area and be satisfied with that."
   ]
  },
  {
   "cell_type": "markdown",
   "id": "d590ebe6",
   "metadata": {},
   "source": [
    "> **Credit: https://diataxis.fr/**"
   ]
  }
 ],
 "metadata": {
  "kernelspec": {
   "display_name": "Python 3 (ipykernel)",
   "language": "python",
   "name": "python3"
  },
  "language_info": {
   "codemirror_mode": {
    "name": "ipython",
    "version": 3
   },
   "file_extension": ".py",
   "mimetype": "text/x-python",
   "name": "python",
   "nbconvert_exporter": "python",
   "pygments_lexer": "ipython3",
   "version": "3.9.12"
  }
 },
 "nbformat": 4,
 "nbformat_minor": 5
}
