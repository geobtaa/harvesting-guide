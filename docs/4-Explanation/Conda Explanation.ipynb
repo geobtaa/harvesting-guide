{
 "cells": [
  {
   "cell_type": "markdown",
   "id": "55f542b0",
   "metadata": {},
   "source": [
    "# -- Brief Conda Explanation and Reference --"
   ]
  },
  {
   "cell_type": "markdown",
   "id": "f7d19369",
   "metadata": {},
   "source": [
    "## What is Conda?"
   ]
  },
  {
   "cell_type": "markdown",
   "id": "c35d4337",
   "metadata": {},
   "source": [
    "### - Conda is an open source package management system and environment management system that runs on Windows, macOS, and Linux. Conda quickly installs, runs and updates packages and their dependencies. Conda easily creates, saves, loads and switches between environments on your local computer. It was created for Python programs, but it can package and distribute software for any language."
   ]
  },
  {
   "cell_type": "markdown",
   "id": "2296ea6d",
   "metadata": {},
   "source": [
    "## How is Conda useful for workspaces and packages?"
   ]
  },
  {
   "cell_type": "markdown",
   "id": "f3279117",
   "metadata": {},
   "source": [
    "### - Conda as a package manager helps you find and install packages. If you need a package that requires a different version of Python, you do not need to switch to a different environment manager, because conda is also an environment manager. With just a few commands, you can set up a totally separate environment to run that different version of Python, while continuing to run your usual version of Python in your normal environment."
   ]
  },
  {
   "cell_type": "markdown",
   "id": "6718705a",
   "metadata": {},
   "source": [
    "\n",
    "**For more information on Conda and environments, refer tp this website: \n",
    "https://docs.conda.io/projects/conda/en/stable/user-guide/index.html**"
   ]
  }
 ],
 "metadata": {
  "kernelspec": {
   "display_name": "Python 3 (ipykernel)",
   "language": "python",
   "name": "python3"
  },
  "language_info": {
   "codemirror_mode": {
    "name": "ipython",
    "version": 3
   },
   "file_extension": ".py",
   "mimetype": "text/x-python",
   "name": "python",
   "nbconvert_exporter": "python",
   "pygments_lexer": "ipython3",
   "version": "3.9.12"
  }
 },
 "nbformat": 4,
 "nbformat_minor": 5
}
